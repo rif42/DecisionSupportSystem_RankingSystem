{
 "cells": [
  {
   "attachments": {},
   "cell_type": "markdown",
   "metadata": {},
   "source": [
    "The calculation steps using the Simple Additive Weighting (SAW) method:   \n",
    "1. Determining Alternative (Ai) \n",
    "2. Determine the criteria to be used as a reference in decision making (Cj) \n",
    "3. Determine the preference weight or level of importance (W) for each criterion \n",
    "4. Determine the Match Value of each criterion \n",
    "5. Make a decision matrix (x) obtained from the suitability rating for each alternative (Ai) with each criterion (Cj). \n",
    "6. Perform the normalization step of the decision matrix (x) by calculating the value of the normalized performance rating (Rij) from the alternative (Ai) on the criteria (Cj)\n",
    "7. The result of normalization (Rij) forms a normalized matrix (R) \n",
    "8. The final result of the preference value (Vi) is obtained from the sum of the normalized matrix row elements (R) with the preference weights (W) corresponding to the matrix column elements (W). With: = rank for each alternative = weighted value of each criterion = normalized performance rating value."
   ]
  },
  {
   "cell_type": "markdown",
   "metadata": {},
   "source": [
    "# Dataset Analysis"
   ]
  },
  {
   "cell_type": "code",
   "execution_count": 2,
   "metadata": {},
   "outputs": [
    {
     "data": {
      "text/html": [
       "<div>\n",
       "<style scoped>\n",
       "    .dataframe tbody tr th:only-of-type {\n",
       "        vertical-align: middle;\n",
       "    }\n",
       "\n",
       "    .dataframe tbody tr th {\n",
       "        vertical-align: top;\n",
       "    }\n",
       "\n",
       "    .dataframe thead th {\n",
       "        text-align: right;\n",
       "    }\n",
       "</style>\n",
       "<table border=\"1\" class=\"dataframe\">\n",
       "  <thead>\n",
       "    <tr style=\"text-align: right;\">\n",
       "      <th></th>\n",
       "      <th>dosen</th>\n",
       "      <th>ta</th>\n",
       "      <th>nim</th>\n",
       "      <th>kdmk</th>\n",
       "      <th>nmmk</th>\n",
       "      <th>q1</th>\n",
       "      <th>q2</th>\n",
       "      <th>q3</th>\n",
       "      <th>q4</th>\n",
       "      <th>q5</th>\n",
       "      <th>q6</th>\n",
       "      <th>q7</th>\n",
       "      <th>q8</th>\n",
       "      <th>q9</th>\n",
       "      <th>q10</th>\n",
       "      <th>saran</th>\n",
       "    </tr>\n",
       "  </thead>\n",
       "  <tbody>\n",
       "    <tr>\n",
       "      <th>0</th>\n",
       "      <td>Prof. Dr. Ir EDI NOERSASONGKO, M.Kom</td>\n",
       "      <td>20221</td>\n",
       "      <td>A11.2017.10120</td>\n",
       "      <td>AF201703</td>\n",
       "      <td>TECHNOPRENEURSHIP</td>\n",
       "      <td>2</td>\n",
       "      <td>2</td>\n",
       "      <td>2</td>\n",
       "      <td>2</td>\n",
       "      <td>2</td>\n",
       "      <td>2</td>\n",
       "      <td>2</td>\n",
       "      <td>2</td>\n",
       "      <td>2</td>\n",
       "      <td>2</td>\n",
       "      <td>NaN</td>\n",
       "    </tr>\n",
       "    <tr>\n",
       "      <th>1</th>\n",
       "      <td>Prof. Dr. Ir EDI NOERSASONGKO, M.Kom</td>\n",
       "      <td>20221</td>\n",
       "      <td>A11.2017.10350</td>\n",
       "      <td>AF201703</td>\n",
       "      <td>TECHNOPRENEURSHIP</td>\n",
       "      <td>4</td>\n",
       "      <td>4</td>\n",
       "      <td>4</td>\n",
       "      <td>4</td>\n",
       "      <td>4</td>\n",
       "      <td>4</td>\n",
       "      <td>4</td>\n",
       "      <td>4</td>\n",
       "      <td>4</td>\n",
       "      <td>4</td>\n",
       "      <td>NaN</td>\n",
       "    </tr>\n",
       "    <tr>\n",
       "      <th>2</th>\n",
       "      <td>Prof. Dr. Ir EDI NOERSASONGKO, M.Kom</td>\n",
       "      <td>20221</td>\n",
       "      <td>A11.2018.11309</td>\n",
       "      <td>AF201703</td>\n",
       "      <td>TECHNOPRENEURSHIP</td>\n",
       "      <td>4</td>\n",
       "      <td>4</td>\n",
       "      <td>4</td>\n",
       "      <td>4</td>\n",
       "      <td>4</td>\n",
       "      <td>4</td>\n",
       "      <td>4</td>\n",
       "      <td>4</td>\n",
       "      <td>4</td>\n",
       "      <td>4</td>\n",
       "      <td>NaN</td>\n",
       "    </tr>\n",
       "    <tr>\n",
       "      <th>3</th>\n",
       "      <td>Prof. Dr. Ir EDI NOERSASONGKO, M.Kom</td>\n",
       "      <td>20221</td>\n",
       "      <td>A11.2019.11618</td>\n",
       "      <td>AF201703</td>\n",
       "      <td>TECHNOPRENEURSHIP</td>\n",
       "      <td>4</td>\n",
       "      <td>4</td>\n",
       "      <td>4</td>\n",
       "      <td>4</td>\n",
       "      <td>4</td>\n",
       "      <td>4</td>\n",
       "      <td>4</td>\n",
       "      <td>4</td>\n",
       "      <td>4</td>\n",
       "      <td>4</td>\n",
       "      <td>ok</td>\n",
       "    </tr>\n",
       "    <tr>\n",
       "      <th>4</th>\n",
       "      <td>Prof. Dr. Ir EDI NOERSASONGKO, M.Kom</td>\n",
       "      <td>20221</td>\n",
       "      <td>A11.2019.11622</td>\n",
       "      <td>AF201703</td>\n",
       "      <td>TECHNOPRENEURSHIP</td>\n",
       "      <td>4</td>\n",
       "      <td>4</td>\n",
       "      <td>4</td>\n",
       "      <td>4</td>\n",
       "      <td>4</td>\n",
       "      <td>4</td>\n",
       "      <td>4</td>\n",
       "      <td>4</td>\n",
       "      <td>4</td>\n",
       "      <td>4</td>\n",
       "      <td>NaN</td>\n",
       "    </tr>\n",
       "    <tr>\n",
       "      <th>...</th>\n",
       "      <td>...</td>\n",
       "      <td>...</td>\n",
       "      <td>...</td>\n",
       "      <td>...</td>\n",
       "      <td>...</td>\n",
       "      <td>...</td>\n",
       "      <td>...</td>\n",
       "      <td>...</td>\n",
       "      <td>...</td>\n",
       "      <td>...</td>\n",
       "      <td>...</td>\n",
       "      <td>...</td>\n",
       "      <td>...</td>\n",
       "      <td>...</td>\n",
       "      <td>...</td>\n",
       "      <td>...</td>\n",
       "    </tr>\n",
       "    <tr>\n",
       "      <th>20092</th>\n",
       "      <td>DIBYO ADI WIBOWO, S.Si., M.Si</td>\n",
       "      <td>20221</td>\n",
       "      <td>A11.2020.80018</td>\n",
       "      <td>A11.54508</td>\n",
       "      <td>STRATEGI ALGORITMA</td>\n",
       "      <td>4</td>\n",
       "      <td>3</td>\n",
       "      <td>3</td>\n",
       "      <td>4</td>\n",
       "      <td>4</td>\n",
       "      <td>4</td>\n",
       "      <td>4</td>\n",
       "      <td>4</td>\n",
       "      <td>4</td>\n",
       "      <td>4</td>\n",
       "      <td>Tidak ada</td>\n",
       "    </tr>\n",
       "    <tr>\n",
       "      <th>20093</th>\n",
       "      <td>DIBYO ADI WIBOWO, S.Si., M.Si</td>\n",
       "      <td>20221</td>\n",
       "      <td>A11.2020.80018</td>\n",
       "      <td>A11.54812</td>\n",
       "      <td>METODE NUMERIK</td>\n",
       "      <td>4</td>\n",
       "      <td>4</td>\n",
       "      <td>4</td>\n",
       "      <td>4</td>\n",
       "      <td>4</td>\n",
       "      <td>4</td>\n",
       "      <td>4</td>\n",
       "      <td>4</td>\n",
       "      <td>4</td>\n",
       "      <td>4</td>\n",
       "      <td>Tidak ada</td>\n",
       "    </tr>\n",
       "    <tr>\n",
       "      <th>20094</th>\n",
       "      <td>DEWI PERGIWATI, S.Kom., M.Kom</td>\n",
       "      <td>20221</td>\n",
       "      <td>A11.2018.11461</td>\n",
       "      <td>AF201704</td>\n",
       "      <td>DASAR DASAR KOMPUTASI</td>\n",
       "      <td>4</td>\n",
       "      <td>4</td>\n",
       "      <td>4</td>\n",
       "      <td>4</td>\n",
       "      <td>4</td>\n",
       "      <td>4</td>\n",
       "      <td>4</td>\n",
       "      <td>4</td>\n",
       "      <td>4</td>\n",
       "      <td>4</td>\n",
       "      <td>NaN</td>\n",
       "    </tr>\n",
       "    <tr>\n",
       "      <th>20095</th>\n",
       "      <td>DEWI PERGIWATI, S.Kom., M.Kom</td>\n",
       "      <td>20221</td>\n",
       "      <td>A11.2021.13607</td>\n",
       "      <td>AF201704</td>\n",
       "      <td>DASAR DASAR KOMPUTASI</td>\n",
       "      <td>4</td>\n",
       "      <td>4</td>\n",
       "      <td>4</td>\n",
       "      <td>4</td>\n",
       "      <td>4</td>\n",
       "      <td>4</td>\n",
       "      <td>3</td>\n",
       "      <td>3</td>\n",
       "      <td>3</td>\n",
       "      <td>4</td>\n",
       "      <td>NaN</td>\n",
       "    </tr>\n",
       "    <tr>\n",
       "      <th>20096</th>\n",
       "      <td>AYU ASHARI, S.S.T, M.Kes</td>\n",
       "      <td>20221</td>\n",
       "      <td>A11.2020.13081</td>\n",
       "      <td>U201701</td>\n",
       "      <td>DASAR KEWIRAUSAHAAN</td>\n",
       "      <td>3</td>\n",
       "      <td>3</td>\n",
       "      <td>3</td>\n",
       "      <td>4</td>\n",
       "      <td>3</td>\n",
       "      <td>3</td>\n",
       "      <td>3</td>\n",
       "      <td>3</td>\n",
       "      <td>3</td>\n",
       "      <td>3</td>\n",
       "      <td>NaN</td>\n",
       "    </tr>\n",
       "  </tbody>\n",
       "</table>\n",
       "<p>20097 rows × 16 columns</p>\n",
       "</div>"
      ],
      "text/plain": [
       "                                      dosen     ta             nim       kdmk  \\\n",
       "0      Prof. Dr. Ir EDI NOERSASONGKO, M.Kom  20221  A11.2017.10120   AF201703   \n",
       "1      Prof. Dr. Ir EDI NOERSASONGKO, M.Kom  20221  A11.2017.10350   AF201703   \n",
       "2      Prof. Dr. Ir EDI NOERSASONGKO, M.Kom  20221  A11.2018.11309   AF201703   \n",
       "3      Prof. Dr. Ir EDI NOERSASONGKO, M.Kom  20221  A11.2019.11618   AF201703   \n",
       "4      Prof. Dr. Ir EDI NOERSASONGKO, M.Kom  20221  A11.2019.11622   AF201703   \n",
       "...                                     ...    ...             ...        ...   \n",
       "20092         DIBYO ADI WIBOWO, S.Si., M.Si  20221  A11.2020.80018  A11.54508   \n",
       "20093         DIBYO ADI WIBOWO, S.Si., M.Si  20221  A11.2020.80018  A11.54812   \n",
       "20094         DEWI PERGIWATI, S.Kom., M.Kom  20221  A11.2018.11461   AF201704   \n",
       "20095         DEWI PERGIWATI, S.Kom., M.Kom  20221  A11.2021.13607   AF201704   \n",
       "20096              AYU ASHARI, S.S.T, M.Kes  20221  A11.2020.13081    U201701   \n",
       "\n",
       "                        nmmk  q1  q2  q3  q4  q5  q6  q7  q8  q9  q10  \\\n",
       "0          TECHNOPRENEURSHIP   2   2   2   2   2   2   2   2   2    2   \n",
       "1          TECHNOPRENEURSHIP   4   4   4   4   4   4   4   4   4    4   \n",
       "2          TECHNOPRENEURSHIP   4   4   4   4   4   4   4   4   4    4   \n",
       "3          TECHNOPRENEURSHIP   4   4   4   4   4   4   4   4   4    4   \n",
       "4          TECHNOPRENEURSHIP   4   4   4   4   4   4   4   4   4    4   \n",
       "...                      ...  ..  ..  ..  ..  ..  ..  ..  ..  ..  ...   \n",
       "20092     STRATEGI ALGORITMA   4   3   3   4   4   4   4   4   4    4   \n",
       "20093         METODE NUMERIK   4   4   4   4   4   4   4   4   4    4   \n",
       "20094  DASAR DASAR KOMPUTASI   4   4   4   4   4   4   4   4   4    4   \n",
       "20095  DASAR DASAR KOMPUTASI   4   4   4   4   4   4   3   3   3    4   \n",
       "20096    DASAR KEWIRAUSAHAAN   3   3   3   4   3   3   3   3   3    3   \n",
       "\n",
       "           saran  \n",
       "0            NaN  \n",
       "1            NaN  \n",
       "2            NaN  \n",
       "3             ok  \n",
       "4            NaN  \n",
       "...          ...  \n",
       "20092  Tidak ada  \n",
       "20093  Tidak ada  \n",
       "20094        NaN  \n",
       "20095        NaN  \n",
       "20096        NaN  \n",
       "\n",
       "[20097 rows x 16 columns]"
      ]
     },
     "execution_count": 2,
     "metadata": {},
     "output_type": "execute_result"
    }
   ],
   "source": [
    "# import csv\n",
    "import pandas as pd\n",
    "import numpy as np\n",
    "import pingouin as pg\n",
    "\n",
    "# read xls file\n",
    "df = pd.read_excel('quiz_20221.xlsx')\n",
    "df"
   ]
  },
  {
   "cell_type": "code",
   "execution_count": 3,
   "metadata": {},
   "outputs": [
    {
     "data": {
      "text/html": [
       "<div>\n",
       "<style scoped>\n",
       "    .dataframe tbody tr th:only-of-type {\n",
       "        vertical-align: middle;\n",
       "    }\n",
       "\n",
       "    .dataframe tbody tr th {\n",
       "        vertical-align: top;\n",
       "    }\n",
       "\n",
       "    .dataframe thead th {\n",
       "        text-align: right;\n",
       "    }\n",
       "</style>\n",
       "<table border=\"1\" class=\"dataframe\">\n",
       "  <thead>\n",
       "    <tr style=\"text-align: right;\">\n",
       "      <th></th>\n",
       "      <th>Code</th>\n",
       "      <th>Alternative</th>\n",
       "      <th>q1</th>\n",
       "      <th>q2</th>\n",
       "      <th>q3</th>\n",
       "      <th>q4</th>\n",
       "      <th>q5</th>\n",
       "      <th>q6</th>\n",
       "      <th>q7</th>\n",
       "      <th>q8</th>\n",
       "      <th>q9</th>\n",
       "      <th>q10</th>\n",
       "    </tr>\n",
       "  </thead>\n",
       "  <tbody>\n",
       "    <tr>\n",
       "      <th>0</th>\n",
       "      <td>A1</td>\n",
       "      <td>A11.2017.10120 - AF201703</td>\n",
       "      <td>2</td>\n",
       "      <td>2</td>\n",
       "      <td>2</td>\n",
       "      <td>2</td>\n",
       "      <td>2</td>\n",
       "      <td>2</td>\n",
       "      <td>2</td>\n",
       "      <td>2</td>\n",
       "      <td>2</td>\n",
       "      <td>2</td>\n",
       "    </tr>\n",
       "    <tr>\n",
       "      <th>1</th>\n",
       "      <td>A2</td>\n",
       "      <td>A11.2017.10350 - AF201703</td>\n",
       "      <td>4</td>\n",
       "      <td>4</td>\n",
       "      <td>4</td>\n",
       "      <td>4</td>\n",
       "      <td>4</td>\n",
       "      <td>4</td>\n",
       "      <td>4</td>\n",
       "      <td>4</td>\n",
       "      <td>4</td>\n",
       "      <td>4</td>\n",
       "    </tr>\n",
       "    <tr>\n",
       "      <th>2</th>\n",
       "      <td>A3</td>\n",
       "      <td>A11.2018.11309 - AF201703</td>\n",
       "      <td>4</td>\n",
       "      <td>4</td>\n",
       "      <td>4</td>\n",
       "      <td>4</td>\n",
       "      <td>4</td>\n",
       "      <td>4</td>\n",
       "      <td>4</td>\n",
       "      <td>4</td>\n",
       "      <td>4</td>\n",
       "      <td>4</td>\n",
       "    </tr>\n",
       "    <tr>\n",
       "      <th>3</th>\n",
       "      <td>A4</td>\n",
       "      <td>A11.2019.11618 - AF201703</td>\n",
       "      <td>4</td>\n",
       "      <td>4</td>\n",
       "      <td>4</td>\n",
       "      <td>4</td>\n",
       "      <td>4</td>\n",
       "      <td>4</td>\n",
       "      <td>4</td>\n",
       "      <td>4</td>\n",
       "      <td>4</td>\n",
       "      <td>4</td>\n",
       "    </tr>\n",
       "    <tr>\n",
       "      <th>4</th>\n",
       "      <td>A5</td>\n",
       "      <td>A11.2019.11622 - AF201703</td>\n",
       "      <td>4</td>\n",
       "      <td>4</td>\n",
       "      <td>4</td>\n",
       "      <td>4</td>\n",
       "      <td>4</td>\n",
       "      <td>4</td>\n",
       "      <td>4</td>\n",
       "      <td>4</td>\n",
       "      <td>4</td>\n",
       "      <td>4</td>\n",
       "    </tr>\n",
       "    <tr>\n",
       "      <th>...</th>\n",
       "      <td>...</td>\n",
       "      <td>...</td>\n",
       "      <td>...</td>\n",
       "      <td>...</td>\n",
       "      <td>...</td>\n",
       "      <td>...</td>\n",
       "      <td>...</td>\n",
       "      <td>...</td>\n",
       "      <td>...</td>\n",
       "      <td>...</td>\n",
       "      <td>...</td>\n",
       "      <td>...</td>\n",
       "    </tr>\n",
       "    <tr>\n",
       "      <th>20092</th>\n",
       "      <td>A20093</td>\n",
       "      <td>A11.2020.80018 - A11.54508</td>\n",
       "      <td>4</td>\n",
       "      <td>3</td>\n",
       "      <td>3</td>\n",
       "      <td>4</td>\n",
       "      <td>4</td>\n",
       "      <td>4</td>\n",
       "      <td>4</td>\n",
       "      <td>4</td>\n",
       "      <td>4</td>\n",
       "      <td>4</td>\n",
       "    </tr>\n",
       "    <tr>\n",
       "      <th>20093</th>\n",
       "      <td>A20094</td>\n",
       "      <td>A11.2020.80018 - A11.54812</td>\n",
       "      <td>4</td>\n",
       "      <td>4</td>\n",
       "      <td>4</td>\n",
       "      <td>4</td>\n",
       "      <td>4</td>\n",
       "      <td>4</td>\n",
       "      <td>4</td>\n",
       "      <td>4</td>\n",
       "      <td>4</td>\n",
       "      <td>4</td>\n",
       "    </tr>\n",
       "    <tr>\n",
       "      <th>20094</th>\n",
       "      <td>A20095</td>\n",
       "      <td>A11.2018.11461 - AF201704</td>\n",
       "      <td>4</td>\n",
       "      <td>4</td>\n",
       "      <td>4</td>\n",
       "      <td>4</td>\n",
       "      <td>4</td>\n",
       "      <td>4</td>\n",
       "      <td>4</td>\n",
       "      <td>4</td>\n",
       "      <td>4</td>\n",
       "      <td>4</td>\n",
       "    </tr>\n",
       "    <tr>\n",
       "      <th>20095</th>\n",
       "      <td>A20096</td>\n",
       "      <td>A11.2021.13607 - AF201704</td>\n",
       "      <td>4</td>\n",
       "      <td>4</td>\n",
       "      <td>4</td>\n",
       "      <td>4</td>\n",
       "      <td>4</td>\n",
       "      <td>4</td>\n",
       "      <td>3</td>\n",
       "      <td>3</td>\n",
       "      <td>3</td>\n",
       "      <td>4</td>\n",
       "    </tr>\n",
       "    <tr>\n",
       "      <th>20096</th>\n",
       "      <td>A20097</td>\n",
       "      <td>A11.2020.13081 - U201701</td>\n",
       "      <td>3</td>\n",
       "      <td>3</td>\n",
       "      <td>3</td>\n",
       "      <td>4</td>\n",
       "      <td>3</td>\n",
       "      <td>3</td>\n",
       "      <td>3</td>\n",
       "      <td>3</td>\n",
       "      <td>3</td>\n",
       "      <td>3</td>\n",
       "    </tr>\n",
       "  </tbody>\n",
       "</table>\n",
       "<p>20097 rows × 12 columns</p>\n",
       "</div>"
      ],
      "text/plain": [
       "         Code                 Alternative  q1  q2  q3  q4  q5  q6  q7  q8  q9  \\\n",
       "0          A1   A11.2017.10120 - AF201703   2   2   2   2   2   2   2   2   2   \n",
       "1          A2   A11.2017.10350 - AF201703   4   4   4   4   4   4   4   4   4   \n",
       "2          A3   A11.2018.11309 - AF201703   4   4   4   4   4   4   4   4   4   \n",
       "3          A4   A11.2019.11618 - AF201703   4   4   4   4   4   4   4   4   4   \n",
       "4          A5   A11.2019.11622 - AF201703   4   4   4   4   4   4   4   4   4   \n",
       "...       ...                         ...  ..  ..  ..  ..  ..  ..  ..  ..  ..   \n",
       "20092  A20093  A11.2020.80018 - A11.54508   4   3   3   4   4   4   4   4   4   \n",
       "20093  A20094  A11.2020.80018 - A11.54812   4   4   4   4   4   4   4   4   4   \n",
       "20094  A20095   A11.2018.11461 - AF201704   4   4   4   4   4   4   4   4   4   \n",
       "20095  A20096   A11.2021.13607 - AF201704   4   4   4   4   4   4   3   3   3   \n",
       "20096  A20097    A11.2020.13081 - U201701   3   3   3   4   3   3   3   3   3   \n",
       "\n",
       "       q10  \n",
       "0        2  \n",
       "1        4  \n",
       "2        4  \n",
       "3        4  \n",
       "4        4  \n",
       "...    ...  \n",
       "20092    4  \n",
       "20093    4  \n",
       "20094    4  \n",
       "20095    4  \n",
       "20096    3  \n",
       "\n",
       "[20097 rows x 12 columns]"
      ]
     },
     "execution_count": 3,
     "metadata": {},
     "output_type": "execute_result"
    }
   ],
   "source": [
    "df2 = df.copy()\n",
    "\n",
    "for i in range(len(df2)):\n",
    "    df2.loc[i, 'nim'] = df2.loc[i, 'nim'] + str(\" - \") + df2.loc[i, 'kdmk']\n",
    "\n",
    "# remove unnecessary columns\n",
    "df2 = df2.drop(['ta','dosen','saran','nmmk','kdmk'], axis=1)\n",
    "\n",
    "# change column name\n",
    "df2 = df2.rename(columns={'nim':'Alternative'})\n",
    "\n",
    "# insert code column in front of dataframe\n",
    "df2.insert(loc=0, column='Code', value=1)\n",
    "\n",
    "#loop through code column\n",
    "for i in range(len(df2)):\n",
    "    val = df2.loc[i, 'Code'] + i\n",
    "    df2.loc[i, 'Code'] = \"A\"+str(val)\n",
    "\n",
    "# remove index column\n",
    "df2 = df2.reset_index(drop=True)\n",
    "\n",
    "df2"
   ]
  },
  {
   "cell_type": "markdown",
   "metadata": {},
   "source": [
    "## Normalize Dataset\n",
    "\n",
    "Because all of the criterias are benefit, so we only use one formula to normalize all values\n",
    "\n",
    "$R_{ij} = \\dfrac{x_{ij}}{Max(x_{ij})}$\n",
    "\n",
    "if there are cost criteria, then we use formula below:  \n",
    "\n",
    "$R_{ij} = \\dfrac{x_{ij}}{Min(x_{ij})}$\n"
   ]
  },
  {
   "cell_type": "code",
   "execution_count": 4,
   "metadata": {},
   "outputs": [
    {
     "data": {
      "text/html": [
       "<div>\n",
       "<style scoped>\n",
       "    .dataframe tbody tr th:only-of-type {\n",
       "        vertical-align: middle;\n",
       "    }\n",
       "\n",
       "    .dataframe tbody tr th {\n",
       "        vertical-align: top;\n",
       "    }\n",
       "\n",
       "    .dataframe thead th {\n",
       "        text-align: right;\n",
       "    }\n",
       "</style>\n",
       "<table border=\"1\" class=\"dataframe\">\n",
       "  <thead>\n",
       "    <tr style=\"text-align: right;\">\n",
       "      <th></th>\n",
       "      <th>Code</th>\n",
       "      <th>q1</th>\n",
       "      <th>q2</th>\n",
       "      <th>q3</th>\n",
       "      <th>q4</th>\n",
       "      <th>q5</th>\n",
       "      <th>q6</th>\n",
       "      <th>q7</th>\n",
       "      <th>q8</th>\n",
       "      <th>q9</th>\n",
       "      <th>q10</th>\n",
       "    </tr>\n",
       "  </thead>\n",
       "  <tbody>\n",
       "    <tr>\n",
       "      <th>0</th>\n",
       "      <td>A1</td>\n",
       "      <td>2</td>\n",
       "      <td>2</td>\n",
       "      <td>2</td>\n",
       "      <td>2</td>\n",
       "      <td>2</td>\n",
       "      <td>2</td>\n",
       "      <td>2</td>\n",
       "      <td>2</td>\n",
       "      <td>2</td>\n",
       "      <td>2</td>\n",
       "    </tr>\n",
       "    <tr>\n",
       "      <th>1</th>\n",
       "      <td>A2</td>\n",
       "      <td>4</td>\n",
       "      <td>4</td>\n",
       "      <td>4</td>\n",
       "      <td>4</td>\n",
       "      <td>4</td>\n",
       "      <td>4</td>\n",
       "      <td>4</td>\n",
       "      <td>4</td>\n",
       "      <td>4</td>\n",
       "      <td>4</td>\n",
       "    </tr>\n",
       "    <tr>\n",
       "      <th>2</th>\n",
       "      <td>A3</td>\n",
       "      <td>4</td>\n",
       "      <td>4</td>\n",
       "      <td>4</td>\n",
       "      <td>4</td>\n",
       "      <td>4</td>\n",
       "      <td>4</td>\n",
       "      <td>4</td>\n",
       "      <td>4</td>\n",
       "      <td>4</td>\n",
       "      <td>4</td>\n",
       "    </tr>\n",
       "    <tr>\n",
       "      <th>3</th>\n",
       "      <td>A4</td>\n",
       "      <td>4</td>\n",
       "      <td>4</td>\n",
       "      <td>4</td>\n",
       "      <td>4</td>\n",
       "      <td>4</td>\n",
       "      <td>4</td>\n",
       "      <td>4</td>\n",
       "      <td>4</td>\n",
       "      <td>4</td>\n",
       "      <td>4</td>\n",
       "    </tr>\n",
       "    <tr>\n",
       "      <th>4</th>\n",
       "      <td>A5</td>\n",
       "      <td>4</td>\n",
       "      <td>4</td>\n",
       "      <td>4</td>\n",
       "      <td>4</td>\n",
       "      <td>4</td>\n",
       "      <td>4</td>\n",
       "      <td>4</td>\n",
       "      <td>4</td>\n",
       "      <td>4</td>\n",
       "      <td>4</td>\n",
       "    </tr>\n",
       "    <tr>\n",
       "      <th>...</th>\n",
       "      <td>...</td>\n",
       "      <td>...</td>\n",
       "      <td>...</td>\n",
       "      <td>...</td>\n",
       "      <td>...</td>\n",
       "      <td>...</td>\n",
       "      <td>...</td>\n",
       "      <td>...</td>\n",
       "      <td>...</td>\n",
       "      <td>...</td>\n",
       "      <td>...</td>\n",
       "    </tr>\n",
       "    <tr>\n",
       "      <th>20092</th>\n",
       "      <td>A20093</td>\n",
       "      <td>4</td>\n",
       "      <td>3</td>\n",
       "      <td>3</td>\n",
       "      <td>4</td>\n",
       "      <td>4</td>\n",
       "      <td>4</td>\n",
       "      <td>4</td>\n",
       "      <td>4</td>\n",
       "      <td>4</td>\n",
       "      <td>4</td>\n",
       "    </tr>\n",
       "    <tr>\n",
       "      <th>20093</th>\n",
       "      <td>A20094</td>\n",
       "      <td>4</td>\n",
       "      <td>4</td>\n",
       "      <td>4</td>\n",
       "      <td>4</td>\n",
       "      <td>4</td>\n",
       "      <td>4</td>\n",
       "      <td>4</td>\n",
       "      <td>4</td>\n",
       "      <td>4</td>\n",
       "      <td>4</td>\n",
       "    </tr>\n",
       "    <tr>\n",
       "      <th>20094</th>\n",
       "      <td>A20095</td>\n",
       "      <td>4</td>\n",
       "      <td>4</td>\n",
       "      <td>4</td>\n",
       "      <td>4</td>\n",
       "      <td>4</td>\n",
       "      <td>4</td>\n",
       "      <td>4</td>\n",
       "      <td>4</td>\n",
       "      <td>4</td>\n",
       "      <td>4</td>\n",
       "    </tr>\n",
       "    <tr>\n",
       "      <th>20095</th>\n",
       "      <td>A20096</td>\n",
       "      <td>4</td>\n",
       "      <td>4</td>\n",
       "      <td>4</td>\n",
       "      <td>4</td>\n",
       "      <td>4</td>\n",
       "      <td>4</td>\n",
       "      <td>3</td>\n",
       "      <td>3</td>\n",
       "      <td>3</td>\n",
       "      <td>4</td>\n",
       "    </tr>\n",
       "    <tr>\n",
       "      <th>20096</th>\n",
       "      <td>A20097</td>\n",
       "      <td>3</td>\n",
       "      <td>3</td>\n",
       "      <td>3</td>\n",
       "      <td>4</td>\n",
       "      <td>3</td>\n",
       "      <td>3</td>\n",
       "      <td>3</td>\n",
       "      <td>3</td>\n",
       "      <td>3</td>\n",
       "      <td>3</td>\n",
       "    </tr>\n",
       "  </tbody>\n",
       "</table>\n",
       "<p>20097 rows × 11 columns</p>\n",
       "</div>"
      ],
      "text/plain": [
       "         Code  q1  q2  q3  q4  q5  q6  q7  q8  q9  q10\n",
       "0          A1   2   2   2   2   2   2   2   2   2    2\n",
       "1          A2   4   4   4   4   4   4   4   4   4    4\n",
       "2          A3   4   4   4   4   4   4   4   4   4    4\n",
       "3          A4   4   4   4   4   4   4   4   4   4    4\n",
       "4          A5   4   4   4   4   4   4   4   4   4    4\n",
       "...       ...  ..  ..  ..  ..  ..  ..  ..  ..  ..  ...\n",
       "20092  A20093   4   3   3   4   4   4   4   4   4    4\n",
       "20093  A20094   4   4   4   4   4   4   4   4   4    4\n",
       "20094  A20095   4   4   4   4   4   4   4   4   4    4\n",
       "20095  A20096   4   4   4   4   4   4   3   3   3    4\n",
       "20096  A20097   3   3   3   4   3   3   3   3   3    3\n",
       "\n",
       "[20097 rows x 11 columns]"
      ]
     },
     "execution_count": 4,
     "metadata": {},
     "output_type": "execute_result"
    }
   ],
   "source": [
    "df3 = df2.copy()\n",
    "\n",
    "df3 = df3.drop(['Alternative'], axis=1)\n",
    "\n",
    "df3"
   ]
  },
  {
   "cell_type": "markdown",
   "metadata": {},
   "source": [
    "Calculation example for A0:\n",
    "\n",
    "$R_{ij} = \\dfrac{x_{ij}}{Max(x_{ij})}$  \n",
    "\n",
    "R = Normalized Value  \n",
    "i = Index alternative  \n",
    "j = Index criteria  \n",
    "x = Alternative value  \n",
    "Max(x) = Maximum alternative value   \n",
    "\n",
    "$R_{11} = \\dfrac{2}{4} = 0.5$  "
   ]
  },
  {
   "cell_type": "code",
   "execution_count": 5,
   "metadata": {},
   "outputs": [
    {
     "data": {
      "text/html": [
       "<div>\n",
       "<style scoped>\n",
       "    .dataframe tbody tr th:only-of-type {\n",
       "        vertical-align: middle;\n",
       "    }\n",
       "\n",
       "    .dataframe tbody tr th {\n",
       "        vertical-align: top;\n",
       "    }\n",
       "\n",
       "    .dataframe thead th {\n",
       "        text-align: right;\n",
       "    }\n",
       "</style>\n",
       "<table border=\"1\" class=\"dataframe\">\n",
       "  <thead>\n",
       "    <tr style=\"text-align: right;\">\n",
       "      <th></th>\n",
       "      <th>Code</th>\n",
       "      <th>q1</th>\n",
       "      <th>q2</th>\n",
       "      <th>q3</th>\n",
       "      <th>q4</th>\n",
       "      <th>q5</th>\n",
       "      <th>q6</th>\n",
       "      <th>q7</th>\n",
       "      <th>q8</th>\n",
       "      <th>q9</th>\n",
       "      <th>q10</th>\n",
       "    </tr>\n",
       "  </thead>\n",
       "  <tbody>\n",
       "    <tr>\n",
       "      <th>0</th>\n",
       "      <td>A1</td>\n",
       "      <td>0.50</td>\n",
       "      <td>0.50</td>\n",
       "      <td>0.50</td>\n",
       "      <td>0.5</td>\n",
       "      <td>0.50</td>\n",
       "      <td>0.50</td>\n",
       "      <td>0.50</td>\n",
       "      <td>0.50</td>\n",
       "      <td>0.50</td>\n",
       "      <td>0.50</td>\n",
       "    </tr>\n",
       "    <tr>\n",
       "      <th>1</th>\n",
       "      <td>A2</td>\n",
       "      <td>1.00</td>\n",
       "      <td>1.00</td>\n",
       "      <td>1.00</td>\n",
       "      <td>1.0</td>\n",
       "      <td>1.00</td>\n",
       "      <td>1.00</td>\n",
       "      <td>1.00</td>\n",
       "      <td>1.00</td>\n",
       "      <td>1.00</td>\n",
       "      <td>1.00</td>\n",
       "    </tr>\n",
       "    <tr>\n",
       "      <th>2</th>\n",
       "      <td>A3</td>\n",
       "      <td>1.00</td>\n",
       "      <td>1.00</td>\n",
       "      <td>1.00</td>\n",
       "      <td>1.0</td>\n",
       "      <td>1.00</td>\n",
       "      <td>1.00</td>\n",
       "      <td>1.00</td>\n",
       "      <td>1.00</td>\n",
       "      <td>1.00</td>\n",
       "      <td>1.00</td>\n",
       "    </tr>\n",
       "    <tr>\n",
       "      <th>3</th>\n",
       "      <td>A4</td>\n",
       "      <td>1.00</td>\n",
       "      <td>1.00</td>\n",
       "      <td>1.00</td>\n",
       "      <td>1.0</td>\n",
       "      <td>1.00</td>\n",
       "      <td>1.00</td>\n",
       "      <td>1.00</td>\n",
       "      <td>1.00</td>\n",
       "      <td>1.00</td>\n",
       "      <td>1.00</td>\n",
       "    </tr>\n",
       "    <tr>\n",
       "      <th>4</th>\n",
       "      <td>A5</td>\n",
       "      <td>1.00</td>\n",
       "      <td>1.00</td>\n",
       "      <td>1.00</td>\n",
       "      <td>1.0</td>\n",
       "      <td>1.00</td>\n",
       "      <td>1.00</td>\n",
       "      <td>1.00</td>\n",
       "      <td>1.00</td>\n",
       "      <td>1.00</td>\n",
       "      <td>1.00</td>\n",
       "    </tr>\n",
       "    <tr>\n",
       "      <th>...</th>\n",
       "      <td>...</td>\n",
       "      <td>...</td>\n",
       "      <td>...</td>\n",
       "      <td>...</td>\n",
       "      <td>...</td>\n",
       "      <td>...</td>\n",
       "      <td>...</td>\n",
       "      <td>...</td>\n",
       "      <td>...</td>\n",
       "      <td>...</td>\n",
       "      <td>...</td>\n",
       "    </tr>\n",
       "    <tr>\n",
       "      <th>20092</th>\n",
       "      <td>A20093</td>\n",
       "      <td>1.00</td>\n",
       "      <td>0.75</td>\n",
       "      <td>0.75</td>\n",
       "      <td>1.0</td>\n",
       "      <td>1.00</td>\n",
       "      <td>1.00</td>\n",
       "      <td>1.00</td>\n",
       "      <td>1.00</td>\n",
       "      <td>1.00</td>\n",
       "      <td>1.00</td>\n",
       "    </tr>\n",
       "    <tr>\n",
       "      <th>20093</th>\n",
       "      <td>A20094</td>\n",
       "      <td>1.00</td>\n",
       "      <td>1.00</td>\n",
       "      <td>1.00</td>\n",
       "      <td>1.0</td>\n",
       "      <td>1.00</td>\n",
       "      <td>1.00</td>\n",
       "      <td>1.00</td>\n",
       "      <td>1.00</td>\n",
       "      <td>1.00</td>\n",
       "      <td>1.00</td>\n",
       "    </tr>\n",
       "    <tr>\n",
       "      <th>20094</th>\n",
       "      <td>A20095</td>\n",
       "      <td>1.00</td>\n",
       "      <td>1.00</td>\n",
       "      <td>1.00</td>\n",
       "      <td>1.0</td>\n",
       "      <td>1.00</td>\n",
       "      <td>1.00</td>\n",
       "      <td>1.00</td>\n",
       "      <td>1.00</td>\n",
       "      <td>1.00</td>\n",
       "      <td>1.00</td>\n",
       "    </tr>\n",
       "    <tr>\n",
       "      <th>20095</th>\n",
       "      <td>A20096</td>\n",
       "      <td>1.00</td>\n",
       "      <td>1.00</td>\n",
       "      <td>1.00</td>\n",
       "      <td>1.0</td>\n",
       "      <td>1.00</td>\n",
       "      <td>1.00</td>\n",
       "      <td>0.75</td>\n",
       "      <td>0.75</td>\n",
       "      <td>0.75</td>\n",
       "      <td>1.00</td>\n",
       "    </tr>\n",
       "    <tr>\n",
       "      <th>20096</th>\n",
       "      <td>A20097</td>\n",
       "      <td>0.75</td>\n",
       "      <td>0.75</td>\n",
       "      <td>0.75</td>\n",
       "      <td>1.0</td>\n",
       "      <td>0.75</td>\n",
       "      <td>0.75</td>\n",
       "      <td>0.75</td>\n",
       "      <td>0.75</td>\n",
       "      <td>0.75</td>\n",
       "      <td>0.75</td>\n",
       "    </tr>\n",
       "  </tbody>\n",
       "</table>\n",
       "<p>20097 rows × 11 columns</p>\n",
       "</div>"
      ],
      "text/plain": [
       "         Code    q1    q2    q3   q4    q5    q6    q7    q8    q9   q10\n",
       "0          A1  0.50  0.50  0.50  0.5  0.50  0.50  0.50  0.50  0.50  0.50\n",
       "1          A2  1.00  1.00  1.00  1.0  1.00  1.00  1.00  1.00  1.00  1.00\n",
       "2          A3  1.00  1.00  1.00  1.0  1.00  1.00  1.00  1.00  1.00  1.00\n",
       "3          A4  1.00  1.00  1.00  1.0  1.00  1.00  1.00  1.00  1.00  1.00\n",
       "4          A5  1.00  1.00  1.00  1.0  1.00  1.00  1.00  1.00  1.00  1.00\n",
       "...       ...   ...   ...   ...  ...   ...   ...   ...   ...   ...   ...\n",
       "20092  A20093  1.00  0.75  0.75  1.0  1.00  1.00  1.00  1.00  1.00  1.00\n",
       "20093  A20094  1.00  1.00  1.00  1.0  1.00  1.00  1.00  1.00  1.00  1.00\n",
       "20094  A20095  1.00  1.00  1.00  1.0  1.00  1.00  1.00  1.00  1.00  1.00\n",
       "20095  A20096  1.00  1.00  1.00  1.0  1.00  1.00  0.75  0.75  0.75  1.00\n",
       "20096  A20097  0.75  0.75  0.75  1.0  0.75  0.75  0.75  0.75  0.75  0.75\n",
       "\n",
       "[20097 rows x 11 columns]"
      ]
     },
     "execution_count": 5,
     "metadata": {},
     "output_type": "execute_result"
    }
   ],
   "source": [
    "# Select only the numeric columns in df3\n",
    "numeric_cols = df3.select_dtypes(include='number').columns\n",
    "\n",
    "# Divide all numeric columns in df3 by 4\n",
    "df3[numeric_cols] = df3[numeric_cols] / 4\n",
    "\n",
    "df3"
   ]
  },
  {
   "cell_type": "markdown",
   "metadata": {},
   "source": [
    "## Calculate Final Alternative value by adding weight\n",
    "\n",
    "$V_{i}=\\sum_{j=1}^{n} W_{j} R_{ij}$\n",
    "\n",
    "V = Final value  \n",
    "W = Weight value  \n",
    "R = Normalized alternative value  \n",
    "n = Number of data  \n",
    "i = Index alternative  \n",
    "j = Index criteria  "
   ]
  },
  {
   "cell_type": "markdown",
   "metadata": {},
   "source": [
    "$V_1 = (0.5 x 1) + (0.5 x 3) + (0.5 x 2) + (0.5 x 3) + (0.5 x 4) + (0.5 x 4) + (0.5 x 1) + (0.5 x 2) + (0.5 x 5) + (0.5 x 5)$\n",
    "\n",
    "$V_1 = 0.5 + 1.5 + 1 + 1.5 + 2 + 2 + 0.5 + 1 + 2.5 + 2.5$\n",
    "\n",
    "$V_1 = 15$"
   ]
  },
  {
   "cell_type": "code",
   "execution_count": 6,
   "metadata": {},
   "outputs": [
    {
     "data": {
      "text/html": [
       "<div>\n",
       "<style scoped>\n",
       "    .dataframe tbody tr th:only-of-type {\n",
       "        vertical-align: middle;\n",
       "    }\n",
       "\n",
       "    .dataframe tbody tr th {\n",
       "        vertical-align: top;\n",
       "    }\n",
       "\n",
       "    .dataframe thead th {\n",
       "        text-align: right;\n",
       "    }\n",
       "</style>\n",
       "<table border=\"1\" class=\"dataframe\">\n",
       "  <thead>\n",
       "    <tr style=\"text-align: right;\">\n",
       "      <th></th>\n",
       "      <th>Code</th>\n",
       "      <th>Total</th>\n",
       "    </tr>\n",
       "  </thead>\n",
       "  <tbody>\n",
       "    <tr>\n",
       "      <th>0</th>\n",
       "      <td>A1</td>\n",
       "      <td>15.00</td>\n",
       "    </tr>\n",
       "    <tr>\n",
       "      <th>1</th>\n",
       "      <td>A2</td>\n",
       "      <td>30.00</td>\n",
       "    </tr>\n",
       "    <tr>\n",
       "      <th>2</th>\n",
       "      <td>A3</td>\n",
       "      <td>30.00</td>\n",
       "    </tr>\n",
       "    <tr>\n",
       "      <th>3</th>\n",
       "      <td>A4</td>\n",
       "      <td>30.00</td>\n",
       "    </tr>\n",
       "    <tr>\n",
       "      <th>4</th>\n",
       "      <td>A5</td>\n",
       "      <td>30.00</td>\n",
       "    </tr>\n",
       "    <tr>\n",
       "      <th>...</th>\n",
       "      <td>...</td>\n",
       "      <td>...</td>\n",
       "    </tr>\n",
       "    <tr>\n",
       "      <th>20092</th>\n",
       "      <td>A20093</td>\n",
       "      <td>28.75</td>\n",
       "    </tr>\n",
       "    <tr>\n",
       "      <th>20093</th>\n",
       "      <td>A20094</td>\n",
       "      <td>30.00</td>\n",
       "    </tr>\n",
       "    <tr>\n",
       "      <th>20094</th>\n",
       "      <td>A20095</td>\n",
       "      <td>30.00</td>\n",
       "    </tr>\n",
       "    <tr>\n",
       "      <th>20095</th>\n",
       "      <td>A20096</td>\n",
       "      <td>28.00</td>\n",
       "    </tr>\n",
       "    <tr>\n",
       "      <th>20096</th>\n",
       "      <td>A20097</td>\n",
       "      <td>23.25</td>\n",
       "    </tr>\n",
       "  </tbody>\n",
       "</table>\n",
       "<p>20097 rows × 2 columns</p>\n",
       "</div>"
      ],
      "text/plain": [
       "         Code  Total\n",
       "0          A1  15.00\n",
       "1          A2  30.00\n",
       "2          A3  30.00\n",
       "3          A4  30.00\n",
       "4          A5  30.00\n",
       "...       ...    ...\n",
       "20092  A20093  28.75\n",
       "20093  A20094  30.00\n",
       "20094  A20095  30.00\n",
       "20095  A20096  28.00\n",
       "20096  A20097  23.25\n",
       "\n",
       "[20097 rows x 2 columns]"
      ]
     },
     "execution_count": 6,
     "metadata": {},
     "output_type": "execute_result"
    }
   ],
   "source": [
    "weights = [1,3,2,3,4,4,1,2,5,5]\n",
    "\n",
    "df4 = df3.copy()\n",
    "\n",
    "for i in range (0,10):\n",
    "    df4[f'q{i+1}'] = df4[f'q{i+1}'] * weights[i]\n",
    "\n",
    "df4['Total'] = df4.loc[:,['q1','q2','q3','q4','q5','q6','q7','q8','q9','q10']].sum(axis=1)\n",
    "\n",
    "#sum all column\n",
    "\n",
    "df4 = df4.drop(['q1','q2','q3','q4','q5','q6','q7','q8','q9','q10'], axis=1)\n",
    "\n",
    "df4"
   ]
  },
  {
   "cell_type": "markdown",
   "metadata": {},
   "source": [
    "## Put total back to main df and group results based on lecturers and class"
   ]
  },
  {
   "cell_type": "code",
   "execution_count": 7,
   "metadata": {},
   "outputs": [
    {
     "data": {
      "text/html": [
       "<div>\n",
       "<style scoped>\n",
       "    .dataframe tbody tr th:only-of-type {\n",
       "        vertical-align: middle;\n",
       "    }\n",
       "\n",
       "    .dataframe tbody tr th {\n",
       "        vertical-align: top;\n",
       "    }\n",
       "\n",
       "    .dataframe thead th {\n",
       "        text-align: right;\n",
       "    }\n",
       "</style>\n",
       "<table border=\"1\" class=\"dataframe\">\n",
       "  <thead>\n",
       "    <tr style=\"text-align: right;\">\n",
       "      <th></th>\n",
       "      <th>dosen</th>\n",
       "      <th>Total</th>\n",
       "    </tr>\n",
       "  </thead>\n",
       "  <tbody>\n",
       "    <tr>\n",
       "      <th>0</th>\n",
       "      <td>Prof. Dr. Ir EDI NOERSASONGKO, M.Kom</td>\n",
       "      <td>15.00</td>\n",
       "    </tr>\n",
       "    <tr>\n",
       "      <th>1</th>\n",
       "      <td>Prof. Dr. Ir EDI NOERSASONGKO, M.Kom</td>\n",
       "      <td>30.00</td>\n",
       "    </tr>\n",
       "    <tr>\n",
       "      <th>2</th>\n",
       "      <td>Prof. Dr. Ir EDI NOERSASONGKO, M.Kom</td>\n",
       "      <td>30.00</td>\n",
       "    </tr>\n",
       "    <tr>\n",
       "      <th>3</th>\n",
       "      <td>Prof. Dr. Ir EDI NOERSASONGKO, M.Kom</td>\n",
       "      <td>30.00</td>\n",
       "    </tr>\n",
       "    <tr>\n",
       "      <th>4</th>\n",
       "      <td>Prof. Dr. Ir EDI NOERSASONGKO, M.Kom</td>\n",
       "      <td>30.00</td>\n",
       "    </tr>\n",
       "    <tr>\n",
       "      <th>...</th>\n",
       "      <td>...</td>\n",
       "      <td>...</td>\n",
       "    </tr>\n",
       "    <tr>\n",
       "      <th>20092</th>\n",
       "      <td>DIBYO ADI WIBOWO, S.Si., M.Si</td>\n",
       "      <td>28.75</td>\n",
       "    </tr>\n",
       "    <tr>\n",
       "      <th>20093</th>\n",
       "      <td>DIBYO ADI WIBOWO, S.Si., M.Si</td>\n",
       "      <td>30.00</td>\n",
       "    </tr>\n",
       "    <tr>\n",
       "      <th>20094</th>\n",
       "      <td>DEWI PERGIWATI, S.Kom., M.Kom</td>\n",
       "      <td>30.00</td>\n",
       "    </tr>\n",
       "    <tr>\n",
       "      <th>20095</th>\n",
       "      <td>DEWI PERGIWATI, S.Kom., M.Kom</td>\n",
       "      <td>28.00</td>\n",
       "    </tr>\n",
       "    <tr>\n",
       "      <th>20096</th>\n",
       "      <td>AYU ASHARI, S.S.T, M.Kes</td>\n",
       "      <td>23.25</td>\n",
       "    </tr>\n",
       "  </tbody>\n",
       "</table>\n",
       "<p>20097 rows × 2 columns</p>\n",
       "</div>"
      ],
      "text/plain": [
       "                                      dosen  Total\n",
       "0      Prof. Dr. Ir EDI NOERSASONGKO, M.Kom  15.00\n",
       "1      Prof. Dr. Ir EDI NOERSASONGKO, M.Kom  30.00\n",
       "2      Prof. Dr. Ir EDI NOERSASONGKO, M.Kom  30.00\n",
       "3      Prof. Dr. Ir EDI NOERSASONGKO, M.Kom  30.00\n",
       "4      Prof. Dr. Ir EDI NOERSASONGKO, M.Kom  30.00\n",
       "...                                     ...    ...\n",
       "20092         DIBYO ADI WIBOWO, S.Si., M.Si  28.75\n",
       "20093         DIBYO ADI WIBOWO, S.Si., M.Si  30.00\n",
       "20094         DEWI PERGIWATI, S.Kom., M.Kom  30.00\n",
       "20095         DEWI PERGIWATI, S.Kom., M.Kom  28.00\n",
       "20096              AYU ASHARI, S.S.T, M.Kes  23.25\n",
       "\n",
       "[20097 rows x 2 columns]"
      ]
     },
     "execution_count": 7,
     "metadata": {},
     "output_type": "execute_result"
    }
   ],
   "source": [
    "df5 = df.copy()\n",
    "df5['Total'] = df4['Total']\n",
    "df5 = df5.drop(['ta', 'nim', 'kdmk', 'nmmk', 'q1','q2','q3','q4','q5','q6','q7','q8','q9','q10','saran'], axis=1)\n",
    "df5"
   ]
  },
  {
   "cell_type": "code",
   "execution_count": 8,
   "metadata": {},
   "outputs": [],
   "source": [
    "# lecturer name\n",
    "df6 = df5.groupby(['dosen']).sum().iloc[:, 1:].reset_index()\n",
    "\n",
    "# total score\n",
    "df7 = df5.groupby(['dosen']).sum().reset_index()\n",
    "\n",
    "# student count\n",
    "df8 = df5.groupby(['dosen']).count().reset_index()"
   ]
  },
  {
   "cell_type": "code",
   "execution_count": 9,
   "metadata": {},
   "outputs": [
    {
     "data": {
      "text/html": [
       "<div>\n",
       "<style scoped>\n",
       "    .dataframe tbody tr th:only-of-type {\n",
       "        vertical-align: middle;\n",
       "    }\n",
       "\n",
       "    .dataframe tbody tr th {\n",
       "        vertical-align: top;\n",
       "    }\n",
       "\n",
       "    .dataframe thead th {\n",
       "        text-align: right;\n",
       "    }\n",
       "</style>\n",
       "<table border=\"1\" class=\"dataframe\">\n",
       "  <thead>\n",
       "    <tr style=\"text-align: right;\">\n",
       "      <th></th>\n",
       "      <th>Lecturer</th>\n",
       "      <th>TotalScore</th>\n",
       "      <th>StudentCount</th>\n",
       "    </tr>\n",
       "  </thead>\n",
       "  <tbody>\n",
       "    <tr>\n",
       "      <th>0</th>\n",
       "      <td>ABDUSSALAM, M.Kom</td>\n",
       "      <td>5893.25</td>\n",
       "      <td>214</td>\n",
       "    </tr>\n",
       "    <tr>\n",
       "      <th>1</th>\n",
       "      <td>ABU SALAM, M.Kom</td>\n",
       "      <td>8460.50</td>\n",
       "      <td>322</td>\n",
       "    </tr>\n",
       "    <tr>\n",
       "      <th>2</th>\n",
       "      <td>ACHMAD BASARI, SS., M.Pd.</td>\n",
       "      <td>323.25</td>\n",
       "      <td>11</td>\n",
       "    </tr>\n",
       "    <tr>\n",
       "      <th>3</th>\n",
       "      <td>ACHMAD WAHID KURNIAWAN, S.Si, M.Kom</td>\n",
       "      <td>1910.50</td>\n",
       "      <td>73</td>\n",
       "    </tr>\n",
       "    <tr>\n",
       "      <th>4</th>\n",
       "      <td>ADHITYA NUGRAHA, S.Kom, M.CS</td>\n",
       "      <td>10019.00</td>\n",
       "      <td>364</td>\n",
       "    </tr>\n",
       "    <tr>\n",
       "      <th>...</th>\n",
       "      <td>...</td>\n",
       "      <td>...</td>\n",
       "      <td>...</td>\n",
       "    </tr>\n",
       "    <tr>\n",
       "      <th>129</th>\n",
       "      <td>WILDANIL GHOZI, M.Kom</td>\n",
       "      <td>5782.00</td>\n",
       "      <td>218</td>\n",
       "    </tr>\n",
       "    <tr>\n",
       "      <th>130</th>\n",
       "      <td>WISE HEROWATI, M.Kom</td>\n",
       "      <td>5090.25</td>\n",
       "      <td>188</td>\n",
       "    </tr>\n",
       "    <tr>\n",
       "      <th>131</th>\n",
       "      <td>YANI PARTI ASTUTI, S.Si, M.Kom</td>\n",
       "      <td>6095.25</td>\n",
       "      <td>222</td>\n",
       "    </tr>\n",
       "    <tr>\n",
       "      <th>132</th>\n",
       "      <td>ZAENAL ARIFIN, SE, M.Kom</td>\n",
       "      <td>693.50</td>\n",
       "      <td>27</td>\n",
       "    </tr>\n",
       "    <tr>\n",
       "      <th>133</th>\n",
       "      <td>ZAHROTUL UMAMI, M.I.Kom</td>\n",
       "      <td>164.00</td>\n",
       "      <td>6</td>\n",
       "    </tr>\n",
       "  </tbody>\n",
       "</table>\n",
       "<p>134 rows × 3 columns</p>\n",
       "</div>"
      ],
      "text/plain": [
       "                                Lecturer  TotalScore  StudentCount\n",
       "0                      ABDUSSALAM, M.Kom     5893.25           214\n",
       "1                       ABU SALAM, M.Kom     8460.50           322\n",
       "2              ACHMAD BASARI, SS., M.Pd.      323.25            11\n",
       "3    ACHMAD WAHID KURNIAWAN, S.Si, M.Kom     1910.50            73\n",
       "4           ADHITYA NUGRAHA, S.Kom, M.CS    10019.00           364\n",
       "..                                   ...         ...           ...\n",
       "129                WILDANIL GHOZI, M.Kom     5782.00           218\n",
       "130                 WISE HEROWATI, M.Kom     5090.25           188\n",
       "131       YANI PARTI ASTUTI, S.Si, M.Kom     6095.25           222\n",
       "132             ZAENAL ARIFIN, SE, M.Kom      693.50            27\n",
       "133              ZAHROTUL UMAMI, M.I.Kom      164.00             6\n",
       "\n",
       "[134 rows x 3 columns]"
      ]
     },
     "execution_count": 9,
     "metadata": {},
     "output_type": "execute_result"
    }
   ],
   "source": [
    "# combine df6 and df7\n",
    "df9 = pd.DataFrame()\n",
    "\n",
    "df9['Lecturer'] = df6['dosen']\n",
    "df9['TotalScore'] = df7['Total']\n",
    "df9['StudentCount'] = df8['Total']\n",
    "\n",
    "df9"
   ]
  },
  {
   "cell_type": "code",
   "execution_count": 10,
   "metadata": {},
   "outputs": [
    {
     "data": {
      "text/html": [
       "<div>\n",
       "<style scoped>\n",
       "    .dataframe tbody tr th:only-of-type {\n",
       "        vertical-align: middle;\n",
       "    }\n",
       "\n",
       "    .dataframe tbody tr th {\n",
       "        vertical-align: top;\n",
       "    }\n",
       "\n",
       "    .dataframe thead th {\n",
       "        text-align: right;\n",
       "    }\n",
       "</style>\n",
       "<table border=\"1\" class=\"dataframe\">\n",
       "  <thead>\n",
       "    <tr style=\"text-align: right;\">\n",
       "      <th></th>\n",
       "      <th>Lecturer</th>\n",
       "      <th>TotalScore</th>\n",
       "      <th>StudentCount</th>\n",
       "      <th>NormalizedValue</th>\n",
       "    </tr>\n",
       "  </thead>\n",
       "  <tbody>\n",
       "    <tr>\n",
       "      <th>0</th>\n",
       "      <td>ABDUSSALAM, M.Kom</td>\n",
       "      <td>5893.25</td>\n",
       "      <td>214</td>\n",
       "      <td>27.54</td>\n",
       "    </tr>\n",
       "    <tr>\n",
       "      <th>1</th>\n",
       "      <td>ABU SALAM, M.Kom</td>\n",
       "      <td>8460.50</td>\n",
       "      <td>322</td>\n",
       "      <td>26.27</td>\n",
       "    </tr>\n",
       "    <tr>\n",
       "      <th>2</th>\n",
       "      <td>ACHMAD BASARI, SS., M.Pd.</td>\n",
       "      <td>323.25</td>\n",
       "      <td>11</td>\n",
       "      <td>29.39</td>\n",
       "    </tr>\n",
       "    <tr>\n",
       "      <th>3</th>\n",
       "      <td>ACHMAD WAHID KURNIAWAN, S.Si, M.Kom</td>\n",
       "      <td>1910.50</td>\n",
       "      <td>73</td>\n",
       "      <td>26.17</td>\n",
       "    </tr>\n",
       "    <tr>\n",
       "      <th>4</th>\n",
       "      <td>ADHITYA NUGRAHA, S.Kom, M.CS</td>\n",
       "      <td>10019.00</td>\n",
       "      <td>364</td>\n",
       "      <td>27.52</td>\n",
       "    </tr>\n",
       "    <tr>\n",
       "      <th>...</th>\n",
       "      <td>...</td>\n",
       "      <td>...</td>\n",
       "      <td>...</td>\n",
       "      <td>...</td>\n",
       "    </tr>\n",
       "    <tr>\n",
       "      <th>129</th>\n",
       "      <td>WILDANIL GHOZI, M.Kom</td>\n",
       "      <td>5782.00</td>\n",
       "      <td>218</td>\n",
       "      <td>26.52</td>\n",
       "    </tr>\n",
       "    <tr>\n",
       "      <th>130</th>\n",
       "      <td>WISE HEROWATI, M.Kom</td>\n",
       "      <td>5090.25</td>\n",
       "      <td>188</td>\n",
       "      <td>27.08</td>\n",
       "    </tr>\n",
       "    <tr>\n",
       "      <th>131</th>\n",
       "      <td>YANI PARTI ASTUTI, S.Si, M.Kom</td>\n",
       "      <td>6095.25</td>\n",
       "      <td>222</td>\n",
       "      <td>27.46</td>\n",
       "    </tr>\n",
       "    <tr>\n",
       "      <th>132</th>\n",
       "      <td>ZAENAL ARIFIN, SE, M.Kom</td>\n",
       "      <td>693.50</td>\n",
       "      <td>27</td>\n",
       "      <td>25.69</td>\n",
       "    </tr>\n",
       "    <tr>\n",
       "      <th>133</th>\n",
       "      <td>ZAHROTUL UMAMI, M.I.Kom</td>\n",
       "      <td>164.00</td>\n",
       "      <td>6</td>\n",
       "      <td>27.33</td>\n",
       "    </tr>\n",
       "  </tbody>\n",
       "</table>\n",
       "<p>134 rows × 4 columns</p>\n",
       "</div>"
      ],
      "text/plain": [
       "                                Lecturer  TotalScore  StudentCount  \\\n",
       "0                      ABDUSSALAM, M.Kom     5893.25           214   \n",
       "1                       ABU SALAM, M.Kom     8460.50           322   \n",
       "2              ACHMAD BASARI, SS., M.Pd.      323.25            11   \n",
       "3    ACHMAD WAHID KURNIAWAN, S.Si, M.Kom     1910.50            73   \n",
       "4           ADHITYA NUGRAHA, S.Kom, M.CS    10019.00           364   \n",
       "..                                   ...         ...           ...   \n",
       "129                WILDANIL GHOZI, M.Kom     5782.00           218   \n",
       "130                 WISE HEROWATI, M.Kom     5090.25           188   \n",
       "131       YANI PARTI ASTUTI, S.Si, M.Kom     6095.25           222   \n",
       "132             ZAENAL ARIFIN, SE, M.Kom      693.50            27   \n",
       "133              ZAHROTUL UMAMI, M.I.Kom      164.00             6   \n",
       "\n",
       "     NormalizedValue  \n",
       "0              27.54  \n",
       "1              26.27  \n",
       "2              29.39  \n",
       "3              26.17  \n",
       "4              27.52  \n",
       "..               ...  \n",
       "129            26.52  \n",
       "130            27.08  \n",
       "131            27.46  \n",
       "132            25.69  \n",
       "133            27.33  \n",
       "\n",
       "[134 rows x 4 columns]"
      ]
     },
     "execution_count": 10,
     "metadata": {},
     "output_type": "execute_result"
    }
   ],
   "source": [
    "df10 = df9.copy()\n",
    "df10['NormalizedValue'] = round(df10['TotalScore'] / df10['StudentCount'],2)\n",
    "df10"
   ]
  },
  {
   "cell_type": "code",
   "execution_count": 14,
   "metadata": {},
   "outputs": [
    {
     "data": {
      "application/vnd.plotly.v1+json": {
       "config": {
        "plotlyServerURL": "https://plot.ly"
       },
       "data": [
        {
         "alignmentgroup": "True",
         "hovertemplate": "NormalizedValue=%{x}<extra></extra>",
         "legendgroup": "",
         "marker": {
          "color": "#636efa"
         },
         "name": "",
         "notched": false,
         "offsetgroup": "",
         "orientation": "h",
         "showlegend": false,
         "type": "box",
         "x": [
          27.54,
          26.27,
          29.39,
          26.17,
          27.52,
          26.78,
          26.48,
          26.85,
          27.36,
          26.37,
          30,
          27.5,
          25.32,
          25.81,
          27.81,
          27.67,
          27.92,
          25.3,
          23.25,
          27.07,
          26.91,
          28.31,
          25.8,
          27.64,
          28.96,
          26.17,
          26.91,
          27.2,
          27.72,
          27.1,
          24.47,
          27.22,
          30,
          27.39,
          25.19,
          26.6,
          29,
          28.69,
          28.26,
          26.24,
          27.65,
          27.1,
          26.11,
          30,
          30,
          22.5,
          26.01,
          25.77,
          26.83,
          26.88,
          26.55,
          25.96,
          25.84,
          24.85,
          27.06,
          27.25,
          27.15,
          27.53,
          26.7,
          26.82,
          26.51,
          26.38,
          27.24,
          27.66,
          26.69,
          25.88,
          29.44,
          26.34,
          27.03,
          27.42,
          27.39,
          27.74,
          26.42,
          27.6,
          27.5,
          26.7,
          27.04,
          26.62,
          26.85,
          27.41,
          27.37,
          26.56,
          27.73,
          27.94,
          26.09,
          30,
          26.68,
          26.5,
          24.5,
          27.17,
          26.93,
          27.05,
          26.33,
          26.64,
          26.82,
          28.94,
          25.7,
          25.47,
          26.38,
          27.83,
          26.36,
          26,
          26.96,
          27.27,
          26.14,
          27.18,
          26.01,
          27.75,
          28.43,
          27.18,
          26.75,
          27.22,
          27.54,
          30,
          26.21,
          24.47,
          26.24,
          26.16,
          26.51,
          28.98,
          26.28,
          26.69,
          26.66,
          27.04,
          27.16,
          25.44,
          24.62,
          26.5,
          26.6,
          26.52,
          27.08,
          27.46,
          25.69,
          27.33
         ],
         "x0": " ",
         "xaxis": "x",
         "y0": " ",
         "yaxis": "y"
        }
       ],
       "layout": {
        "boxmode": "group",
        "legend": {
         "tracegroupgap": 0
        },
        "margin": {
         "t": 60
        },
        "template": {
         "data": {
          "bar": [
           {
            "error_x": {
             "color": "#2a3f5f"
            },
            "error_y": {
             "color": "#2a3f5f"
            },
            "marker": {
             "line": {
              "color": "#E5ECF6",
              "width": 0.5
             },
             "pattern": {
              "fillmode": "overlay",
              "size": 10,
              "solidity": 0.2
             }
            },
            "type": "bar"
           }
          ],
          "barpolar": [
           {
            "marker": {
             "line": {
              "color": "#E5ECF6",
              "width": 0.5
             },
             "pattern": {
              "fillmode": "overlay",
              "size": 10,
              "solidity": 0.2
             }
            },
            "type": "barpolar"
           }
          ],
          "carpet": [
           {
            "aaxis": {
             "endlinecolor": "#2a3f5f",
             "gridcolor": "white",
             "linecolor": "white",
             "minorgridcolor": "white",
             "startlinecolor": "#2a3f5f"
            },
            "baxis": {
             "endlinecolor": "#2a3f5f",
             "gridcolor": "white",
             "linecolor": "white",
             "minorgridcolor": "white",
             "startlinecolor": "#2a3f5f"
            },
            "type": "carpet"
           }
          ],
          "choropleth": [
           {
            "colorbar": {
             "outlinewidth": 0,
             "ticks": ""
            },
            "type": "choropleth"
           }
          ],
          "contour": [
           {
            "colorbar": {
             "outlinewidth": 0,
             "ticks": ""
            },
            "colorscale": [
             [
              0,
              "#0d0887"
             ],
             [
              0.1111111111111111,
              "#46039f"
             ],
             [
              0.2222222222222222,
              "#7201a8"
             ],
             [
              0.3333333333333333,
              "#9c179e"
             ],
             [
              0.4444444444444444,
              "#bd3786"
             ],
             [
              0.5555555555555556,
              "#d8576b"
             ],
             [
              0.6666666666666666,
              "#ed7953"
             ],
             [
              0.7777777777777778,
              "#fb9f3a"
             ],
             [
              0.8888888888888888,
              "#fdca26"
             ],
             [
              1,
              "#f0f921"
             ]
            ],
            "type": "contour"
           }
          ],
          "contourcarpet": [
           {
            "colorbar": {
             "outlinewidth": 0,
             "ticks": ""
            },
            "type": "contourcarpet"
           }
          ],
          "heatmap": [
           {
            "colorbar": {
             "outlinewidth": 0,
             "ticks": ""
            },
            "colorscale": [
             [
              0,
              "#0d0887"
             ],
             [
              0.1111111111111111,
              "#46039f"
             ],
             [
              0.2222222222222222,
              "#7201a8"
             ],
             [
              0.3333333333333333,
              "#9c179e"
             ],
             [
              0.4444444444444444,
              "#bd3786"
             ],
             [
              0.5555555555555556,
              "#d8576b"
             ],
             [
              0.6666666666666666,
              "#ed7953"
             ],
             [
              0.7777777777777778,
              "#fb9f3a"
             ],
             [
              0.8888888888888888,
              "#fdca26"
             ],
             [
              1,
              "#f0f921"
             ]
            ],
            "type": "heatmap"
           }
          ],
          "heatmapgl": [
           {
            "colorbar": {
             "outlinewidth": 0,
             "ticks": ""
            },
            "colorscale": [
             [
              0,
              "#0d0887"
             ],
             [
              0.1111111111111111,
              "#46039f"
             ],
             [
              0.2222222222222222,
              "#7201a8"
             ],
             [
              0.3333333333333333,
              "#9c179e"
             ],
             [
              0.4444444444444444,
              "#bd3786"
             ],
             [
              0.5555555555555556,
              "#d8576b"
             ],
             [
              0.6666666666666666,
              "#ed7953"
             ],
             [
              0.7777777777777778,
              "#fb9f3a"
             ],
             [
              0.8888888888888888,
              "#fdca26"
             ],
             [
              1,
              "#f0f921"
             ]
            ],
            "type": "heatmapgl"
           }
          ],
          "histogram": [
           {
            "marker": {
             "pattern": {
              "fillmode": "overlay",
              "size": 10,
              "solidity": 0.2
             }
            },
            "type": "histogram"
           }
          ],
          "histogram2d": [
           {
            "colorbar": {
             "outlinewidth": 0,
             "ticks": ""
            },
            "colorscale": [
             [
              0,
              "#0d0887"
             ],
             [
              0.1111111111111111,
              "#46039f"
             ],
             [
              0.2222222222222222,
              "#7201a8"
             ],
             [
              0.3333333333333333,
              "#9c179e"
             ],
             [
              0.4444444444444444,
              "#bd3786"
             ],
             [
              0.5555555555555556,
              "#d8576b"
             ],
             [
              0.6666666666666666,
              "#ed7953"
             ],
             [
              0.7777777777777778,
              "#fb9f3a"
             ],
             [
              0.8888888888888888,
              "#fdca26"
             ],
             [
              1,
              "#f0f921"
             ]
            ],
            "type": "histogram2d"
           }
          ],
          "histogram2dcontour": [
           {
            "colorbar": {
             "outlinewidth": 0,
             "ticks": ""
            },
            "colorscale": [
             [
              0,
              "#0d0887"
             ],
             [
              0.1111111111111111,
              "#46039f"
             ],
             [
              0.2222222222222222,
              "#7201a8"
             ],
             [
              0.3333333333333333,
              "#9c179e"
             ],
             [
              0.4444444444444444,
              "#bd3786"
             ],
             [
              0.5555555555555556,
              "#d8576b"
             ],
             [
              0.6666666666666666,
              "#ed7953"
             ],
             [
              0.7777777777777778,
              "#fb9f3a"
             ],
             [
              0.8888888888888888,
              "#fdca26"
             ],
             [
              1,
              "#f0f921"
             ]
            ],
            "type": "histogram2dcontour"
           }
          ],
          "mesh3d": [
           {
            "colorbar": {
             "outlinewidth": 0,
             "ticks": ""
            },
            "type": "mesh3d"
           }
          ],
          "parcoords": [
           {
            "line": {
             "colorbar": {
              "outlinewidth": 0,
              "ticks": ""
             }
            },
            "type": "parcoords"
           }
          ],
          "pie": [
           {
            "automargin": true,
            "type": "pie"
           }
          ],
          "scatter": [
           {
            "fillpattern": {
             "fillmode": "overlay",
             "size": 10,
             "solidity": 0.2
            },
            "type": "scatter"
           }
          ],
          "scatter3d": [
           {
            "line": {
             "colorbar": {
              "outlinewidth": 0,
              "ticks": ""
             }
            },
            "marker": {
             "colorbar": {
              "outlinewidth": 0,
              "ticks": ""
             }
            },
            "type": "scatter3d"
           }
          ],
          "scattercarpet": [
           {
            "marker": {
             "colorbar": {
              "outlinewidth": 0,
              "ticks": ""
             }
            },
            "type": "scattercarpet"
           }
          ],
          "scattergeo": [
           {
            "marker": {
             "colorbar": {
              "outlinewidth": 0,
              "ticks": ""
             }
            },
            "type": "scattergeo"
           }
          ],
          "scattergl": [
           {
            "marker": {
             "colorbar": {
              "outlinewidth": 0,
              "ticks": ""
             }
            },
            "type": "scattergl"
           }
          ],
          "scattermapbox": [
           {
            "marker": {
             "colorbar": {
              "outlinewidth": 0,
              "ticks": ""
             }
            },
            "type": "scattermapbox"
           }
          ],
          "scatterpolar": [
           {
            "marker": {
             "colorbar": {
              "outlinewidth": 0,
              "ticks": ""
             }
            },
            "type": "scatterpolar"
           }
          ],
          "scatterpolargl": [
           {
            "marker": {
             "colorbar": {
              "outlinewidth": 0,
              "ticks": ""
             }
            },
            "type": "scatterpolargl"
           }
          ],
          "scatterternary": [
           {
            "marker": {
             "colorbar": {
              "outlinewidth": 0,
              "ticks": ""
             }
            },
            "type": "scatterternary"
           }
          ],
          "surface": [
           {
            "colorbar": {
             "outlinewidth": 0,
             "ticks": ""
            },
            "colorscale": [
             [
              0,
              "#0d0887"
             ],
             [
              0.1111111111111111,
              "#46039f"
             ],
             [
              0.2222222222222222,
              "#7201a8"
             ],
             [
              0.3333333333333333,
              "#9c179e"
             ],
             [
              0.4444444444444444,
              "#bd3786"
             ],
             [
              0.5555555555555556,
              "#d8576b"
             ],
             [
              0.6666666666666666,
              "#ed7953"
             ],
             [
              0.7777777777777778,
              "#fb9f3a"
             ],
             [
              0.8888888888888888,
              "#fdca26"
             ],
             [
              1,
              "#f0f921"
             ]
            ],
            "type": "surface"
           }
          ],
          "table": [
           {
            "cells": {
             "fill": {
              "color": "#EBF0F8"
             },
             "line": {
              "color": "white"
             }
            },
            "header": {
             "fill": {
              "color": "#C8D4E3"
             },
             "line": {
              "color": "white"
             }
            },
            "type": "table"
           }
          ]
         },
         "layout": {
          "annotationdefaults": {
           "arrowcolor": "#2a3f5f",
           "arrowhead": 0,
           "arrowwidth": 1
          },
          "autotypenumbers": "strict",
          "coloraxis": {
           "colorbar": {
            "outlinewidth": 0,
            "ticks": ""
           }
          },
          "colorscale": {
           "diverging": [
            [
             0,
             "#8e0152"
            ],
            [
             0.1,
             "#c51b7d"
            ],
            [
             0.2,
             "#de77ae"
            ],
            [
             0.3,
             "#f1b6da"
            ],
            [
             0.4,
             "#fde0ef"
            ],
            [
             0.5,
             "#f7f7f7"
            ],
            [
             0.6,
             "#e6f5d0"
            ],
            [
             0.7,
             "#b8e186"
            ],
            [
             0.8,
             "#7fbc41"
            ],
            [
             0.9,
             "#4d9221"
            ],
            [
             1,
             "#276419"
            ]
           ],
           "sequential": [
            [
             0,
             "#0d0887"
            ],
            [
             0.1111111111111111,
             "#46039f"
            ],
            [
             0.2222222222222222,
             "#7201a8"
            ],
            [
             0.3333333333333333,
             "#9c179e"
            ],
            [
             0.4444444444444444,
             "#bd3786"
            ],
            [
             0.5555555555555556,
             "#d8576b"
            ],
            [
             0.6666666666666666,
             "#ed7953"
            ],
            [
             0.7777777777777778,
             "#fb9f3a"
            ],
            [
             0.8888888888888888,
             "#fdca26"
            ],
            [
             1,
             "#f0f921"
            ]
           ],
           "sequentialminus": [
            [
             0,
             "#0d0887"
            ],
            [
             0.1111111111111111,
             "#46039f"
            ],
            [
             0.2222222222222222,
             "#7201a8"
            ],
            [
             0.3333333333333333,
             "#9c179e"
            ],
            [
             0.4444444444444444,
             "#bd3786"
            ],
            [
             0.5555555555555556,
             "#d8576b"
            ],
            [
             0.6666666666666666,
             "#ed7953"
            ],
            [
             0.7777777777777778,
             "#fb9f3a"
            ],
            [
             0.8888888888888888,
             "#fdca26"
            ],
            [
             1,
             "#f0f921"
            ]
           ]
          },
          "colorway": [
           "#636efa",
           "#EF553B",
           "#00cc96",
           "#ab63fa",
           "#FFA15A",
           "#19d3f3",
           "#FF6692",
           "#B6E880",
           "#FF97FF",
           "#FECB52"
          ],
          "font": {
           "color": "#2a3f5f"
          },
          "geo": {
           "bgcolor": "white",
           "lakecolor": "white",
           "landcolor": "#E5ECF6",
           "showlakes": true,
           "showland": true,
           "subunitcolor": "white"
          },
          "hoverlabel": {
           "align": "left"
          },
          "hovermode": "closest",
          "mapbox": {
           "style": "light"
          },
          "paper_bgcolor": "white",
          "plot_bgcolor": "#E5ECF6",
          "polar": {
           "angularaxis": {
            "gridcolor": "white",
            "linecolor": "white",
            "ticks": ""
           },
           "bgcolor": "#E5ECF6",
           "radialaxis": {
            "gridcolor": "white",
            "linecolor": "white",
            "ticks": ""
           }
          },
          "scene": {
           "xaxis": {
            "backgroundcolor": "#E5ECF6",
            "gridcolor": "white",
            "gridwidth": 2,
            "linecolor": "white",
            "showbackground": true,
            "ticks": "",
            "zerolinecolor": "white"
           },
           "yaxis": {
            "backgroundcolor": "#E5ECF6",
            "gridcolor": "white",
            "gridwidth": 2,
            "linecolor": "white",
            "showbackground": true,
            "ticks": "",
            "zerolinecolor": "white"
           },
           "zaxis": {
            "backgroundcolor": "#E5ECF6",
            "gridcolor": "white",
            "gridwidth": 2,
            "linecolor": "white",
            "showbackground": true,
            "ticks": "",
            "zerolinecolor": "white"
           }
          },
          "shapedefaults": {
           "line": {
            "color": "#2a3f5f"
           }
          },
          "ternary": {
           "aaxis": {
            "gridcolor": "white",
            "linecolor": "white",
            "ticks": ""
           },
           "baxis": {
            "gridcolor": "white",
            "linecolor": "white",
            "ticks": ""
           },
           "bgcolor": "#E5ECF6",
           "caxis": {
            "gridcolor": "white",
            "linecolor": "white",
            "ticks": ""
           }
          },
          "title": {
           "x": 0.05
          },
          "xaxis": {
           "automargin": true,
           "gridcolor": "white",
           "linecolor": "white",
           "ticks": "",
           "title": {
            "standoff": 15
           },
           "zerolinecolor": "white",
           "zerolinewidth": 2
          },
          "yaxis": {
           "automargin": true,
           "gridcolor": "white",
           "linecolor": "white",
           "ticks": "",
           "title": {
            "standoff": 15
           },
           "zerolinecolor": "white",
           "zerolinewidth": 2
          }
         }
        },
        "xaxis": {
         "anchor": "y",
         "domain": [
          0,
          1
         ],
         "title": {
          "text": "NormalizedValue"
         }
        },
        "yaxis": {
         "anchor": "x",
         "domain": [
          0,
          1
         ]
        }
       }
      }
     },
     "metadata": {},
     "output_type": "display_data"
    }
   ],
   "source": [
    "import plotly.express as px\n",
    "\n",
    "# graph box plot for normalized value\n",
    "fig = px.box(df10, x=\"NormalizedValue\")\n",
    "fig.show()"
   ]
  },
  {
   "cell_type": "code",
   "execution_count": 15,
   "metadata": {},
   "outputs": [
    {
     "data": {
      "application/vnd.plotly.v1+json": {
       "config": {
        "plotlyServerURL": "https://plot.ly"
       },
       "data": [
        {
         "alignmentgroup": "True",
         "hovertemplate": "StudentCount=%{x}<extra></extra>",
         "legendgroup": "",
         "marker": {
          "color": "#636efa"
         },
         "name": "",
         "notched": false,
         "offsetgroup": "",
         "orientation": "h",
         "showlegend": false,
         "type": "box",
         "x": [
          214,
          322,
          11,
          73,
          364,
          274,
          75,
          253,
          20,
          46,
          2,
          11,
          14,
          260,
          180,
          433,
          6,
          32,
          1,
          107,
          11,
          12,
          518,
          197,
          12,
          12,
          259,
          273,
          438,
          59,
          568,
          153,
          3,
          597,
          80,
          37,
          2,
          24,
          37,
          80,
          86,
          121,
          75,
          2,
          1,
          1,
          101,
          81,
          94,
          59,
          173,
          123,
          56,
          39,
          175,
          145,
          106,
          159,
          109,
          60,
          96,
          18,
          247,
          222,
          32,
          6,
          4,
          298,
          160,
          318,
          227,
          210,
          348,
          230,
          164,
          241,
          175,
          6,
          245,
          324,
          241,
          210,
          180,
          245,
          322,
          2,
          201,
          233,
          1,
          103,
          79,
          184,
          174,
          74,
          10,
          26,
          71,
          69,
          2,
          215,
          16,
          4,
          20,
          394,
          270,
          281,
          142,
          10,
          81,
          161,
          75,
          208,
          77,
          1,
          7,
          186,
          77,
          58,
          21,
          10,
          282,
          197,
          502,
          440,
          1260,
          199,
          12,
          263,
          133,
          218,
          188,
          222,
          27,
          6
         ],
         "x0": " ",
         "xaxis": "x",
         "y0": " ",
         "yaxis": "y"
        }
       ],
       "layout": {
        "boxmode": "group",
        "legend": {
         "tracegroupgap": 0
        },
        "margin": {
         "t": 60
        },
        "template": {
         "data": {
          "bar": [
           {
            "error_x": {
             "color": "#2a3f5f"
            },
            "error_y": {
             "color": "#2a3f5f"
            },
            "marker": {
             "line": {
              "color": "#E5ECF6",
              "width": 0.5
             },
             "pattern": {
              "fillmode": "overlay",
              "size": 10,
              "solidity": 0.2
             }
            },
            "type": "bar"
           }
          ],
          "barpolar": [
           {
            "marker": {
             "line": {
              "color": "#E5ECF6",
              "width": 0.5
             },
             "pattern": {
              "fillmode": "overlay",
              "size": 10,
              "solidity": 0.2
             }
            },
            "type": "barpolar"
           }
          ],
          "carpet": [
           {
            "aaxis": {
             "endlinecolor": "#2a3f5f",
             "gridcolor": "white",
             "linecolor": "white",
             "minorgridcolor": "white",
             "startlinecolor": "#2a3f5f"
            },
            "baxis": {
             "endlinecolor": "#2a3f5f",
             "gridcolor": "white",
             "linecolor": "white",
             "minorgridcolor": "white",
             "startlinecolor": "#2a3f5f"
            },
            "type": "carpet"
           }
          ],
          "choropleth": [
           {
            "colorbar": {
             "outlinewidth": 0,
             "ticks": ""
            },
            "type": "choropleth"
           }
          ],
          "contour": [
           {
            "colorbar": {
             "outlinewidth": 0,
             "ticks": ""
            },
            "colorscale": [
             [
              0,
              "#0d0887"
             ],
             [
              0.1111111111111111,
              "#46039f"
             ],
             [
              0.2222222222222222,
              "#7201a8"
             ],
             [
              0.3333333333333333,
              "#9c179e"
             ],
             [
              0.4444444444444444,
              "#bd3786"
             ],
             [
              0.5555555555555556,
              "#d8576b"
             ],
             [
              0.6666666666666666,
              "#ed7953"
             ],
             [
              0.7777777777777778,
              "#fb9f3a"
             ],
             [
              0.8888888888888888,
              "#fdca26"
             ],
             [
              1,
              "#f0f921"
             ]
            ],
            "type": "contour"
           }
          ],
          "contourcarpet": [
           {
            "colorbar": {
             "outlinewidth": 0,
             "ticks": ""
            },
            "type": "contourcarpet"
           }
          ],
          "heatmap": [
           {
            "colorbar": {
             "outlinewidth": 0,
             "ticks": ""
            },
            "colorscale": [
             [
              0,
              "#0d0887"
             ],
             [
              0.1111111111111111,
              "#46039f"
             ],
             [
              0.2222222222222222,
              "#7201a8"
             ],
             [
              0.3333333333333333,
              "#9c179e"
             ],
             [
              0.4444444444444444,
              "#bd3786"
             ],
             [
              0.5555555555555556,
              "#d8576b"
             ],
             [
              0.6666666666666666,
              "#ed7953"
             ],
             [
              0.7777777777777778,
              "#fb9f3a"
             ],
             [
              0.8888888888888888,
              "#fdca26"
             ],
             [
              1,
              "#f0f921"
             ]
            ],
            "type": "heatmap"
           }
          ],
          "heatmapgl": [
           {
            "colorbar": {
             "outlinewidth": 0,
             "ticks": ""
            },
            "colorscale": [
             [
              0,
              "#0d0887"
             ],
             [
              0.1111111111111111,
              "#46039f"
             ],
             [
              0.2222222222222222,
              "#7201a8"
             ],
             [
              0.3333333333333333,
              "#9c179e"
             ],
             [
              0.4444444444444444,
              "#bd3786"
             ],
             [
              0.5555555555555556,
              "#d8576b"
             ],
             [
              0.6666666666666666,
              "#ed7953"
             ],
             [
              0.7777777777777778,
              "#fb9f3a"
             ],
             [
              0.8888888888888888,
              "#fdca26"
             ],
             [
              1,
              "#f0f921"
             ]
            ],
            "type": "heatmapgl"
           }
          ],
          "histogram": [
           {
            "marker": {
             "pattern": {
              "fillmode": "overlay",
              "size": 10,
              "solidity": 0.2
             }
            },
            "type": "histogram"
           }
          ],
          "histogram2d": [
           {
            "colorbar": {
             "outlinewidth": 0,
             "ticks": ""
            },
            "colorscale": [
             [
              0,
              "#0d0887"
             ],
             [
              0.1111111111111111,
              "#46039f"
             ],
             [
              0.2222222222222222,
              "#7201a8"
             ],
             [
              0.3333333333333333,
              "#9c179e"
             ],
             [
              0.4444444444444444,
              "#bd3786"
             ],
             [
              0.5555555555555556,
              "#d8576b"
             ],
             [
              0.6666666666666666,
              "#ed7953"
             ],
             [
              0.7777777777777778,
              "#fb9f3a"
             ],
             [
              0.8888888888888888,
              "#fdca26"
             ],
             [
              1,
              "#f0f921"
             ]
            ],
            "type": "histogram2d"
           }
          ],
          "histogram2dcontour": [
           {
            "colorbar": {
             "outlinewidth": 0,
             "ticks": ""
            },
            "colorscale": [
             [
              0,
              "#0d0887"
             ],
             [
              0.1111111111111111,
              "#46039f"
             ],
             [
              0.2222222222222222,
              "#7201a8"
             ],
             [
              0.3333333333333333,
              "#9c179e"
             ],
             [
              0.4444444444444444,
              "#bd3786"
             ],
             [
              0.5555555555555556,
              "#d8576b"
             ],
             [
              0.6666666666666666,
              "#ed7953"
             ],
             [
              0.7777777777777778,
              "#fb9f3a"
             ],
             [
              0.8888888888888888,
              "#fdca26"
             ],
             [
              1,
              "#f0f921"
             ]
            ],
            "type": "histogram2dcontour"
           }
          ],
          "mesh3d": [
           {
            "colorbar": {
             "outlinewidth": 0,
             "ticks": ""
            },
            "type": "mesh3d"
           }
          ],
          "parcoords": [
           {
            "line": {
             "colorbar": {
              "outlinewidth": 0,
              "ticks": ""
             }
            },
            "type": "parcoords"
           }
          ],
          "pie": [
           {
            "automargin": true,
            "type": "pie"
           }
          ],
          "scatter": [
           {
            "fillpattern": {
             "fillmode": "overlay",
             "size": 10,
             "solidity": 0.2
            },
            "type": "scatter"
           }
          ],
          "scatter3d": [
           {
            "line": {
             "colorbar": {
              "outlinewidth": 0,
              "ticks": ""
             }
            },
            "marker": {
             "colorbar": {
              "outlinewidth": 0,
              "ticks": ""
             }
            },
            "type": "scatter3d"
           }
          ],
          "scattercarpet": [
           {
            "marker": {
             "colorbar": {
              "outlinewidth": 0,
              "ticks": ""
             }
            },
            "type": "scattercarpet"
           }
          ],
          "scattergeo": [
           {
            "marker": {
             "colorbar": {
              "outlinewidth": 0,
              "ticks": ""
             }
            },
            "type": "scattergeo"
           }
          ],
          "scattergl": [
           {
            "marker": {
             "colorbar": {
              "outlinewidth": 0,
              "ticks": ""
             }
            },
            "type": "scattergl"
           }
          ],
          "scattermapbox": [
           {
            "marker": {
             "colorbar": {
              "outlinewidth": 0,
              "ticks": ""
             }
            },
            "type": "scattermapbox"
           }
          ],
          "scatterpolar": [
           {
            "marker": {
             "colorbar": {
              "outlinewidth": 0,
              "ticks": ""
             }
            },
            "type": "scatterpolar"
           }
          ],
          "scatterpolargl": [
           {
            "marker": {
             "colorbar": {
              "outlinewidth": 0,
              "ticks": ""
             }
            },
            "type": "scatterpolargl"
           }
          ],
          "scatterternary": [
           {
            "marker": {
             "colorbar": {
              "outlinewidth": 0,
              "ticks": ""
             }
            },
            "type": "scatterternary"
           }
          ],
          "surface": [
           {
            "colorbar": {
             "outlinewidth": 0,
             "ticks": ""
            },
            "colorscale": [
             [
              0,
              "#0d0887"
             ],
             [
              0.1111111111111111,
              "#46039f"
             ],
             [
              0.2222222222222222,
              "#7201a8"
             ],
             [
              0.3333333333333333,
              "#9c179e"
             ],
             [
              0.4444444444444444,
              "#bd3786"
             ],
             [
              0.5555555555555556,
              "#d8576b"
             ],
             [
              0.6666666666666666,
              "#ed7953"
             ],
             [
              0.7777777777777778,
              "#fb9f3a"
             ],
             [
              0.8888888888888888,
              "#fdca26"
             ],
             [
              1,
              "#f0f921"
             ]
            ],
            "type": "surface"
           }
          ],
          "table": [
           {
            "cells": {
             "fill": {
              "color": "#EBF0F8"
             },
             "line": {
              "color": "white"
             }
            },
            "header": {
             "fill": {
              "color": "#C8D4E3"
             },
             "line": {
              "color": "white"
             }
            },
            "type": "table"
           }
          ]
         },
         "layout": {
          "annotationdefaults": {
           "arrowcolor": "#2a3f5f",
           "arrowhead": 0,
           "arrowwidth": 1
          },
          "autotypenumbers": "strict",
          "coloraxis": {
           "colorbar": {
            "outlinewidth": 0,
            "ticks": ""
           }
          },
          "colorscale": {
           "diverging": [
            [
             0,
             "#8e0152"
            ],
            [
             0.1,
             "#c51b7d"
            ],
            [
             0.2,
             "#de77ae"
            ],
            [
             0.3,
             "#f1b6da"
            ],
            [
             0.4,
             "#fde0ef"
            ],
            [
             0.5,
             "#f7f7f7"
            ],
            [
             0.6,
             "#e6f5d0"
            ],
            [
             0.7,
             "#b8e186"
            ],
            [
             0.8,
             "#7fbc41"
            ],
            [
             0.9,
             "#4d9221"
            ],
            [
             1,
             "#276419"
            ]
           ],
           "sequential": [
            [
             0,
             "#0d0887"
            ],
            [
             0.1111111111111111,
             "#46039f"
            ],
            [
             0.2222222222222222,
             "#7201a8"
            ],
            [
             0.3333333333333333,
             "#9c179e"
            ],
            [
             0.4444444444444444,
             "#bd3786"
            ],
            [
             0.5555555555555556,
             "#d8576b"
            ],
            [
             0.6666666666666666,
             "#ed7953"
            ],
            [
             0.7777777777777778,
             "#fb9f3a"
            ],
            [
             0.8888888888888888,
             "#fdca26"
            ],
            [
             1,
             "#f0f921"
            ]
           ],
           "sequentialminus": [
            [
             0,
             "#0d0887"
            ],
            [
             0.1111111111111111,
             "#46039f"
            ],
            [
             0.2222222222222222,
             "#7201a8"
            ],
            [
             0.3333333333333333,
             "#9c179e"
            ],
            [
             0.4444444444444444,
             "#bd3786"
            ],
            [
             0.5555555555555556,
             "#d8576b"
            ],
            [
             0.6666666666666666,
             "#ed7953"
            ],
            [
             0.7777777777777778,
             "#fb9f3a"
            ],
            [
             0.8888888888888888,
             "#fdca26"
            ],
            [
             1,
             "#f0f921"
            ]
           ]
          },
          "colorway": [
           "#636efa",
           "#EF553B",
           "#00cc96",
           "#ab63fa",
           "#FFA15A",
           "#19d3f3",
           "#FF6692",
           "#B6E880",
           "#FF97FF",
           "#FECB52"
          ],
          "font": {
           "color": "#2a3f5f"
          },
          "geo": {
           "bgcolor": "white",
           "lakecolor": "white",
           "landcolor": "#E5ECF6",
           "showlakes": true,
           "showland": true,
           "subunitcolor": "white"
          },
          "hoverlabel": {
           "align": "left"
          },
          "hovermode": "closest",
          "mapbox": {
           "style": "light"
          },
          "paper_bgcolor": "white",
          "plot_bgcolor": "#E5ECF6",
          "polar": {
           "angularaxis": {
            "gridcolor": "white",
            "linecolor": "white",
            "ticks": ""
           },
           "bgcolor": "#E5ECF6",
           "radialaxis": {
            "gridcolor": "white",
            "linecolor": "white",
            "ticks": ""
           }
          },
          "scene": {
           "xaxis": {
            "backgroundcolor": "#E5ECF6",
            "gridcolor": "white",
            "gridwidth": 2,
            "linecolor": "white",
            "showbackground": true,
            "ticks": "",
            "zerolinecolor": "white"
           },
           "yaxis": {
            "backgroundcolor": "#E5ECF6",
            "gridcolor": "white",
            "gridwidth": 2,
            "linecolor": "white",
            "showbackground": true,
            "ticks": "",
            "zerolinecolor": "white"
           },
           "zaxis": {
            "backgroundcolor": "#E5ECF6",
            "gridcolor": "white",
            "gridwidth": 2,
            "linecolor": "white",
            "showbackground": true,
            "ticks": "",
            "zerolinecolor": "white"
           }
          },
          "shapedefaults": {
           "line": {
            "color": "#2a3f5f"
           }
          },
          "ternary": {
           "aaxis": {
            "gridcolor": "white",
            "linecolor": "white",
            "ticks": ""
           },
           "baxis": {
            "gridcolor": "white",
            "linecolor": "white",
            "ticks": ""
           },
           "bgcolor": "#E5ECF6",
           "caxis": {
            "gridcolor": "white",
            "linecolor": "white",
            "ticks": ""
           }
          },
          "title": {
           "x": 0.05
          },
          "xaxis": {
           "automargin": true,
           "gridcolor": "white",
           "linecolor": "white",
           "ticks": "",
           "title": {
            "standoff": 15
           },
           "zerolinecolor": "white",
           "zerolinewidth": 2
          },
          "yaxis": {
           "automargin": true,
           "gridcolor": "white",
           "linecolor": "white",
           "ticks": "",
           "title": {
            "standoff": 15
           },
           "zerolinecolor": "white",
           "zerolinewidth": 2
          }
         }
        },
        "xaxis": {
         "anchor": "y",
         "domain": [
          0,
          1
         ],
         "title": {
          "text": "StudentCount"
         }
        },
        "yaxis": {
         "anchor": "x",
         "domain": [
          0,
          1
         ]
        }
       }
      }
     },
     "metadata": {},
     "output_type": "display_data"
    }
   ],
   "source": [
    "# graph box plot for normalized value\n",
    "fig = px.box(df10, x=\"StudentCount\")\n",
    "fig.show()"
   ]
  },
  {
   "cell_type": "code",
   "execution_count": 12,
   "metadata": {},
   "outputs": [
    {
     "data": {
      "application/vnd.plotly.v1+json": {
       "config": {
        "plotlyServerURL": "https://plot.ly"
       },
       "data": [
        {
         "hovertemplate": "Lecturer=ABDUSSALAM, M.Kom<br>NormalizedValue=%{x}<br>StudentCount=%{y}<extra></extra>",
         "legendgroup": "ABDUSSALAM, M.Kom",
         "marker": {
          "color": "#636efa",
          "symbol": "circle"
         },
         "mode": "markers",
         "name": "ABDUSSALAM, M.Kom",
         "orientation": "v",
         "showlegend": true,
         "type": "scatter",
         "x": [
          27.54
         ],
         "xaxis": "x",
         "y": [
          214
         ],
         "yaxis": "y"
        },
        {
         "hovertemplate": "Lecturer=ABU SALAM, M.Kom<br>NormalizedValue=%{x}<br>StudentCount=%{y}<extra></extra>",
         "legendgroup": "ABU SALAM, M.Kom",
         "marker": {
          "color": "#EF553B",
          "symbol": "circle"
         },
         "mode": "markers",
         "name": "ABU SALAM, M.Kom",
         "orientation": "v",
         "showlegend": true,
         "type": "scatter",
         "x": [
          26.27
         ],
         "xaxis": "x",
         "y": [
          322
         ],
         "yaxis": "y"
        },
        {
         "hovertemplate": "Lecturer=ACHMAD BASARI, SS., M.Pd.<br>NormalizedValue=%{x}<br>StudentCount=%{y}<extra></extra>",
         "legendgroup": "ACHMAD BASARI, SS., M.Pd.",
         "marker": {
          "color": "#00cc96",
          "symbol": "circle"
         },
         "mode": "markers",
         "name": "ACHMAD BASARI, SS., M.Pd.",
         "orientation": "v",
         "showlegend": true,
         "type": "scatter",
         "x": [
          29.39
         ],
         "xaxis": "x",
         "y": [
          11
         ],
         "yaxis": "y"
        },
        {
         "hovertemplate": "Lecturer=ACHMAD WAHID KURNIAWAN, S.Si, M.Kom<br>NormalizedValue=%{x}<br>StudentCount=%{y}<extra></extra>",
         "legendgroup": "ACHMAD WAHID KURNIAWAN, S.Si, M.Kom",
         "marker": {
          "color": "#ab63fa",
          "symbol": "circle"
         },
         "mode": "markers",
         "name": "ACHMAD WAHID KURNIAWAN, S.Si, M.Kom",
         "orientation": "v",
         "showlegend": true,
         "type": "scatter",
         "x": [
          26.17
         ],
         "xaxis": "x",
         "y": [
          73
         ],
         "yaxis": "y"
        },
        {
         "hovertemplate": "Lecturer=ADHITYA NUGRAHA, S.Kom, M.CS<br>NormalizedValue=%{x}<br>StudentCount=%{y}<extra></extra>",
         "legendgroup": "ADHITYA NUGRAHA, S.Kom, M.CS",
         "marker": {
          "color": "#FFA15A",
          "symbol": "circle"
         },
         "mode": "markers",
         "name": "ADHITYA NUGRAHA, S.Kom, M.CS",
         "orientation": "v",
         "showlegend": true,
         "type": "scatter",
         "x": [
          27.52
         ],
         "xaxis": "x",
         "y": [
          364
         ],
         "yaxis": "y"
        },
        {
         "hovertemplate": "Lecturer=ADI PRIHANDONO, M.Kom<br>NormalizedValue=%{x}<br>StudentCount=%{y}<extra></extra>",
         "legendgroup": "ADI PRIHANDONO, M.Kom",
         "marker": {
          "color": "#19d3f3",
          "symbol": "circle"
         },
         "mode": "markers",
         "name": "ADI PRIHANDONO, M.Kom",
         "orientation": "v",
         "showlegend": true,
         "type": "scatter",
         "x": [
          26.78
         ],
         "xaxis": "x",
         "y": [
          274
         ],
         "yaxis": "y"
        },
        {
         "hovertemplate": "Lecturer=AFFANDY, M.Kom, Ph.D.<br>NormalizedValue=%{x}<br>StudentCount=%{y}<extra></extra>",
         "legendgroup": "AFFANDY, M.Kom, Ph.D.",
         "marker": {
          "color": "#FF6692",
          "symbol": "circle"
         },
         "mode": "markers",
         "name": "AFFANDY, M.Kom, Ph.D.",
         "orientation": "v",
         "showlegend": true,
         "type": "scatter",
         "x": [
          26.48
         ],
         "xaxis": "x",
         "y": [
          75
         ],
         "yaxis": "y"
        },
        {
         "hovertemplate": "Lecturer=AJIB SUSANTO, M.Kom<br>NormalizedValue=%{x}<br>StudentCount=%{y}<extra></extra>",
         "legendgroup": "AJIB SUSANTO, M.Kom",
         "marker": {
          "color": "#B6E880",
          "symbol": "circle"
         },
         "mode": "markers",
         "name": "AJIB SUSANTO, M.Kom",
         "orientation": "v",
         "showlegend": true,
         "type": "scatter",
         "x": [
          26.85
         ],
         "xaxis": "x",
         "y": [
          253
         ],
         "yaxis": "y"
        },
        {
         "hovertemplate": "Lecturer=AMIQ FAHMI, S. Kom., M.Kom.<br>NormalizedValue=%{x}<br>StudentCount=%{y}<extra></extra>",
         "legendgroup": "AMIQ FAHMI, S. Kom., M.Kom.",
         "marker": {
          "color": "#FF97FF",
          "symbol": "circle"
         },
         "mode": "markers",
         "name": "AMIQ FAHMI, S. Kom., M.Kom.",
         "orientation": "v",
         "showlegend": true,
         "type": "scatter",
         "x": [
          27.36
         ],
         "xaxis": "x",
         "y": [
          20
         ],
         "yaxis": "y"
        },
        {
         "hovertemplate": "Lecturer=ANDI DANANG KRISMAWAN, S.Kom, M.Kom<br>NormalizedValue=%{x}<br>StudentCount=%{y}<extra></extra>",
         "legendgroup": "ANDI DANANG KRISMAWAN, S.Kom, M.Kom",
         "marker": {
          "color": "#FECB52",
          "symbol": "circle"
         },
         "mode": "markers",
         "name": "ANDI DANANG KRISMAWAN, S.Kom, M.Kom",
         "orientation": "v",
         "showlegend": true,
         "type": "scatter",
         "x": [
          26.37
         ],
         "xaxis": "x",
         "y": [
          46
         ],
         "yaxis": "y"
        },
        {
         "hovertemplate": "Lecturer=ANDI HALLANG LEWA, S.S., M.M<br>NormalizedValue=%{x}<br>StudentCount=%{y}<extra></extra>",
         "legendgroup": "ANDI HALLANG LEWA, S.S., M.M",
         "marker": {
          "color": "#636efa",
          "symbol": "circle"
         },
         "mode": "markers",
         "name": "ANDI HALLANG LEWA, S.S., M.M",
         "orientation": "v",
         "showlegend": true,
         "type": "scatter",
         "x": [
          30
         ],
         "xaxis": "x",
         "y": [
          2
         ],
         "yaxis": "y"
        },
        {
         "hovertemplate": "Lecturer=ANIS NI'AM IMANA, S.H.I, M.E<br>NormalizedValue=%{x}<br>StudentCount=%{y}<extra></extra>",
         "legendgroup": "ANIS NI'AM IMANA, S.H.I, M.E",
         "marker": {
          "color": "#EF553B",
          "symbol": "circle"
         },
         "mode": "markers",
         "name": "ANIS NI'AM IMANA, S.H.I, M.E",
         "orientation": "v",
         "showlegend": true,
         "type": "scatter",
         "x": [
          27.5
         ],
         "xaxis": "x",
         "y": [
          11
         ],
         "yaxis": "y"
        },
        {
         "hovertemplate": "Lecturer=ANISA LARASSATI, S.S, M.Ling<br>NormalizedValue=%{x}<br>StudentCount=%{y}<extra></extra>",
         "legendgroup": "ANISA LARASSATI, S.S, M.Ling",
         "marker": {
          "color": "#00cc96",
          "symbol": "circle"
         },
         "mode": "markers",
         "name": "ANISA LARASSATI, S.S, M.Ling",
         "orientation": "v",
         "showlegend": true,
         "type": "scatter",
         "x": [
          25.32
         ],
         "xaxis": "x",
         "y": [
          14
         ],
         "yaxis": "y"
        },
        {
         "hovertemplate": "Lecturer=APRILYANI NUR SAFITRI, M.Kom<br>NormalizedValue=%{x}<br>StudentCount=%{y}<extra></extra>",
         "legendgroup": "APRILYANI NUR SAFITRI, M.Kom",
         "marker": {
          "color": "#ab63fa",
          "symbol": "circle"
         },
         "mode": "markers",
         "name": "APRILYANI NUR SAFITRI, M.Kom",
         "orientation": "v",
         "showlegend": true,
         "type": "scatter",
         "x": [
          25.81
         ],
         "xaxis": "x",
         "y": [
          260
         ],
         "yaxis": "y"
        },
        {
         "hovertemplate": "Lecturer=ARDIAWAN BAGUS HARISA, S.Kom, M.Sc<br>NormalizedValue=%{x}<br>StudentCount=%{y}<extra></extra>",
         "legendgroup": "ARDIAWAN BAGUS HARISA, S.Kom, M.Sc",
         "marker": {
          "color": "#FFA15A",
          "symbol": "circle"
         },
         "mode": "markers",
         "name": "ARDIAWAN BAGUS HARISA, S.Kom, M.Sc",
         "orientation": "v",
         "showlegend": true,
         "type": "scatter",
         "x": [
          27.81
         ],
         "xaxis": "x",
         "y": [
          180
         ],
         "yaxis": "y"
        },
        {
         "hovertemplate": "Lecturer=ARDYTHA LUTHFIARTA, M.Kom<br>NormalizedValue=%{x}<br>StudentCount=%{y}<extra></extra>",
         "legendgroup": "ARDYTHA LUTHFIARTA, M.Kom",
         "marker": {
          "color": "#19d3f3",
          "symbol": "circle"
         },
         "mode": "markers",
         "name": "ARDYTHA LUTHFIARTA, M.Kom",
         "orientation": "v",
         "showlegend": true,
         "type": "scatter",
         "x": [
          27.67
         ],
         "xaxis": "x",
         "y": [
          433
         ],
         "yaxis": "y"
        },
        {
         "hovertemplate": "Lecturer=ARFIKA PERTIWI PUTRI, M.I.Kom<br>NormalizedValue=%{x}<br>StudentCount=%{y}<extra></extra>",
         "legendgroup": "ARFIKA PERTIWI PUTRI, M.I.Kom",
         "marker": {
          "color": "#FF6692",
          "symbol": "circle"
         },
         "mode": "markers",
         "name": "ARFIKA PERTIWI PUTRI, M.I.Kom",
         "orientation": "v",
         "showlegend": true,
         "type": "scatter",
         "x": [
          27.92
         ],
         "xaxis": "x",
         "y": [
          6
         ],
         "yaxis": "y"
        },
        {
         "hovertemplate": "Lecturer=ARIES SETIAWAN, M.Kom<br>NormalizedValue=%{x}<br>StudentCount=%{y}<extra></extra>",
         "legendgroup": "ARIES SETIAWAN, M.Kom",
         "marker": {
          "color": "#B6E880",
          "symbol": "circle"
         },
         "mode": "markers",
         "name": "ARIES SETIAWAN, M.Kom",
         "orientation": "v",
         "showlegend": true,
         "type": "scatter",
         "x": [
          25.3
         ],
         "xaxis": "x",
         "y": [
          32
         ],
         "yaxis": "y"
        },
        {
         "hovertemplate": "Lecturer=AYU ASHARI, S.S.T, M.Kes<br>NormalizedValue=%{x}<br>StudentCount=%{y}<extra></extra>",
         "legendgroup": "AYU ASHARI, S.S.T, M.Kes",
         "marker": {
          "color": "#FF97FF",
          "symbol": "circle"
         },
         "mode": "markers",
         "name": "AYU ASHARI, S.S.T, M.Kes",
         "orientation": "v",
         "showlegend": true,
         "type": "scatter",
         "x": [
          23.25
         ],
         "xaxis": "x",
         "y": [
          1
         ],
         "yaxis": "y"
        },
        {
         "hovertemplate": "Lecturer=AYU PERTIWI, S.Kom, MT<br>NormalizedValue=%{x}<br>StudentCount=%{y}<extra></extra>",
         "legendgroup": "AYU PERTIWI, S.Kom, MT",
         "marker": {
          "color": "#FECB52",
          "symbol": "circle"
         },
         "mode": "markers",
         "name": "AYU PERTIWI, S.Kom, MT",
         "orientation": "v",
         "showlegend": true,
         "type": "scatter",
         "x": [
          27.07
         ],
         "xaxis": "x",
         "y": [
          107
         ],
         "yaxis": "y"
        },
        {
         "hovertemplate": "Lecturer=BAYU ADE PRABOWO, SS., M.S<br>NormalizedValue=%{x}<br>StudentCount=%{y}<extra></extra>",
         "legendgroup": "BAYU ADE PRABOWO, SS., M.S",
         "marker": {
          "color": "#636efa",
          "symbol": "circle"
         },
         "mode": "markers",
         "name": "BAYU ADE PRABOWO, SS., M.S",
         "orientation": "v",
         "showlegend": true,
         "type": "scatter",
         "x": [
          26.91
         ],
         "xaxis": "x",
         "y": [
          11
         ],
         "yaxis": "y"
        },
        {
         "hovertemplate": "Lecturer=BONIFACIUS VICKY INDRIYONO, S.Kom., M.Kom<br>NormalizedValue=%{x}<br>StudentCount=%{y}<extra></extra>",
         "legendgroup": "BONIFACIUS VICKY INDRIYONO, S.Kom., M.Kom",
         "marker": {
          "color": "#EF553B",
          "symbol": "circle"
         },
         "mode": "markers",
         "name": "BONIFACIUS VICKY INDRIYONO, S.Kom., M.Kom",
         "orientation": "v",
         "showlegend": true,
         "type": "scatter",
         "x": [
          28.31
         ],
         "xaxis": "x",
         "y": [
          12
         ],
         "yaxis": "y"
        },
        {
         "hovertemplate": "Lecturer=CAHAYA JATMOKO, M.Kom<br>NormalizedValue=%{x}<br>StudentCount=%{y}<extra></extra>",
         "legendgroup": "CAHAYA JATMOKO, M.Kom",
         "marker": {
          "color": "#00cc96",
          "symbol": "circle"
         },
         "mode": "markers",
         "name": "CAHAYA JATMOKO, M.Kom",
         "orientation": "v",
         "showlegend": true,
         "type": "scatter",
         "x": [
          25.8
         ],
         "xaxis": "x",
         "y": [
          518
         ],
         "yaxis": "y"
        },
        {
         "hovertemplate": "Lecturer=CHAERUL UMAM, M.Kom<br>NormalizedValue=%{x}<br>StudentCount=%{y}<extra></extra>",
         "legendgroup": "CHAERUL UMAM, M.Kom",
         "marker": {
          "color": "#ab63fa",
          "symbol": "circle"
         },
         "mode": "markers",
         "name": "CHAERUL UMAM, M.Kom",
         "orientation": "v",
         "showlegend": true,
         "type": "scatter",
         "x": [
          27.64
         ],
         "xaxis": "x",
         "y": [
          197
         ],
         "yaxis": "y"
        },
        {
         "hovertemplate": "Lecturer=CHOERUL UMAM, S.Kom., M.M<br>NormalizedValue=%{x}<br>StudentCount=%{y}<extra></extra>",
         "legendgroup": "CHOERUL UMAM, S.Kom., M.M",
         "marker": {
          "color": "#FFA15A",
          "symbol": "circle"
         },
         "mode": "markers",
         "name": "CHOERUL UMAM, S.Kom., M.M",
         "orientation": "v",
         "showlegend": true,
         "type": "scatter",
         "x": [
          28.96
         ],
         "xaxis": "x",
         "y": [
          12
         ],
         "yaxis": "y"
        },
        {
         "hovertemplate": "Lecturer=CHOIRUL ANAM, M.Pd.I<br>NormalizedValue=%{x}<br>StudentCount=%{y}<extra></extra>",
         "legendgroup": "CHOIRUL ANAM, M.Pd.I",
         "marker": {
          "color": "#19d3f3",
          "symbol": "circle"
         },
         "mode": "markers",
         "name": "CHOIRUL ANAM, M.Pd.I",
         "orientation": "v",
         "showlegend": true,
         "type": "scatter",
         "x": [
          26.17
         ],
         "xaxis": "x",
         "y": [
          12
         ],
         "yaxis": "y"
        },
        {
         "hovertemplate": "Lecturer=CHRISTY ATIKA SARI, M.Kom<br>NormalizedValue=%{x}<br>StudentCount=%{y}<extra></extra>",
         "legendgroup": "CHRISTY ATIKA SARI, M.Kom",
         "marker": {
          "color": "#FF6692",
          "symbol": "circle"
         },
         "mode": "markers",
         "name": "CHRISTY ATIKA SARI, M.Kom",
         "orientation": "v",
         "showlegend": true,
         "type": "scatter",
         "x": [
          26.91
         ],
         "xaxis": "x",
         "y": [
          259
         ],
         "yaxis": "y"
        },
        {
         "hovertemplate": "Lecturer=CINANTYA PARAMITA, S.Kom., M.Eng<br>NormalizedValue=%{x}<br>StudentCount=%{y}<extra></extra>",
         "legendgroup": "CINANTYA PARAMITA, S.Kom., M.Eng",
         "marker": {
          "color": "#B6E880",
          "symbol": "circle"
         },
         "mode": "markers",
         "name": "CINANTYA PARAMITA, S.Kom., M.Eng",
         "orientation": "v",
         "showlegend": true,
         "type": "scatter",
         "x": [
          27.2
         ],
         "xaxis": "x",
         "y": [
          273
         ],
         "yaxis": "y"
        },
        {
         "hovertemplate": "Lecturer=DANANG WAHYU UTOMO, M.Kom<br>NormalizedValue=%{x}<br>StudentCount=%{y}<extra></extra>",
         "legendgroup": "DANANG WAHYU UTOMO, M.Kom",
         "marker": {
          "color": "#FF97FF",
          "symbol": "circle"
         },
         "mode": "markers",
         "name": "DANANG WAHYU UTOMO, M.Kom",
         "orientation": "v",
         "showlegend": true,
         "type": "scatter",
         "x": [
          27.72
         ],
         "xaxis": "x",
         "y": [
          438
         ],
         "yaxis": "y"
        },
        {
         "hovertemplate": "Lecturer=DANNY OKA RATMANA, M.Kom<br>NormalizedValue=%{x}<br>StudentCount=%{y}<extra></extra>",
         "legendgroup": "DANNY OKA RATMANA, M.Kom",
         "marker": {
          "color": "#FECB52",
          "symbol": "circle"
         },
         "mode": "markers",
         "name": "DANNY OKA RATMANA, M.Kom",
         "orientation": "v",
         "showlegend": true,
         "type": "scatter",
         "x": [
          27.1
         ],
         "xaxis": "x",
         "y": [
          59
         ],
         "yaxis": "y"
        },
        {
         "hovertemplate": "Lecturer=DAURAT SINAGA, M.Kom<br>NormalizedValue=%{x}<br>StudentCount=%{y}<extra></extra>",
         "legendgroup": "DAURAT SINAGA, M.Kom",
         "marker": {
          "color": "#636efa",
          "symbol": "circle"
         },
         "mode": "markers",
         "name": "DAURAT SINAGA, M.Kom",
         "orientation": "v",
         "showlegend": true,
         "type": "scatter",
         "x": [
          24.47
         ],
         "xaxis": "x",
         "y": [
          568
         ],
         "yaxis": "y"
        },
        {
         "hovertemplate": "Lecturer=DE ROSAL, IGNATIUS MOSES SETIADI, M.Kom<br>NormalizedValue=%{x}<br>StudentCount=%{y}<extra></extra>",
         "legendgroup": "DE ROSAL, IGNATIUS MOSES SETIADI, M.Kom",
         "marker": {
          "color": "#EF553B",
          "symbol": "circle"
         },
         "mode": "markers",
         "name": "DE ROSAL, IGNATIUS MOSES SETIADI, M.Kom",
         "orientation": "v",
         "showlegend": true,
         "type": "scatter",
         "x": [
          27.22
         ],
         "xaxis": "x",
         "y": [
          153
         ],
         "yaxis": "y"
        },
        {
         "hovertemplate": "Lecturer=DEDDY AWARD WIDYA LAKSANA, M.Pd<br>NormalizedValue=%{x}<br>StudentCount=%{y}<extra></extra>",
         "legendgroup": "DEDDY AWARD WIDYA LAKSANA, M.Pd",
         "marker": {
          "color": "#00cc96",
          "symbol": "circle"
         },
         "mode": "markers",
         "name": "DEDDY AWARD WIDYA LAKSANA, M.Pd",
         "orientation": "v",
         "showlegend": true,
         "type": "scatter",
         "x": [
          30
         ],
         "xaxis": "x",
         "y": [
          3
         ],
         "yaxis": "y"
        },
        {
         "hovertemplate": "Lecturer=DEFRI KURNIAWAN, M.Kom<br>NormalizedValue=%{x}<br>StudentCount=%{y}<extra></extra>",
         "legendgroup": "DEFRI KURNIAWAN, M.Kom",
         "marker": {
          "color": "#ab63fa",
          "symbol": "circle"
         },
         "mode": "markers",
         "name": "DEFRI KURNIAWAN, M.Kom",
         "orientation": "v",
         "showlegend": true,
         "type": "scatter",
         "x": [
          27.39
         ],
         "xaxis": "x",
         "y": [
          597
         ],
         "yaxis": "y"
        },
        {
         "hovertemplate": "Lecturer=DENY SALVANA ERVAN, M.Kom<br>NormalizedValue=%{x}<br>StudentCount=%{y}<extra></extra>",
         "legendgroup": "DENY SALVANA ERVAN, M.Kom",
         "marker": {
          "color": "#FFA15A",
          "symbol": "circle"
         },
         "mode": "markers",
         "name": "DENY SALVANA ERVAN, M.Kom",
         "orientation": "v",
         "showlegend": true,
         "type": "scatter",
         "x": [
          25.19
         ],
         "xaxis": "x",
         "y": [
          80
         ],
         "yaxis": "y"
        },
        {
         "hovertemplate": "Lecturer=DEWI AGUSTINI SANTOSO, M.Kom<br>NormalizedValue=%{x}<br>StudentCount=%{y}<extra></extra>",
         "legendgroup": "DEWI AGUSTINI SANTOSO, M.Kom",
         "marker": {
          "color": "#19d3f3",
          "symbol": "circle"
         },
         "mode": "markers",
         "name": "DEWI AGUSTINI SANTOSO, M.Kom",
         "orientation": "v",
         "showlegend": true,
         "type": "scatter",
         "x": [
          26.6
         ],
         "xaxis": "x",
         "y": [
          37
         ],
         "yaxis": "y"
        },
        {
         "hovertemplate": "Lecturer=DEWI PERGIWATI, S.Kom., M.Kom<br>NormalizedValue=%{x}<br>StudentCount=%{y}<extra></extra>",
         "legendgroup": "DEWI PERGIWATI, S.Kom., M.Kom",
         "marker": {
          "color": "#FF6692",
          "symbol": "circle"
         },
         "mode": "markers",
         "name": "DEWI PERGIWATI, S.Kom., M.Kom",
         "orientation": "v",
         "showlegend": true,
         "type": "scatter",
         "x": [
          29
         ],
         "xaxis": "x",
         "y": [
          2
         ],
         "yaxis": "y"
        },
        {
         "hovertemplate": "Lecturer=DIBYO ADI WIBOWO, S.Si., M.Si<br>NormalizedValue=%{x}<br>StudentCount=%{y}<extra></extra>",
         "legendgroup": "DIBYO ADI WIBOWO, S.Si., M.Si",
         "marker": {
          "color": "#B6E880",
          "symbol": "circle"
         },
         "mode": "markers",
         "name": "DIBYO ADI WIBOWO, S.Si., M.Si",
         "orientation": "v",
         "showlegend": true,
         "type": "scatter",
         "x": [
          28.69
         ],
         "xaxis": "x",
         "y": [
          24
         ],
         "yaxis": "y"
        },
        {
         "hovertemplate": "Lecturer=DIDING DARMUDI, Lc., M.Si.<br>NormalizedValue=%{x}<br>StudentCount=%{y}<extra></extra>",
         "legendgroup": "DIDING DARMUDI, Lc., M.Si.",
         "marker": {
          "color": "#FF97FF",
          "symbol": "circle"
         },
         "mode": "markers",
         "name": "DIDING DARMUDI, Lc., M.Si.",
         "orientation": "v",
         "showlegend": true,
         "type": "scatter",
         "x": [
          28.26
         ],
         "xaxis": "x",
         "y": [
          37
         ],
         "yaxis": "y"
        },
        {
         "hovertemplate": "Lecturer=DR RURI SUKO BASUKI, M.Kom<br>NormalizedValue=%{x}<br>StudentCount=%{y}<extra></extra>",
         "legendgroup": "DR RURI SUKO BASUKI, M.Kom",
         "marker": {
          "color": "#FECB52",
          "symbol": "circle"
         },
         "mode": "markers",
         "name": "DR RURI SUKO BASUKI, M.Kom",
         "orientation": "v",
         "showlegend": true,
         "type": "scatter",
         "x": [
          26.24
         ],
         "xaxis": "x",
         "y": [
          80
         ],
         "yaxis": "y"
        },
        {
         "hovertemplate": "Lecturer=DR SOLICHUL HUDA, M.Kom<br>NormalizedValue=%{x}<br>StudentCount=%{y}<extra></extra>",
         "legendgroup": "DR SOLICHUL HUDA, M.Kom",
         "marker": {
          "color": "#636efa",
          "symbol": "circle"
         },
         "mode": "markers",
         "name": "DR SOLICHUL HUDA, M.Kom",
         "orientation": "v",
         "showlegend": true,
         "type": "scatter",
         "x": [
          27.65
         ],
         "xaxis": "x",
         "y": [
          86
         ],
         "yaxis": "y"
        },
        {
         "hovertemplate": "Lecturer=DR. ARRY MAULANA SYARIF, S.S, M.Kom<br>NormalizedValue=%{x}<br>StudentCount=%{y}<extra></extra>",
         "legendgroup": "DR. ARRY MAULANA SYARIF, S.S, M.Kom",
         "marker": {
          "color": "#EF553B",
          "symbol": "circle"
         },
         "mode": "markers",
         "name": "DR. ARRY MAULANA SYARIF, S.S, M.Kom",
         "orientation": "v",
         "showlegend": true,
         "type": "scatter",
         "x": [
          27.1
         ],
         "xaxis": "x",
         "y": [
          121
         ],
         "yaxis": "y"
        },
        {
         "hovertemplate": "Lecturer=DR. FIKRI BUDIMAN, M.Kom<br>NormalizedValue=%{x}<br>StudentCount=%{y}<extra></extra>",
         "legendgroup": "DR. FIKRI BUDIMAN, M.Kom",
         "marker": {
          "color": "#00cc96",
          "symbol": "circle"
         },
         "mode": "markers",
         "name": "DR. FIKRI BUDIMAN, M.Kom",
         "orientation": "v",
         "showlegend": true,
         "type": "scatter",
         "x": [
          26.11
         ],
         "xaxis": "x",
         "y": [
          75
         ],
         "yaxis": "y"
        },
        {
         "hovertemplate": "Lecturer=DWI PUJI PRABOWO, S.Sn,M.Kom<br>NormalizedValue=%{x}<br>StudentCount=%{y}<extra></extra>",
         "legendgroup": "DWI PUJI PRABOWO, S.Sn,M.Kom",
         "marker": {
          "color": "#ab63fa",
          "symbol": "circle"
         },
         "mode": "markers",
         "name": "DWI PUJI PRABOWO, S.Sn,M.Kom",
         "orientation": "v",
         "showlegend": true,
         "type": "scatter",
         "x": [
          30
         ],
         "xaxis": "x",
         "y": [
          2
         ],
         "yaxis": "y"
        },
        {
         "hovertemplate": "Lecturer=DYAH GAYATRI, DRA<br>NormalizedValue=%{x}<br>StudentCount=%{y}<extra></extra>",
         "legendgroup": "DYAH GAYATRI, DRA",
         "marker": {
          "color": "#FFA15A",
          "symbol": "circle"
         },
         "mode": "markers",
         "name": "DYAH GAYATRI, DRA",
         "orientation": "v",
         "showlegend": true,
         "type": "scatter",
         "x": [
          30
         ],
         "xaxis": "x",
         "y": [
          1
         ],
         "yaxis": "y"
        },
        {
         "hovertemplate": "Lecturer=Dipl.-Wi.-Ing.  B.J RIDWAN HARTONO<br>NormalizedValue=%{x}<br>StudentCount=%{y}<extra></extra>",
         "legendgroup": "Dipl.-Wi.-Ing.  B.J RIDWAN HARTONO",
         "marker": {
          "color": "#19d3f3",
          "symbol": "circle"
         },
         "mode": "markers",
         "name": "Dipl.-Wi.-Ing.  B.J RIDWAN HARTONO",
         "orientation": "v",
         "showlegend": true,
         "type": "scatter",
         "x": [
          22.5
         ],
         "xaxis": "x",
         "y": [
          1
         ],
         "yaxis": "y"
        },
        {
         "hovertemplate": "Lecturer=Dr M. ARIEF SOELEMAN, M.Kom<br>NormalizedValue=%{x}<br>StudentCount=%{y}<extra></extra>",
         "legendgroup": "Dr M. ARIEF SOELEMAN, M.Kom",
         "marker": {
          "color": "#FF6692",
          "symbol": "circle"
         },
         "mode": "markers",
         "name": "Dr M. ARIEF SOELEMAN, M.Kom",
         "orientation": "v",
         "showlegend": true,
         "type": "scatter",
         "x": [
          26.01
         ],
         "xaxis": "x",
         "y": [
          101
         ],
         "yaxis": "y"
        },
        {
         "hovertemplate": "Lecturer=Dr.  ABDUL SYUKUR<br>NormalizedValue=%{x}<br>StudentCount=%{y}<extra></extra>",
         "legendgroup": "Dr.  ABDUL SYUKUR",
         "marker": {
          "color": "#B6E880",
          "symbol": "circle"
         },
         "mode": "markers",
         "name": "Dr.  ABDUL SYUKUR",
         "orientation": "v",
         "showlegend": true,
         "type": "scatter",
         "x": [
          25.77
         ],
         "xaxis": "x",
         "y": [
          81
         ],
         "yaxis": "y"
        },
        {
         "hovertemplate": "Lecturer=Dr.  BUDI HARJO, M.Kom<br>NormalizedValue=%{x}<br>StudentCount=%{y}<extra></extra>",
         "legendgroup": "Dr.  BUDI HARJO, M.Kom",
         "marker": {
          "color": "#FF97FF",
          "symbol": "circle"
         },
         "mode": "markers",
         "name": "Dr.  BUDI HARJO, M.Kom",
         "orientation": "v",
         "showlegend": true,
         "type": "scatter",
         "x": [
          26.83
         ],
         "xaxis": "x",
         "y": [
          94
         ],
         "yaxis": "y"
        },
        {
         "hovertemplate": "Lecturer=Dr. AHMAD ZAINUL FANANI, SSi, M.Kom<br>NormalizedValue=%{x}<br>StudentCount=%{y}<extra></extra>",
         "legendgroup": "Dr. AHMAD ZAINUL FANANI, SSi, M.Kom",
         "marker": {
          "color": "#FECB52",
          "symbol": "circle"
         },
         "mode": "markers",
         "name": "Dr. AHMAD ZAINUL FANANI, SSi, M.Kom",
         "orientation": "v",
         "showlegend": true,
         "type": "scatter",
         "x": [
          26.88
         ],
         "xaxis": "x",
         "y": [
          59
         ],
         "yaxis": "y"
        },
        {
         "hovertemplate": "Lecturer=Dr. ARIS MARJUNI, S.Si., M.Kom<br>NormalizedValue=%{x}<br>StudentCount=%{y}<extra></extra>",
         "legendgroup": "Dr. ARIS MARJUNI, S.Si., M.Kom",
         "marker": {
          "color": "#636efa",
          "symbol": "circle"
         },
         "mode": "markers",
         "name": "Dr. ARIS MARJUNI, S.Si., M.Kom",
         "orientation": "v",
         "showlegend": true,
         "type": "scatter",
         "x": [
          26.55
         ],
         "xaxis": "x",
         "y": [
          173
         ],
         "yaxis": "y"
        },
        {
         "hovertemplate": "Lecturer=Dr. CATUR SUPRIYANTO, S. Kom, M.CS<br>NormalizedValue=%{x}<br>StudentCount=%{y}<extra></extra>",
         "legendgroup": "Dr. CATUR SUPRIYANTO, S. Kom, M.CS",
         "marker": {
          "color": "#EF553B",
          "symbol": "circle"
         },
         "mode": "markers",
         "name": "Dr. CATUR SUPRIYANTO, S. Kom, M.CS",
         "orientation": "v",
         "showlegend": true,
         "type": "scatter",
         "x": [
          25.96
         ],
         "xaxis": "x",
         "y": [
          123
         ],
         "yaxis": "y"
        },
        {
         "hovertemplate": "Lecturer=Dr. FARRIKH AL ZAMI, M.Kom<br>NormalizedValue=%{x}<br>StudentCount=%{y}<extra></extra>",
         "legendgroup": "Dr. FARRIKH AL ZAMI, M.Kom",
         "marker": {
          "color": "#00cc96",
          "symbol": "circle"
         },
         "mode": "markers",
         "name": "Dr. FARRIKH AL ZAMI, M.Kom",
         "orientation": "v",
         "showlegend": true,
         "type": "scatter",
         "x": [
          25.84
         ],
         "xaxis": "x",
         "y": [
          56
         ],
         "yaxis": "y"
        },
        {
         "hovertemplate": "Lecturer=Dr. GURUH FAJAR SHIDIK, S.Kom., M.Cs<br>NormalizedValue=%{x}<br>StudentCount=%{y}<extra></extra>",
         "legendgroup": "Dr. GURUH FAJAR SHIDIK, S.Kom., M.Cs",
         "marker": {
          "color": "#ab63fa",
          "symbol": "circle"
         },
         "mode": "markers",
         "name": "Dr. GURUH FAJAR SHIDIK, S.Kom., M.Cs",
         "orientation": "v",
         "showlegend": true,
         "type": "scatter",
         "x": [
          24.85
         ],
         "xaxis": "x",
         "y": [
          39
         ],
         "yaxis": "y"
        },
        {
         "hovertemplate": "Lecturer=Dr. HERIBERTUS HIMAWAN, S.Kom., M.Kom<br>NormalizedValue=%{x}<br>StudentCount=%{y}<extra></extra>",
         "legendgroup": "Dr. HERIBERTUS HIMAWAN, S.Kom., M.Kom",
         "marker": {
          "color": "#FFA15A",
          "symbol": "circle"
         },
         "mode": "markers",
         "name": "Dr. HERIBERTUS HIMAWAN, S.Kom., M.Kom",
         "orientation": "v",
         "showlegend": true,
         "type": "scatter",
         "x": [
          27.06
         ],
         "xaxis": "x",
         "y": [
          175
         ],
         "yaxis": "y"
        },
        {
         "hovertemplate": "Lecturer=Dr. Ir. ARIPIN, M.Kom<br>NormalizedValue=%{x}<br>StudentCount=%{y}<extra></extra>",
         "legendgroup": "Dr. Ir. ARIPIN, M.Kom",
         "marker": {
          "color": "#19d3f3",
          "symbol": "circle"
         },
         "mode": "markers",
         "name": "Dr. Ir. ARIPIN, M.Kom",
         "orientation": "v",
         "showlegend": true,
         "type": "scatter",
         "x": [
          27.25
         ],
         "xaxis": "x",
         "y": [
          145
         ],
         "yaxis": "y"
        },
        {
         "hovertemplate": "Lecturer=Dr. KHAFIIZH HASTUTI, M.Kom<br>NormalizedValue=%{x}<br>StudentCount=%{y}<extra></extra>",
         "legendgroup": "Dr. KHAFIIZH HASTUTI, M.Kom",
         "marker": {
          "color": "#FF6692",
          "symbol": "circle"
         },
         "mode": "markers",
         "name": "Dr. KHAFIIZH HASTUTI, M.Kom",
         "orientation": "v",
         "showlegend": true,
         "type": "scatter",
         "x": [
          27.15
         ],
         "xaxis": "x",
         "y": [
          106
         ],
         "yaxis": "y"
        },
        {
         "hovertemplate": "Lecturer=Dr. MULJONO, S.Si, M.Kom<br>NormalizedValue=%{x}<br>StudentCount=%{y}<extra></extra>",
         "legendgroup": "Dr. MULJONO, S.Si, M.Kom",
         "marker": {
          "color": "#B6E880",
          "symbol": "circle"
         },
         "mode": "markers",
         "name": "Dr. MULJONO, S.Si, M.Kom",
         "orientation": "v",
         "showlegend": true,
         "type": "scatter",
         "x": [
          27.53
         ],
         "xaxis": "x",
         "y": [
          159
         ],
         "yaxis": "y"
        },
        {
         "hovertemplate": "Lecturer=Dr. NOVA RIJATI, S.Si., M.Kom<br>NormalizedValue=%{x}<br>StudentCount=%{y}<extra></extra>",
         "legendgroup": "Dr. NOVA RIJATI, S.Si., M.Kom",
         "marker": {
          "color": "#FF97FF",
          "symbol": "circle"
         },
         "mode": "markers",
         "name": "Dr. NOVA RIJATI, S.Si., M.Kom",
         "orientation": "v",
         "showlegend": true,
         "type": "scatter",
         "x": [
          26.7
         ],
         "xaxis": "x",
         "y": [
          109
         ],
         "yaxis": "y"
        },
        {
         "hovertemplate": "Lecturer=Dr. PUJIONO, S.Si., M.Kom<br>NormalizedValue=%{x}<br>StudentCount=%{y}<extra></extra>",
         "legendgroup": "Dr. PUJIONO, S.Si., M.Kom",
         "marker": {
          "color": "#FECB52",
          "symbol": "circle"
         },
         "mode": "markers",
         "name": "Dr. PUJIONO, S.Si., M.Kom",
         "orientation": "v",
         "showlegend": true,
         "type": "scatter",
         "x": [
          26.82
         ],
         "xaxis": "x",
         "y": [
          60
         ],
         "yaxis": "y"
        },
        {
         "hovertemplate": "Lecturer=Dr. RICARDUS ANGGI PRAMUNENDAR, S.Kom,. M.CS<br>NormalizedValue=%{x}<br>StudentCount=%{y}<extra></extra>",
         "legendgroup": "Dr. RICARDUS ANGGI PRAMUNENDAR, S.Kom,. M.CS",
         "marker": {
          "color": "#636efa",
          "symbol": "circle"
         },
         "mode": "markers",
         "name": "Dr. RICARDUS ANGGI PRAMUNENDAR, S.Kom,. M.CS",
         "orientation": "v",
         "showlegend": true,
         "type": "scatter",
         "x": [
          26.51
         ],
         "xaxis": "x",
         "y": [
          96
         ],
         "yaxis": "y"
        },
        {
         "hovertemplate": "Lecturer=Dr. RIYANA DEWI, M.Pd<br>NormalizedValue=%{x}<br>StudentCount=%{y}<extra></extra>",
         "legendgroup": "Dr. RIYANA DEWI, M.Pd",
         "marker": {
          "color": "#EF553B",
          "symbol": "circle"
         },
         "mode": "markers",
         "name": "Dr. RIYANA DEWI, M.Pd",
         "orientation": "v",
         "showlegend": true,
         "type": "scatter",
         "x": [
          26.38
         ],
         "xaxis": "x",
         "y": [
          18
         ],
         "yaxis": "y"
        },
        {
         "hovertemplate": "Lecturer=Dr. SENDI NOVIANTO, S.Kom, M.T<br>NormalizedValue=%{x}<br>StudentCount=%{y}<extra></extra>",
         "legendgroup": "Dr. SENDI NOVIANTO, S.Kom, M.T",
         "marker": {
          "color": "#00cc96",
          "symbol": "circle"
         },
         "mode": "markers",
         "name": "Dr. SENDI NOVIANTO, S.Kom, M.T",
         "orientation": "v",
         "showlegend": true,
         "type": "scatter",
         "x": [
          27.24
         ],
         "xaxis": "x",
         "y": [
          247
         ],
         "yaxis": "y"
        },
        {
         "hovertemplate": "Lecturer=Dr. WAHYU AJI EKO PRABOWO, S.Si, M.T<br>NormalizedValue=%{x}<br>StudentCount=%{y}<extra></extra>",
         "legendgroup": "Dr. WAHYU AJI EKO PRABOWO, S.Si, M.T",
         "marker": {
          "color": "#ab63fa",
          "symbol": "circle"
         },
         "mode": "markers",
         "name": "Dr. WAHYU AJI EKO PRABOWO, S.Si, M.T",
         "orientation": "v",
         "showlegend": true,
         "type": "scatter",
         "x": [
          27.66
         ],
         "xaxis": "x",
         "y": [
          222
         ],
         "yaxis": "y"
        },
        {
         "hovertemplate": "Lecturer=Dr. YUVENTIUS TYAS CATUR PRAMUDI, S.Si., M.Kom<br>NormalizedValue=%{x}<br>StudentCount=%{y}<extra></extra>",
         "legendgroup": "Dr. YUVENTIUS TYAS CATUR PRAMUDI, S.Si., M.Kom",
         "marker": {
          "color": "#FFA15A",
          "symbol": "circle"
         },
         "mode": "markers",
         "name": "Dr. YUVENTIUS TYAS CATUR PRAMUDI, S.Si., M.Kom",
         "orientation": "v",
         "showlegend": true,
         "type": "scatter",
         "x": [
          26.69
         ],
         "xaxis": "x",
         "y": [
          32
         ],
         "yaxis": "y"
        },
        {
         "hovertemplate": "Lecturer=Dr. ZAENUDIN, M.Ag<br>NormalizedValue=%{x}<br>StudentCount=%{y}<extra></extra>",
         "legendgroup": "Dr. ZAENUDIN, M.Ag",
         "marker": {
          "color": "#19d3f3",
          "symbol": "circle"
         },
         "mode": "markers",
         "name": "Dr. ZAENUDIN, M.Ag",
         "orientation": "v",
         "showlegend": true,
         "type": "scatter",
         "x": [
          25.88
         ],
         "xaxis": "x",
         "y": [
          6
         ],
         "yaxis": "y"
        },
        {
         "hovertemplate": "Lecturer=Dra SOEISNIWATI LIDWINA , M.Pd.<br>NormalizedValue=%{x}<br>StudentCount=%{y}<extra></extra>",
         "legendgroup": "Dra SOEISNIWATI LIDWINA , M.Pd.",
         "marker": {
          "color": "#FF6692",
          "symbol": "circle"
         },
         "mode": "markers",
         "name": "Dra SOEISNIWATI LIDWINA , M.Pd.",
         "orientation": "v",
         "showlegend": true,
         "type": "scatter",
         "x": [
          29.44
         ],
         "xaxis": "x",
         "y": [
          4
         ],
         "yaxis": "y"
        },
        {
         "hovertemplate": "Lecturer=EDI FAISAL, S.Kom, M.Kom<br>NormalizedValue=%{x}<br>StudentCount=%{y}<extra></extra>",
         "legendgroup": "EDI FAISAL, S.Kom, M.Kom",
         "marker": {
          "color": "#B6E880",
          "symbol": "circle"
         },
         "mode": "markers",
         "name": "EDI FAISAL, S.Kom, M.Kom",
         "orientation": "v",
         "showlegend": true,
         "type": "scatter",
         "x": [
          26.34
         ],
         "xaxis": "x",
         "y": [
          298
         ],
         "yaxis": "y"
        },
        {
         "hovertemplate": "Lecturer=EDY MULYANTO, SSi, M.Kom<br>NormalizedValue=%{x}<br>StudentCount=%{y}<extra></extra>",
         "legendgroup": "EDY MULYANTO, SSi, M.Kom",
         "marker": {
          "color": "#FF97FF",
          "symbol": "circle"
         },
         "mode": "markers",
         "name": "EDY MULYANTO, SSi, M.Kom",
         "orientation": "v",
         "showlegend": true,
         "type": "scatter",
         "x": [
          27.03
         ],
         "xaxis": "x",
         "y": [
          160
         ],
         "yaxis": "y"
        },
        {
         "hovertemplate": "Lecturer=EGIA ROSI SUBHIYAKTO, M.Kom<br>NormalizedValue=%{x}<br>StudentCount=%{y}<extra></extra>",
         "legendgroup": "EGIA ROSI SUBHIYAKTO, M.Kom",
         "marker": {
          "color": "#FECB52",
          "symbol": "circle"
         },
         "mode": "markers",
         "name": "EGIA ROSI SUBHIYAKTO, M.Kom",
         "orientation": "v",
         "showlegend": true,
         "type": "scatter",
         "x": [
          27.42
         ],
         "xaxis": "x",
         "y": [
          318
         ],
         "yaxis": "y"
        },
        {
         "hovertemplate": "Lecturer=EKO HARI RACHMAWANTO, M.Kom<br>NormalizedValue=%{x}<br>StudentCount=%{y}<extra></extra>",
         "legendgroup": "EKO HARI RACHMAWANTO, M.Kom",
         "marker": {
          "color": "#636efa",
          "symbol": "circle"
         },
         "mode": "markers",
         "name": "EKO HARI RACHMAWANTO, M.Kom",
         "orientation": "v",
         "showlegend": true,
         "type": "scatter",
         "x": [
          27.39
         ],
         "xaxis": "x",
         "y": [
          227
         ],
         "yaxis": "y"
        },
        {
         "hovertemplate": "Lecturer=ELKAF RAHMAWAN P., M.Kom<br>NormalizedValue=%{x}<br>StudentCount=%{y}<extra></extra>",
         "legendgroup": "ELKAF RAHMAWAN P., M.Kom",
         "marker": {
          "color": "#EF553B",
          "symbol": "circle"
         },
         "mode": "markers",
         "name": "ELKAF RAHMAWAN P., M.Kom",
         "orientation": "v",
         "showlegend": true,
         "type": "scatter",
         "x": [
          27.74
         ],
         "xaxis": "x",
         "y": [
          210
         ],
         "yaxis": "y"
        },
        {
         "hovertemplate": "Lecturer=ERLIN DOLPHINA, SH, MM<br>NormalizedValue=%{x}<br>StudentCount=%{y}<extra></extra>",
         "legendgroup": "ERLIN DOLPHINA, SH, MM",
         "marker": {
          "color": "#00cc96",
          "symbol": "circle"
         },
         "mode": "markers",
         "name": "ERLIN DOLPHINA, SH, MM",
         "orientation": "v",
         "showlegend": true,
         "type": "scatter",
         "x": [
          26.42
         ],
         "xaxis": "x",
         "y": [
          348
         ],
         "yaxis": "y"
        },
        {
         "hovertemplate": "Lecturer=ERNA ZUNI ASTUTI, M.Kom<br>NormalizedValue=%{x}<br>StudentCount=%{y}<extra></extra>",
         "legendgroup": "ERNA ZUNI ASTUTI, M.Kom",
         "marker": {
          "color": "#ab63fa",
          "symbol": "circle"
         },
         "mode": "markers",
         "name": "ERNA ZUNI ASTUTI, M.Kom",
         "orientation": "v",
         "showlegend": true,
         "type": "scatter",
         "x": [
          27.6
         ],
         "xaxis": "x",
         "y": [
          230
         ],
         "yaxis": "y"
        },
        {
         "hovertemplate": "Lecturer=ERWIN YUDI HIDAYAT, S.Kom, M.CS<br>NormalizedValue=%{x}<br>StudentCount=%{y}<extra></extra>",
         "legendgroup": "ERWIN YUDI HIDAYAT, S.Kom, M.CS",
         "marker": {
          "color": "#FFA15A",
          "symbol": "circle"
         },
         "mode": "markers",
         "name": "ERWIN YUDI HIDAYAT, S.Kom, M.CS",
         "orientation": "v",
         "showlegend": true,
         "type": "scatter",
         "x": [
          27.5
         ],
         "xaxis": "x",
         "y": [
          164
         ],
         "yaxis": "y"
        },
        {
         "hovertemplate": "Lecturer=ETIKA KARTIKADARMA, M.Kom<br>NormalizedValue=%{x}<br>StudentCount=%{y}<extra></extra>",
         "legendgroup": "ETIKA KARTIKADARMA, M.Kom",
         "marker": {
          "color": "#19d3f3",
          "symbol": "circle"
         },
         "mode": "markers",
         "name": "ETIKA KARTIKADARMA, M.Kom",
         "orientation": "v",
         "showlegend": true,
         "type": "scatter",
         "x": [
          26.7
         ],
         "xaxis": "x",
         "y": [
          241
         ],
         "yaxis": "y"
        },
        {
         "hovertemplate": "Lecturer=FAHRI FIRDAUSILLAH, S.Kom, M.CS<br>NormalizedValue=%{x}<br>StudentCount=%{y}<extra></extra>",
         "legendgroup": "FAHRI FIRDAUSILLAH, S.Kom, M.CS",
         "marker": {
          "color": "#FF6692",
          "symbol": "circle"
         },
         "mode": "markers",
         "name": "FAHRI FIRDAUSILLAH, S.Kom, M.CS",
         "orientation": "v",
         "showlegend": true,
         "type": "scatter",
         "x": [
          27.04
         ],
         "xaxis": "x",
         "y": [
          175
         ],
         "yaxis": "y"
        },
        {
         "hovertemplate": "Lecturer=FALDIN BAEN, M.Pd.I.<br>NormalizedValue=%{x}<br>StudentCount=%{y}<extra></extra>",
         "legendgroup": "FALDIN BAEN, M.Pd.I.",
         "marker": {
          "color": "#B6E880",
          "symbol": "circle"
         },
         "mode": "markers",
         "name": "FALDIN BAEN, M.Pd.I.",
         "orientation": "v",
         "showlegend": true,
         "type": "scatter",
         "x": [
          26.62
         ],
         "xaxis": "x",
         "y": [
          6
         ],
         "yaxis": "y"
        },
        {
         "hovertemplate": "Lecturer=FAUZI ADI RAFRASTARA, M.CS<br>NormalizedValue=%{x}<br>StudentCount=%{y}<extra></extra>",
         "legendgroup": "FAUZI ADI RAFRASTARA, M.CS",
         "marker": {
          "color": "#FF97FF",
          "symbol": "circle"
         },
         "mode": "markers",
         "name": "FAUZI ADI RAFRASTARA, M.CS",
         "orientation": "v",
         "showlegend": true,
         "type": "scatter",
         "x": [
          26.85
         ],
         "xaxis": "x",
         "y": [
          245
         ],
         "yaxis": "y"
        },
        {
         "hovertemplate": "Lecturer=FERI AGUSTINA, M.Kom<br>NormalizedValue=%{x}<br>StudentCount=%{y}<extra></extra>",
         "legendgroup": "FERI AGUSTINA, M.Kom",
         "marker": {
          "color": "#FECB52",
          "symbol": "circle"
         },
         "mode": "markers",
         "name": "FERI AGUSTINA, M.Kom",
         "orientation": "v",
         "showlegend": true,
         "type": "scatter",
         "x": [
          27.41
         ],
         "xaxis": "x",
         "y": [
          324
         ],
         "yaxis": "y"
        },
        {
         "hovertemplate": "Lecturer=FILMADA OCKY SAPUTRA, M.Eng<br>NormalizedValue=%{x}<br>StudentCount=%{y}<extra></extra>",
         "legendgroup": "FILMADA OCKY SAPUTRA, M.Eng",
         "marker": {
          "color": "#636efa",
          "symbol": "circle"
         },
         "mode": "markers",
         "name": "FILMADA OCKY SAPUTRA, M.Eng",
         "orientation": "v",
         "showlegend": true,
         "type": "scatter",
         "x": [
          27.37
         ],
         "xaxis": "x",
         "y": [
          241
         ],
         "yaxis": "y"
        },
        {
         "hovertemplate": "Lecturer=GALUH WILUJENG SARASWATI, M.CS<br>NormalizedValue=%{x}<br>StudentCount=%{y}<extra></extra>",
         "legendgroup": "GALUH WILUJENG SARASWATI, M.CS",
         "marker": {
          "color": "#EF553B",
          "symbol": "circle"
         },
         "mode": "markers",
         "name": "GALUH WILUJENG SARASWATI, M.CS",
         "orientation": "v",
         "showlegend": true,
         "type": "scatter",
         "x": [
          26.56
         ],
         "xaxis": "x",
         "y": [
          210
         ],
         "yaxis": "y"
        },
        {
         "hovertemplate": "Lecturer=GUSTINA ALFA TRISNAPRADIKA, M.Kom<br>NormalizedValue=%{x}<br>StudentCount=%{y}<extra></extra>",
         "legendgroup": "GUSTINA ALFA TRISNAPRADIKA, M.Kom",
         "marker": {
          "color": "#00cc96",
          "symbol": "circle"
         },
         "mode": "markers",
         "name": "GUSTINA ALFA TRISNAPRADIKA, M.Kom",
         "orientation": "v",
         "showlegend": true,
         "type": "scatter",
         "x": [
          27.73
         ],
         "xaxis": "x",
         "y": [
          180
         ],
         "yaxis": "y"
        },
        {
         "hovertemplate": "Lecturer=HANNY HARYANTO, S.Kom, M.T<br>NormalizedValue=%{x}<br>StudentCount=%{y}<extra></extra>",
         "legendgroup": "HANNY HARYANTO, S.Kom, M.T",
         "marker": {
          "color": "#ab63fa",
          "symbol": "circle"
         },
         "mode": "markers",
         "name": "HANNY HARYANTO, S.Kom, M.T",
         "orientation": "v",
         "showlegend": true,
         "type": "scatter",
         "x": [
          27.94
         ],
         "xaxis": "x",
         "y": [
          245
         ],
         "yaxis": "y"
        },
        {
         "hovertemplate": "Lecturer=HERU LESTIAWAN, M.Kom<br>NormalizedValue=%{x}<br>StudentCount=%{y}<extra></extra>",
         "legendgroup": "HERU LESTIAWAN, M.Kom",
         "marker": {
          "color": "#FFA15A",
          "symbol": "circle"
         },
         "mode": "markers",
         "name": "HERU LESTIAWAN, M.Kom",
         "orientation": "v",
         "showlegend": true,
         "type": "scatter",
         "x": [
          26.09
         ],
         "xaxis": "x",
         "y": [
          322
         ],
         "yaxis": "y"
        },
        {
         "hovertemplate": "Lecturer=HJ. LILIK MUSFIROTUN NI'MAH, M.Sy<br>NormalizedValue=%{x}<br>StudentCount=%{y}<extra></extra>",
         "legendgroup": "HJ. LILIK MUSFIROTUN NI'MAH, M.Sy",
         "marker": {
          "color": "#19d3f3",
          "symbol": "circle"
         },
         "mode": "markers",
         "name": "HJ. LILIK MUSFIROTUN NI'MAH, M.Sy",
         "orientation": "v",
         "showlegend": true,
         "type": "scatter",
         "x": [
          30
         ],
         "xaxis": "x",
         "y": [
          2
         ],
         "yaxis": "y"
        },
        {
         "hovertemplate": "Lecturer=IFAN RIZQA, M.Kom<br>NormalizedValue=%{x}<br>StudentCount=%{y}<extra></extra>",
         "legendgroup": "IFAN RIZQA, M.Kom",
         "marker": {
          "color": "#FF6692",
          "symbol": "circle"
         },
         "mode": "markers",
         "name": "IFAN RIZQA, M.Kom",
         "orientation": "v",
         "showlegend": true,
         "type": "scatter",
         "x": [
          26.68
         ],
         "xaxis": "x",
         "y": [
          201
         ],
         "yaxis": "y"
        },
        {
         "hovertemplate": "Lecturer=IMANUEL HARKESPAN, M.Kom<br>NormalizedValue=%{x}<br>StudentCount=%{y}<extra></extra>",
         "legendgroup": "IMANUEL HARKESPAN, M.Kom",
         "marker": {
          "color": "#B6E880",
          "symbol": "circle"
         },
         "mode": "markers",
         "name": "IMANUEL HARKESPAN, M.Kom",
         "orientation": "v",
         "showlegend": true,
         "type": "scatter",
         "x": [
          26.5
         ],
         "xaxis": "x",
         "y": [
          233
         ],
         "yaxis": "y"
        },
        {
         "hovertemplate": "Lecturer=IQLIMA ZAHARI, S.Pd.I, M.Pd.I<br>NormalizedValue=%{x}<br>StudentCount=%{y}<extra></extra>",
         "legendgroup": "IQLIMA ZAHARI, S.Pd.I, M.Pd.I",
         "marker": {
          "color": "#FF97FF",
          "symbol": "circle"
         },
         "mode": "markers",
         "name": "IQLIMA ZAHARI, S.Pd.I, M.Pd.I",
         "orientation": "v",
         "showlegend": true,
         "type": "scatter",
         "x": [
          24.5
         ],
         "xaxis": "x",
         "y": [
          1
         ],
         "yaxis": "y"
        },
        {
         "hovertemplate": "Lecturer=Ir. HERU AGUS SANTOSO, S.Kom, M.Kom, Ph.D<br>NormalizedValue=%{x}<br>StudentCount=%{y}<extra></extra>",
         "legendgroup": "Ir. HERU AGUS SANTOSO, S.Kom, M.Kom, Ph.D",
         "marker": {
          "color": "#FECB52",
          "symbol": "circle"
         },
         "mode": "markers",
         "name": "Ir. HERU AGUS SANTOSO, S.Kom, M.Kom, Ph.D",
         "orientation": "v",
         "showlegend": true,
         "type": "scatter",
         "x": [
          27.17
         ],
         "xaxis": "x",
         "y": [
          103
         ],
         "yaxis": "y"
        },
        {
         "hovertemplate": "Lecturer=Ir. SITI HADIATI NUGRAINI, M.Kom, Ph.D.<br>NormalizedValue=%{x}<br>StudentCount=%{y}<extra></extra>",
         "legendgroup": "Ir. SITI HADIATI NUGRAINI, M.Kom, Ph.D.",
         "marker": {
          "color": "#636efa",
          "symbol": "circle"
         },
         "mode": "markers",
         "name": "Ir. SITI HADIATI NUGRAINI, M.Kom, Ph.D.",
         "orientation": "v",
         "showlegend": true,
         "type": "scatter",
         "x": [
          26.93
         ],
         "xaxis": "x",
         "y": [
          79
         ],
         "yaxis": "y"
        },
        {
         "hovertemplate": "Lecturer=JUNTA ZENIARJA, M.Kom<br>NormalizedValue=%{x}<br>StudentCount=%{y}<extra></extra>",
         "legendgroup": "JUNTA ZENIARJA, M.Kom",
         "marker": {
          "color": "#EF553B",
          "symbol": "circle"
         },
         "mode": "markers",
         "name": "JUNTA ZENIARJA, M.Kom",
         "orientation": "v",
         "showlegend": true,
         "type": "scatter",
         "x": [
          27.05
         ],
         "xaxis": "x",
         "y": [
          184
         ],
         "yaxis": "y"
        },
        {
         "hovertemplate": "Lecturer=L.BUDI HANDOKO, M.Kom<br>NormalizedValue=%{x}<br>StudentCount=%{y}<extra></extra>",
         "legendgroup": "L.BUDI HANDOKO, M.Kom",
         "marker": {
          "color": "#00cc96",
          "symbol": "circle"
         },
         "mode": "markers",
         "name": "L.BUDI HANDOKO, M.Kom",
         "orientation": "v",
         "showlegend": true,
         "type": "scatter",
         "x": [
          26.33
         ],
         "xaxis": "x",
         "y": [
          174
         ],
         "yaxis": "y"
        },
        {
         "hovertemplate": "Lecturer=LIYA UMAROH, M.Hum<br>NormalizedValue=%{x}<br>StudentCount=%{y}<extra></extra>",
         "legendgroup": "LIYA UMAROH, M.Hum",
         "marker": {
          "color": "#ab63fa",
          "symbol": "circle"
         },
         "mode": "markers",
         "name": "LIYA UMAROH, M.Hum",
         "orientation": "v",
         "showlegend": true,
         "type": "scatter",
         "x": [
          26.64
         ],
         "xaxis": "x",
         "y": [
          74
         ],
         "yaxis": "y"
        },
        {
         "hovertemplate": "Lecturer=MARYA ULFA, S.Pd, M.Pd.<br>NormalizedValue=%{x}<br>StudentCount=%{y}<extra></extra>",
         "legendgroup": "MARYA ULFA, S.Pd, M.Pd.",
         "marker": {
          "color": "#FFA15A",
          "symbol": "circle"
         },
         "mode": "markers",
         "name": "MARYA ULFA, S.Pd, M.Pd.",
         "orientation": "v",
         "showlegend": true,
         "type": "scatter",
         "x": [
          26.82
         ],
         "xaxis": "x",
         "y": [
          10
         ],
         "yaxis": "y"
        },
        {
         "hovertemplate": "Lecturer=MOCH. SJAMSUL HIDAJAT, S.E., M.M<br>NormalizedValue=%{x}<br>StudentCount=%{y}<extra></extra>",
         "legendgroup": "MOCH. SJAMSUL HIDAJAT, S.E., M.M",
         "marker": {
          "color": "#19d3f3",
          "symbol": "circle"
         },
         "mode": "markers",
         "name": "MOCH. SJAMSUL HIDAJAT, S.E., M.M",
         "orientation": "v",
         "showlegend": true,
         "type": "scatter",
         "x": [
          28.94
         ],
         "xaxis": "x",
         "y": [
          26
         ],
         "yaxis": "y"
        },
        {
         "hovertemplate": "Lecturer=MOHAMAD SIDIQ, S.Si, M.Kom<br>NormalizedValue=%{x}<br>StudentCount=%{y}<extra></extra>",
         "legendgroup": "MOHAMAD SIDIQ, S.Si, M.Kom",
         "marker": {
          "color": "#FF6692",
          "symbol": "circle"
         },
         "mode": "markers",
         "name": "MOHAMAD SIDIQ, S.Si, M.Kom",
         "orientation": "v",
         "showlegend": true,
         "type": "scatter",
         "x": [
          25.7
         ],
         "xaxis": "x",
         "y": [
          71
         ],
         "yaxis": "y"
        },
        {
         "hovertemplate": "Lecturer=MUHAMAD AKROM, M.Si<br>NormalizedValue=%{x}<br>StudentCount=%{y}<extra></extra>",
         "legendgroup": "MUHAMAD AKROM, M.Si",
         "marker": {
          "color": "#B6E880",
          "symbol": "circle"
         },
         "mode": "markers",
         "name": "MUHAMAD AKROM, M.Si",
         "orientation": "v",
         "showlegend": true,
         "type": "scatter",
         "x": [
          25.47
         ],
         "xaxis": "x",
         "y": [
          69
         ],
         "yaxis": "y"
        },
        {
         "hovertemplate": "Lecturer=MUHAMAD SYARIFUDIN, S.Ag., M.Pd.I<br>NormalizedValue=%{x}<br>StudentCount=%{y}<extra></extra>",
         "legendgroup": "MUHAMAD SYARIFUDIN, S.Ag., M.Pd.I",
         "marker": {
          "color": "#FF97FF",
          "symbol": "circle"
         },
         "mode": "markers",
         "name": "MUHAMAD SYARIFUDIN, S.Ag., M.Pd.I",
         "orientation": "v",
         "showlegend": true,
         "type": "scatter",
         "x": [
          26.38
         ],
         "xaxis": "x",
         "y": [
          2
         ],
         "yaxis": "y"
        },
        {
         "hovertemplate": "Lecturer=MUHAMMAD SYAIFUR ROHMAN, M.CS<br>NormalizedValue=%{x}<br>StudentCount=%{y}<extra></extra>",
         "legendgroup": "MUHAMMAD SYAIFUR ROHMAN, M.CS",
         "marker": {
          "color": "#FECB52",
          "symbol": "circle"
         },
         "mode": "markers",
         "name": "MUHAMMAD SYAIFUR ROHMAN, M.CS",
         "orientation": "v",
         "showlegend": true,
         "type": "scatter",
         "x": [
          27.83
         ],
         "xaxis": "x",
         "y": [
          215
         ],
         "yaxis": "y"
        },
        {
         "hovertemplate": "Lecturer=MUHTADI, S.Si, M.Kom<br>NormalizedValue=%{x}<br>StudentCount=%{y}<extra></extra>",
         "legendgroup": "MUHTADI, S.Si, M.Kom",
         "marker": {
          "color": "#636efa",
          "symbol": "circle"
         },
         "mode": "markers",
         "name": "MUHTADI, S.Si, M.Kom",
         "orientation": "v",
         "showlegend": true,
         "type": "scatter",
         "x": [
          26.36
         ],
         "xaxis": "x",
         "y": [
          16
         ],
         "yaxis": "y"
        },
        {
         "hovertemplate": "Lecturer=MUSLIH, M.Kom<br>NormalizedValue=%{x}<br>StudentCount=%{y}<extra></extra>",
         "legendgroup": "MUSLIH, M.Kom",
         "marker": {
          "color": "#EF553B",
          "symbol": "circle"
         },
         "mode": "markers",
         "name": "MUSLIH, M.Kom",
         "orientation": "v",
         "showlegend": true,
         "type": "scatter",
         "x": [
          26
         ],
         "xaxis": "x",
         "y": [
          4
         ],
         "yaxis": "y"
        },
        {
         "hovertemplate": "Lecturer=MY. TEGUH SULISTYONO, M.Kom<br>NormalizedValue=%{x}<br>StudentCount=%{y}<extra></extra>",
         "legendgroup": "MY. TEGUH SULISTYONO, M.Kom",
         "marker": {
          "color": "#00cc96",
          "symbol": "circle"
         },
         "mode": "markers",
         "name": "MY. TEGUH SULISTYONO, M.Kom",
         "orientation": "v",
         "showlegend": true,
         "type": "scatter",
         "x": [
          26.96
         ],
         "xaxis": "x",
         "y": [
          20
         ],
         "yaxis": "y"
        },
        {
         "hovertemplate": "Lecturer=NOOR AGENG SETIYANTO, M.Kom<br>NormalizedValue=%{x}<br>StudentCount=%{y}<extra></extra>",
         "legendgroup": "NOOR AGENG SETIYANTO, M.Kom",
         "marker": {
          "color": "#ab63fa",
          "symbol": "circle"
         },
         "mode": "markers",
         "name": "NOOR AGENG SETIYANTO, M.Kom",
         "orientation": "v",
         "showlegend": true,
         "type": "scatter",
         "x": [
          27.27
         ],
         "xaxis": "x",
         "y": [
          394
         ],
         "yaxis": "y"
        },
        {
         "hovertemplate": "Lecturer=NOVITA KURNIA NINGRUM, M. Kom<br>NormalizedValue=%{x}<br>StudentCount=%{y}<extra></extra>",
         "legendgroup": "NOVITA KURNIA NINGRUM, M. Kom",
         "marker": {
          "color": "#FFA15A",
          "symbol": "circle"
         },
         "mode": "markers",
         "name": "NOVITA KURNIA NINGRUM, M. Kom",
         "orientation": "v",
         "showlegend": true,
         "type": "scatter",
         "x": [
          26.14
         ],
         "xaxis": "x",
         "y": [
          270
         ],
         "yaxis": "y"
        },
        {
         "hovertemplate": "Lecturer=NURUL ANISA SRI WINARSIH, S.Kom, M.Cs<br>NormalizedValue=%{x}<br>StudentCount=%{y}<extra></extra>",
         "legendgroup": "NURUL ANISA SRI WINARSIH, S.Kom, M.Cs",
         "marker": {
          "color": "#19d3f3",
          "symbol": "circle"
         },
         "mode": "markers",
         "name": "NURUL ANISA SRI WINARSIH, S.Kom, M.Cs",
         "orientation": "v",
         "showlegend": true,
         "type": "scatter",
         "x": [
          27.18
         ],
         "xaxis": "x",
         "y": [
          281
         ],
         "yaxis": "y"
        },
        {
         "hovertemplate": "Lecturer=PURWANTO, S.Si, M.Kom, Ph.D<br>NormalizedValue=%{x}<br>StudentCount=%{y}<extra></extra>",
         "legendgroup": "PURWANTO, S.Si, M.Kom, Ph.D",
         "marker": {
          "color": "#FF6692",
          "symbol": "circle"
         },
         "mode": "markers",
         "name": "PURWANTO, S.Si, M.Kom, Ph.D",
         "orientation": "v",
         "showlegend": true,
         "type": "scatter",
         "x": [
          26.01
         ],
         "xaxis": "x",
         "y": [
          142
         ],
         "yaxis": "y"
        },
        {
         "hovertemplate": "Lecturer=Pdt. DR. ANTONIO SARTONO, S.Pd.M.Th<br>NormalizedValue=%{x}<br>StudentCount=%{y}<extra></extra>",
         "legendgroup": "Pdt. DR. ANTONIO SARTONO, S.Pd.M.Th",
         "marker": {
          "color": "#B6E880",
          "symbol": "circle"
         },
         "mode": "markers",
         "name": "Pdt. DR. ANTONIO SARTONO, S.Pd.M.Th",
         "orientation": "v",
         "showlegend": true,
         "type": "scatter",
         "x": [
          27.75
         ],
         "xaxis": "x",
         "y": [
          10
         ],
         "yaxis": "y"
        },
        {
         "hovertemplate": "Lecturer=Prof. Dr. Ir EDI NOERSASONGKO, M.Kom<br>NormalizedValue=%{x}<br>StudentCount=%{y}<extra></extra>",
         "legendgroup": "Prof. Dr. Ir EDI NOERSASONGKO, M.Kom",
         "marker": {
          "color": "#FF97FF",
          "symbol": "circle"
         },
         "mode": "markers",
         "name": "Prof. Dr. Ir EDI NOERSASONGKO, M.Kom",
         "orientation": "v",
         "showlegend": true,
         "type": "scatter",
         "x": [
          28.43
         ],
         "xaxis": "x",
         "y": [
          81
         ],
         "yaxis": "y"
        },
        {
         "hovertemplate": "Lecturer=Prof. Dr. PULUNG NURTANTIO ANDONO, S.T., M.Kom<br>NormalizedValue=%{x}<br>StudentCount=%{y}<extra></extra>",
         "legendgroup": "Prof. Dr. PULUNG NURTANTIO ANDONO, S.T., M.Kom",
         "marker": {
          "color": "#FECB52",
          "symbol": "circle"
         },
         "mode": "markers",
         "name": "Prof. Dr. PULUNG NURTANTIO ANDONO, S.T., M.Kom",
         "orientation": "v",
         "showlegend": true,
         "type": "scatter",
         "x": [
          27.18
         ],
         "xaxis": "x",
         "y": [
          161
         ],
         "yaxis": "y"
        },
        {
         "hovertemplate": "Lecturer=Prof. Dr. SUPRIADI RUSTAD, M.Si<br>NormalizedValue=%{x}<br>StudentCount=%{y}<extra></extra>",
         "legendgroup": "Prof. Dr. SUPRIADI RUSTAD, M.Si",
         "marker": {
          "color": "#636efa",
          "symbol": "circle"
         },
         "mode": "markers",
         "name": "Prof. Dr. SUPRIADI RUSTAD, M.Si",
         "orientation": "v",
         "showlegend": true,
         "type": "scatter",
         "x": [
          26.75
         ],
         "xaxis": "x",
         "y": [
          75
         ],
         "yaxis": "y"
        },
        {
         "hovertemplate": "Lecturer=RAMA ARIA MEGANTARA, M.Kom<br>NormalizedValue=%{x}<br>StudentCount=%{y}<extra></extra>",
         "legendgroup": "RAMA ARIA MEGANTARA, M.Kom",
         "marker": {
          "color": "#EF553B",
          "symbol": "circle"
         },
         "mode": "markers",
         "name": "RAMA ARIA MEGANTARA, M.Kom",
         "orientation": "v",
         "showlegend": true,
         "type": "scatter",
         "x": [
          27.22
         ],
         "xaxis": "x",
         "y": [
          208
         ],
         "yaxis": "y"
        },
        {
         "hovertemplate": "Lecturer=ROBERTUS HERI SU, S.Si,M.Si<br>NormalizedValue=%{x}<br>StudentCount=%{y}<extra></extra>",
         "legendgroup": "ROBERTUS HERI SU, S.Si,M.Si",
         "marker": {
          "color": "#00cc96",
          "symbol": "circle"
         },
         "mode": "markers",
         "name": "ROBERTUS HERI SU, S.Si,M.Si",
         "orientation": "v",
         "showlegend": true,
         "type": "scatter",
         "x": [
          27.54
         ],
         "xaxis": "x",
         "y": [
          77
         ],
         "yaxis": "y"
        },
        {
         "hovertemplate": "Lecturer=SETYO PRASIYANTO CAHYONO, SS., M.Pd.<br>NormalizedValue=%{x}<br>StudentCount=%{y}<extra></extra>",
         "legendgroup": "SETYO PRASIYANTO CAHYONO, SS., M.Pd.",
         "marker": {
          "color": "#ab63fa",
          "symbol": "circle"
         },
         "mode": "markers",
         "name": "SETYO PRASIYANTO CAHYONO, SS., M.Pd.",
         "orientation": "v",
         "showlegend": true,
         "type": "scatter",
         "x": [
          30
         ],
         "xaxis": "x",
         "y": [
          1
         ],
         "yaxis": "y"
        },
        {
         "hovertemplate": "Lecturer=SISWO PRANOTO, S.Sn<br>NormalizedValue=%{x}<br>StudentCount=%{y}<extra></extra>",
         "legendgroup": "SISWO PRANOTO, S.Sn",
         "marker": {
          "color": "#FFA15A",
          "symbol": "circle"
         },
         "mode": "markers",
         "name": "SISWO PRANOTO, S.Sn",
         "orientation": "v",
         "showlegend": true,
         "type": "scatter",
         "x": [
          26.21
         ],
         "xaxis": "x",
         "y": [
          7
         ],
         "yaxis": "y"
        },
        {
         "hovertemplate": "Lecturer=SLAMET SUDARYANTO N., ST, M.Kom<br>NormalizedValue=%{x}<br>StudentCount=%{y}<extra></extra>",
         "legendgroup": "SLAMET SUDARYANTO N., ST, M.Kom",
         "marker": {
          "color": "#19d3f3",
          "symbol": "circle"
         },
         "mode": "markers",
         "name": "SLAMET SUDARYANTO N., ST, M.Kom",
         "orientation": "v",
         "showlegend": true,
         "type": "scatter",
         "x": [
          24.47
         ],
         "xaxis": "x",
         "y": [
          186
         ],
         "yaxis": "y"
        },
        {
         "hovertemplate": "Lecturer=SRI WINARNO, Ph.D<br>NormalizedValue=%{x}<br>StudentCount=%{y}<extra></extra>",
         "legendgroup": "SRI WINARNO, Ph.D",
         "marker": {
          "color": "#FF6692",
          "symbol": "circle"
         },
         "mode": "markers",
         "name": "SRI WINARNO, Ph.D",
         "orientation": "v",
         "showlegend": true,
         "type": "scatter",
         "x": [
          26.24
         ],
         "xaxis": "x",
         "y": [
          77
         ],
         "yaxis": "y"
        },
        {
         "hovertemplate": "Lecturer=SUDARYANTO, M.Kom<br>NormalizedValue=%{x}<br>StudentCount=%{y}<extra></extra>",
         "legendgroup": "SUDARYANTO, M.Kom",
         "marker": {
          "color": "#B6E880",
          "symbol": "circle"
         },
         "mode": "markers",
         "name": "SUDARYANTO, M.Kom",
         "orientation": "v",
         "showlegend": true,
         "type": "scatter",
         "x": [
          26.16
         ],
         "xaxis": "x",
         "y": [
          58
         ],
         "yaxis": "y"
        },
        {
         "hovertemplate": "Lecturer=SUHARIYANTO, M.Kom<br>NormalizedValue=%{x}<br>StudentCount=%{y}<extra></extra>",
         "legendgroup": "SUHARIYANTO, M.Kom",
         "marker": {
          "color": "#FF97FF",
          "symbol": "circle"
         },
         "mode": "markers",
         "name": "SUHARIYANTO, M.Kom",
         "orientation": "v",
         "showlegend": true,
         "type": "scatter",
         "x": [
          26.51
         ],
         "xaxis": "x",
         "y": [
          21
         ],
         "yaxis": "y"
        },
        {
         "hovertemplate": "Lecturer=SULIS ADYANA, S.Pd., M.Pd<br>NormalizedValue=%{x}<br>StudentCount=%{y}<extra></extra>",
         "legendgroup": "SULIS ADYANA, S.Pd., M.Pd",
         "marker": {
          "color": "#FECB52",
          "symbol": "circle"
         },
         "mode": "markers",
         "name": "SULIS ADYANA, S.Pd., M.Pd",
         "orientation": "v",
         "showlegend": true,
         "type": "scatter",
         "x": [
          28.98
         ],
         "xaxis": "x",
         "y": [
          10
         ],
         "yaxis": "y"
        },
        {
         "hovertemplate": "Lecturer=SUPRAYOGI, M.Kom<br>NormalizedValue=%{x}<br>StudentCount=%{y}<extra></extra>",
         "legendgroup": "SUPRAYOGI, M.Kom",
         "marker": {
          "color": "#636efa",
          "symbol": "circle"
         },
         "mode": "markers",
         "name": "SUPRAYOGI, M.Kom",
         "orientation": "v",
         "showlegend": true,
         "type": "scatter",
         "x": [
          26.28
         ],
         "xaxis": "x",
         "y": [
          282
         ],
         "yaxis": "y"
        },
        {
         "hovertemplate": "Lecturer=T. SUTOJO, S.Si, M.Kom<br>NormalizedValue=%{x}<br>StudentCount=%{y}<extra></extra>",
         "legendgroup": "T. SUTOJO, S.Si, M.Kom",
         "marker": {
          "color": "#EF553B",
          "symbol": "circle"
         },
         "mode": "markers",
         "name": "T. SUTOJO, S.Si, M.Kom",
         "orientation": "v",
         "showlegend": true,
         "type": "scatter",
         "x": [
          26.69
         ],
         "xaxis": "x",
         "y": [
          197
         ],
         "yaxis": "y"
        },
        {
         "hovertemplate": "Lecturer=TIM PENGAMPU BK FIK<br>NormalizedValue=%{x}<br>StudentCount=%{y}<extra></extra>",
         "legendgroup": "TIM PENGAMPU BK FIK",
         "marker": {
          "color": "#00cc96",
          "symbol": "circle"
         },
         "mode": "markers",
         "name": "TIM PENGAMPU BK FIK",
         "orientation": "v",
         "showlegend": true,
         "type": "scatter",
         "x": [
          26.66
         ],
         "xaxis": "x",
         "y": [
          502
         ],
         "yaxis": "y"
        },
        {
         "hovertemplate": "Lecturer=TIM PENGAMPU KP FIK<br>NormalizedValue=%{x}<br>StudentCount=%{y}<extra></extra>",
         "legendgroup": "TIM PENGAMPU KP FIK",
         "marker": {
          "color": "#ab63fa",
          "symbol": "circle"
         },
         "mode": "markers",
         "name": "TIM PENGAMPU KP FIK",
         "orientation": "v",
         "showlegend": true,
         "type": "scatter",
         "x": [
          27.04
         ],
         "xaxis": "x",
         "y": [
          440
         ],
         "yaxis": "y"
        },
        {
         "hovertemplate": "Lecturer=TIM PENGAMPU PA/TA FIK<br>NormalizedValue=%{x}<br>StudentCount=%{y}<extra></extra>",
         "legendgroup": "TIM PENGAMPU PA/TA FIK",
         "marker": {
          "color": "#FFA15A",
          "symbol": "circle"
         },
         "mode": "markers",
         "name": "TIM PENGAMPU PA/TA FIK",
         "orientation": "v",
         "showlegend": true,
         "type": "scatter",
         "x": [
          27.16
         ],
         "xaxis": "x",
         "y": [
          1260
         ],
         "yaxis": "y"
        },
        {
         "hovertemplate": "Lecturer=TIM PENGAMPU PPKN<br>NormalizedValue=%{x}<br>StudentCount=%{y}<extra></extra>",
         "legendgroup": "TIM PENGAMPU PPKN",
         "marker": {
          "color": "#19d3f3",
          "symbol": "circle"
         },
         "mode": "markers",
         "name": "TIM PENGAMPU PPKN",
         "orientation": "v",
         "showlegend": true,
         "type": "scatter",
         "x": [
          25.44
         ],
         "xaxis": "x",
         "y": [
          199
         ],
         "yaxis": "y"
        },
        {
         "hovertemplate": "Lecturer=TITIEN SUHARTINI SUKAMTO, S.Kom, M.Eng.<br>NormalizedValue=%{x}<br>StudentCount=%{y}<extra></extra>",
         "legendgroup": "TITIEN SUHARTINI SUKAMTO, S.Kom, M.Eng.",
         "marker": {
          "color": "#FF6692",
          "symbol": "circle"
         },
         "mode": "markers",
         "name": "TITIEN SUHARTINI SUKAMTO, S.Kom, M.Eng.",
         "orientation": "v",
         "showlegend": true,
         "type": "scatter",
         "x": [
          24.62
         ],
         "xaxis": "x",
         "y": [
          12
         ],
         "yaxis": "y"
        },
        {
         "hovertemplate": "Lecturer=UMI ROSYIDAH, S.Kom, M.T<br>NormalizedValue=%{x}<br>StudentCount=%{y}<extra></extra>",
         "legendgroup": "UMI ROSYIDAH, S.Kom, M.T",
         "marker": {
          "color": "#B6E880",
          "symbol": "circle"
         },
         "mode": "markers",
         "name": "UMI ROSYIDAH, S.Kom, M.T",
         "orientation": "v",
         "showlegend": true,
         "type": "scatter",
         "x": [
          26.5
         ],
         "xaxis": "x",
         "y": [
          263
         ],
         "yaxis": "y"
        },
        {
         "hovertemplate": "Lecturer=USMAN SUDIBYO, SSi.,M.KOM<br>NormalizedValue=%{x}<br>StudentCount=%{y}<extra></extra>",
         "legendgroup": "USMAN SUDIBYO, SSi.,M.KOM",
         "marker": {
          "color": "#FF97FF",
          "symbol": "circle"
         },
         "mode": "markers",
         "name": "USMAN SUDIBYO, SSi.,M.KOM",
         "orientation": "v",
         "showlegend": true,
         "type": "scatter",
         "x": [
          26.6
         ],
         "xaxis": "x",
         "y": [
          133
         ],
         "yaxis": "y"
        },
        {
         "hovertemplate": "Lecturer=WILDANIL GHOZI, M.Kom<br>NormalizedValue=%{x}<br>StudentCount=%{y}<extra></extra>",
         "legendgroup": "WILDANIL GHOZI, M.Kom",
         "marker": {
          "color": "#FECB52",
          "symbol": "circle"
         },
         "mode": "markers",
         "name": "WILDANIL GHOZI, M.Kom",
         "orientation": "v",
         "showlegend": true,
         "type": "scatter",
         "x": [
          26.52
         ],
         "xaxis": "x",
         "y": [
          218
         ],
         "yaxis": "y"
        },
        {
         "hovertemplate": "Lecturer=WISE HEROWATI, M.Kom<br>NormalizedValue=%{x}<br>StudentCount=%{y}<extra></extra>",
         "legendgroup": "WISE HEROWATI, M.Kom",
         "marker": {
          "color": "#636efa",
          "symbol": "circle"
         },
         "mode": "markers",
         "name": "WISE HEROWATI, M.Kom",
         "orientation": "v",
         "showlegend": true,
         "type": "scatter",
         "x": [
          27.08
         ],
         "xaxis": "x",
         "y": [
          188
         ],
         "yaxis": "y"
        },
        {
         "hovertemplate": "Lecturer=YANI PARTI ASTUTI, S.Si, M.Kom<br>NormalizedValue=%{x}<br>StudentCount=%{y}<extra></extra>",
         "legendgroup": "YANI PARTI ASTUTI, S.Si, M.Kom",
         "marker": {
          "color": "#EF553B",
          "symbol": "circle"
         },
         "mode": "markers",
         "name": "YANI PARTI ASTUTI, S.Si, M.Kom",
         "orientation": "v",
         "showlegend": true,
         "type": "scatter",
         "x": [
          27.46
         ],
         "xaxis": "x",
         "y": [
          222
         ],
         "yaxis": "y"
        },
        {
         "hovertemplate": "Lecturer=ZAENAL ARIFIN, SE, M.Kom<br>NormalizedValue=%{x}<br>StudentCount=%{y}<extra></extra>",
         "legendgroup": "ZAENAL ARIFIN, SE, M.Kom",
         "marker": {
          "color": "#00cc96",
          "symbol": "circle"
         },
         "mode": "markers",
         "name": "ZAENAL ARIFIN, SE, M.Kom",
         "orientation": "v",
         "showlegend": true,
         "type": "scatter",
         "x": [
          25.69
         ],
         "xaxis": "x",
         "y": [
          27
         ],
         "yaxis": "y"
        },
        {
         "hovertemplate": "Lecturer=ZAHROTUL UMAMI, M.I.Kom<br>NormalizedValue=%{x}<br>StudentCount=%{y}<extra></extra>",
         "legendgroup": "ZAHROTUL UMAMI, M.I.Kom",
         "marker": {
          "color": "#ab63fa",
          "symbol": "circle"
         },
         "mode": "markers",
         "name": "ZAHROTUL UMAMI, M.I.Kom",
         "orientation": "v",
         "showlegend": true,
         "type": "scatter",
         "x": [
          27.33
         ],
         "xaxis": "x",
         "y": [
          6
         ],
         "yaxis": "y"
        }
       ],
       "layout": {
        "legend": {
         "title": {
          "text": "Lecturer"
         },
         "tracegroupgap": 0
        },
        "margin": {
         "t": 60
        },
        "template": {
         "data": {
          "bar": [
           {
            "error_x": {
             "color": "#2a3f5f"
            },
            "error_y": {
             "color": "#2a3f5f"
            },
            "marker": {
             "line": {
              "color": "#E5ECF6",
              "width": 0.5
             },
             "pattern": {
              "fillmode": "overlay",
              "size": 10,
              "solidity": 0.2
             }
            },
            "type": "bar"
           }
          ],
          "barpolar": [
           {
            "marker": {
             "line": {
              "color": "#E5ECF6",
              "width": 0.5
             },
             "pattern": {
              "fillmode": "overlay",
              "size": 10,
              "solidity": 0.2
             }
            },
            "type": "barpolar"
           }
          ],
          "carpet": [
           {
            "aaxis": {
             "endlinecolor": "#2a3f5f",
             "gridcolor": "white",
             "linecolor": "white",
             "minorgridcolor": "white",
             "startlinecolor": "#2a3f5f"
            },
            "baxis": {
             "endlinecolor": "#2a3f5f",
             "gridcolor": "white",
             "linecolor": "white",
             "minorgridcolor": "white",
             "startlinecolor": "#2a3f5f"
            },
            "type": "carpet"
           }
          ],
          "choropleth": [
           {
            "colorbar": {
             "outlinewidth": 0,
             "ticks": ""
            },
            "type": "choropleth"
           }
          ],
          "contour": [
           {
            "colorbar": {
             "outlinewidth": 0,
             "ticks": ""
            },
            "colorscale": [
             [
              0,
              "#0d0887"
             ],
             [
              0.1111111111111111,
              "#46039f"
             ],
             [
              0.2222222222222222,
              "#7201a8"
             ],
             [
              0.3333333333333333,
              "#9c179e"
             ],
             [
              0.4444444444444444,
              "#bd3786"
             ],
             [
              0.5555555555555556,
              "#d8576b"
             ],
             [
              0.6666666666666666,
              "#ed7953"
             ],
             [
              0.7777777777777778,
              "#fb9f3a"
             ],
             [
              0.8888888888888888,
              "#fdca26"
             ],
             [
              1,
              "#f0f921"
             ]
            ],
            "type": "contour"
           }
          ],
          "contourcarpet": [
           {
            "colorbar": {
             "outlinewidth": 0,
             "ticks": ""
            },
            "type": "contourcarpet"
           }
          ],
          "heatmap": [
           {
            "colorbar": {
             "outlinewidth": 0,
             "ticks": ""
            },
            "colorscale": [
             [
              0,
              "#0d0887"
             ],
             [
              0.1111111111111111,
              "#46039f"
             ],
             [
              0.2222222222222222,
              "#7201a8"
             ],
             [
              0.3333333333333333,
              "#9c179e"
             ],
             [
              0.4444444444444444,
              "#bd3786"
             ],
             [
              0.5555555555555556,
              "#d8576b"
             ],
             [
              0.6666666666666666,
              "#ed7953"
             ],
             [
              0.7777777777777778,
              "#fb9f3a"
             ],
             [
              0.8888888888888888,
              "#fdca26"
             ],
             [
              1,
              "#f0f921"
             ]
            ],
            "type": "heatmap"
           }
          ],
          "heatmapgl": [
           {
            "colorbar": {
             "outlinewidth": 0,
             "ticks": ""
            },
            "colorscale": [
             [
              0,
              "#0d0887"
             ],
             [
              0.1111111111111111,
              "#46039f"
             ],
             [
              0.2222222222222222,
              "#7201a8"
             ],
             [
              0.3333333333333333,
              "#9c179e"
             ],
             [
              0.4444444444444444,
              "#bd3786"
             ],
             [
              0.5555555555555556,
              "#d8576b"
             ],
             [
              0.6666666666666666,
              "#ed7953"
             ],
             [
              0.7777777777777778,
              "#fb9f3a"
             ],
             [
              0.8888888888888888,
              "#fdca26"
             ],
             [
              1,
              "#f0f921"
             ]
            ],
            "type": "heatmapgl"
           }
          ],
          "histogram": [
           {
            "marker": {
             "pattern": {
              "fillmode": "overlay",
              "size": 10,
              "solidity": 0.2
             }
            },
            "type": "histogram"
           }
          ],
          "histogram2d": [
           {
            "colorbar": {
             "outlinewidth": 0,
             "ticks": ""
            },
            "colorscale": [
             [
              0,
              "#0d0887"
             ],
             [
              0.1111111111111111,
              "#46039f"
             ],
             [
              0.2222222222222222,
              "#7201a8"
             ],
             [
              0.3333333333333333,
              "#9c179e"
             ],
             [
              0.4444444444444444,
              "#bd3786"
             ],
             [
              0.5555555555555556,
              "#d8576b"
             ],
             [
              0.6666666666666666,
              "#ed7953"
             ],
             [
              0.7777777777777778,
              "#fb9f3a"
             ],
             [
              0.8888888888888888,
              "#fdca26"
             ],
             [
              1,
              "#f0f921"
             ]
            ],
            "type": "histogram2d"
           }
          ],
          "histogram2dcontour": [
           {
            "colorbar": {
             "outlinewidth": 0,
             "ticks": ""
            },
            "colorscale": [
             [
              0,
              "#0d0887"
             ],
             [
              0.1111111111111111,
              "#46039f"
             ],
             [
              0.2222222222222222,
              "#7201a8"
             ],
             [
              0.3333333333333333,
              "#9c179e"
             ],
             [
              0.4444444444444444,
              "#bd3786"
             ],
             [
              0.5555555555555556,
              "#d8576b"
             ],
             [
              0.6666666666666666,
              "#ed7953"
             ],
             [
              0.7777777777777778,
              "#fb9f3a"
             ],
             [
              0.8888888888888888,
              "#fdca26"
             ],
             [
              1,
              "#f0f921"
             ]
            ],
            "type": "histogram2dcontour"
           }
          ],
          "mesh3d": [
           {
            "colorbar": {
             "outlinewidth": 0,
             "ticks": ""
            },
            "type": "mesh3d"
           }
          ],
          "parcoords": [
           {
            "line": {
             "colorbar": {
              "outlinewidth": 0,
              "ticks": ""
             }
            },
            "type": "parcoords"
           }
          ],
          "pie": [
           {
            "automargin": true,
            "type": "pie"
           }
          ],
          "scatter": [
           {
            "fillpattern": {
             "fillmode": "overlay",
             "size": 10,
             "solidity": 0.2
            },
            "type": "scatter"
           }
          ],
          "scatter3d": [
           {
            "line": {
             "colorbar": {
              "outlinewidth": 0,
              "ticks": ""
             }
            },
            "marker": {
             "colorbar": {
              "outlinewidth": 0,
              "ticks": ""
             }
            },
            "type": "scatter3d"
           }
          ],
          "scattercarpet": [
           {
            "marker": {
             "colorbar": {
              "outlinewidth": 0,
              "ticks": ""
             }
            },
            "type": "scattercarpet"
           }
          ],
          "scattergeo": [
           {
            "marker": {
             "colorbar": {
              "outlinewidth": 0,
              "ticks": ""
             }
            },
            "type": "scattergeo"
           }
          ],
          "scattergl": [
           {
            "marker": {
             "colorbar": {
              "outlinewidth": 0,
              "ticks": ""
             }
            },
            "type": "scattergl"
           }
          ],
          "scattermapbox": [
           {
            "marker": {
             "colorbar": {
              "outlinewidth": 0,
              "ticks": ""
             }
            },
            "type": "scattermapbox"
           }
          ],
          "scatterpolar": [
           {
            "marker": {
             "colorbar": {
              "outlinewidth": 0,
              "ticks": ""
             }
            },
            "type": "scatterpolar"
           }
          ],
          "scatterpolargl": [
           {
            "marker": {
             "colorbar": {
              "outlinewidth": 0,
              "ticks": ""
             }
            },
            "type": "scatterpolargl"
           }
          ],
          "scatterternary": [
           {
            "marker": {
             "colorbar": {
              "outlinewidth": 0,
              "ticks": ""
             }
            },
            "type": "scatterternary"
           }
          ],
          "surface": [
           {
            "colorbar": {
             "outlinewidth": 0,
             "ticks": ""
            },
            "colorscale": [
             [
              0,
              "#0d0887"
             ],
             [
              0.1111111111111111,
              "#46039f"
             ],
             [
              0.2222222222222222,
              "#7201a8"
             ],
             [
              0.3333333333333333,
              "#9c179e"
             ],
             [
              0.4444444444444444,
              "#bd3786"
             ],
             [
              0.5555555555555556,
              "#d8576b"
             ],
             [
              0.6666666666666666,
              "#ed7953"
             ],
             [
              0.7777777777777778,
              "#fb9f3a"
             ],
             [
              0.8888888888888888,
              "#fdca26"
             ],
             [
              1,
              "#f0f921"
             ]
            ],
            "type": "surface"
           }
          ],
          "table": [
           {
            "cells": {
             "fill": {
              "color": "#EBF0F8"
             },
             "line": {
              "color": "white"
             }
            },
            "header": {
             "fill": {
              "color": "#C8D4E3"
             },
             "line": {
              "color": "white"
             }
            },
            "type": "table"
           }
          ]
         },
         "layout": {
          "annotationdefaults": {
           "arrowcolor": "#2a3f5f",
           "arrowhead": 0,
           "arrowwidth": 1
          },
          "autotypenumbers": "strict",
          "coloraxis": {
           "colorbar": {
            "outlinewidth": 0,
            "ticks": ""
           }
          },
          "colorscale": {
           "diverging": [
            [
             0,
             "#8e0152"
            ],
            [
             0.1,
             "#c51b7d"
            ],
            [
             0.2,
             "#de77ae"
            ],
            [
             0.3,
             "#f1b6da"
            ],
            [
             0.4,
             "#fde0ef"
            ],
            [
             0.5,
             "#f7f7f7"
            ],
            [
             0.6,
             "#e6f5d0"
            ],
            [
             0.7,
             "#b8e186"
            ],
            [
             0.8,
             "#7fbc41"
            ],
            [
             0.9,
             "#4d9221"
            ],
            [
             1,
             "#276419"
            ]
           ],
           "sequential": [
            [
             0,
             "#0d0887"
            ],
            [
             0.1111111111111111,
             "#46039f"
            ],
            [
             0.2222222222222222,
             "#7201a8"
            ],
            [
             0.3333333333333333,
             "#9c179e"
            ],
            [
             0.4444444444444444,
             "#bd3786"
            ],
            [
             0.5555555555555556,
             "#d8576b"
            ],
            [
             0.6666666666666666,
             "#ed7953"
            ],
            [
             0.7777777777777778,
             "#fb9f3a"
            ],
            [
             0.8888888888888888,
             "#fdca26"
            ],
            [
             1,
             "#f0f921"
            ]
           ],
           "sequentialminus": [
            [
             0,
             "#0d0887"
            ],
            [
             0.1111111111111111,
             "#46039f"
            ],
            [
             0.2222222222222222,
             "#7201a8"
            ],
            [
             0.3333333333333333,
             "#9c179e"
            ],
            [
             0.4444444444444444,
             "#bd3786"
            ],
            [
             0.5555555555555556,
             "#d8576b"
            ],
            [
             0.6666666666666666,
             "#ed7953"
            ],
            [
             0.7777777777777778,
             "#fb9f3a"
            ],
            [
             0.8888888888888888,
             "#fdca26"
            ],
            [
             1,
             "#f0f921"
            ]
           ]
          },
          "colorway": [
           "#636efa",
           "#EF553B",
           "#00cc96",
           "#ab63fa",
           "#FFA15A",
           "#19d3f3",
           "#FF6692",
           "#B6E880",
           "#FF97FF",
           "#FECB52"
          ],
          "font": {
           "color": "#2a3f5f"
          },
          "geo": {
           "bgcolor": "white",
           "lakecolor": "white",
           "landcolor": "#E5ECF6",
           "showlakes": true,
           "showland": true,
           "subunitcolor": "white"
          },
          "hoverlabel": {
           "align": "left"
          },
          "hovermode": "closest",
          "mapbox": {
           "style": "light"
          },
          "paper_bgcolor": "white",
          "plot_bgcolor": "#E5ECF6",
          "polar": {
           "angularaxis": {
            "gridcolor": "white",
            "linecolor": "white",
            "ticks": ""
           },
           "bgcolor": "#E5ECF6",
           "radialaxis": {
            "gridcolor": "white",
            "linecolor": "white",
            "ticks": ""
           }
          },
          "scene": {
           "xaxis": {
            "backgroundcolor": "#E5ECF6",
            "gridcolor": "white",
            "gridwidth": 2,
            "linecolor": "white",
            "showbackground": true,
            "ticks": "",
            "zerolinecolor": "white"
           },
           "yaxis": {
            "backgroundcolor": "#E5ECF6",
            "gridcolor": "white",
            "gridwidth": 2,
            "linecolor": "white",
            "showbackground": true,
            "ticks": "",
            "zerolinecolor": "white"
           },
           "zaxis": {
            "backgroundcolor": "#E5ECF6",
            "gridcolor": "white",
            "gridwidth": 2,
            "linecolor": "white",
            "showbackground": true,
            "ticks": "",
            "zerolinecolor": "white"
           }
          },
          "shapedefaults": {
           "line": {
            "color": "#2a3f5f"
           }
          },
          "ternary": {
           "aaxis": {
            "gridcolor": "white",
            "linecolor": "white",
            "ticks": ""
           },
           "baxis": {
            "gridcolor": "white",
            "linecolor": "white",
            "ticks": ""
           },
           "bgcolor": "#E5ECF6",
           "caxis": {
            "gridcolor": "white",
            "linecolor": "white",
            "ticks": ""
           }
          },
          "title": {
           "x": 0.05
          },
          "xaxis": {
           "automargin": true,
           "gridcolor": "white",
           "linecolor": "white",
           "ticks": "",
           "title": {
            "standoff": 15
           },
           "zerolinecolor": "white",
           "zerolinewidth": 2
          },
          "yaxis": {
           "automargin": true,
           "gridcolor": "white",
           "linecolor": "white",
           "ticks": "",
           "title": {
            "standoff": 15
           },
           "zerolinecolor": "white",
           "zerolinewidth": 2
          }
         }
        },
        "xaxis": {
         "anchor": "y",
         "domain": [
          0,
          1
         ],
         "title": {
          "text": "NormalizedValue"
         }
        },
        "yaxis": {
         "anchor": "x",
         "domain": [
          0,
          1
         ],
         "title": {
          "text": "StudentCount"
         }
        }
       }
      }
     },
     "metadata": {},
     "output_type": "display_data"
    }
   ],
   "source": [
    "#scatter plot\n",
    "fig = px.scatter(df10, y=\"StudentCount\", x=\"NormalizedValue\", color=\"Lecturer\")\n",
    "fig.show()"
   ]
  },
  {
   "cell_type": "markdown",
   "metadata": {},
   "source": [
    "### Pearson Correlation\n",
    "\n",
    "$r_{XY} = \\frac{\\sum_{i=1}^{n}(x_i - \\bar{x})(y_i - \\bar{y})}{\\sqrt{\\sum_{i=1}^{n}(x_i - \\bar{x})^2}\\sqrt{\\sum_{i=1}^{n}(y_i - \\bar{y})^2}}$"
   ]
  },
  {
   "cell_type": "code",
   "execution_count": 16,
   "metadata": {},
   "outputs": [
    {
     "name": "stdout",
     "output_type": "stream",
     "text": [
      "-0.06816195147507013\n"
     ]
    }
   ],
   "source": [
    "# Calculate the Pearson correlation between 'NormalizedValue' and 'StudentCount'\n",
    "corr = df10['NormalizedValue'].corr(df10['StudentCount'], method='pearson')\n",
    "\n",
    "# Print the resulting correlation coefficient\n",
    "print(corr)"
   ]
  }
 ],
 "metadata": {
  "kernelspec": {
   "display_name": "Python 3",
   "language": "python",
   "name": "python3"
  },
  "language_info": {
   "codemirror_mode": {
    "name": "ipython",
    "version": 3
   },
   "file_extension": ".py",
   "mimetype": "text/x-python",
   "name": "python",
   "nbconvert_exporter": "python",
   "pygments_lexer": "ipython3",
   "version": "3.10.10"
  },
  "orig_nbformat": 4
 },
 "nbformat": 4,
 "nbformat_minor": 2
}
