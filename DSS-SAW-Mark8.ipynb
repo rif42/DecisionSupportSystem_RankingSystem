{
 "cells": [
  {
   "attachments": {},
   "cell_type": "markdown",
   "metadata": {},
   "source": [
    "The calculation steps using the Simple Additive Weighting (SAW) method:   \n",
    "1. Determining Alternative (Ai) \n",
    "2. Determine the criteria to be used as a reference in decision making (Cj) \n",
    "3. Determine the preference weight or level of importance (W) for each criterion \n",
    "4. Determine the Match Value of each criterion \n",
    "5. Make a decision matrix (x) obtained from the suitability rating for each alternative (Ai) with each criterion (Cj). \n",
    "6. Perform the normalization step of the decision matrix (x) by calculating the value of the normalized performance rating (Rij) from the alternative (Ai) on the criteria (Cj)\n",
    "7. The result of normalization (Rij) forms a normalized matrix (R) \n",
    "8. The final result of the preference value (Vi) is obtained from the sum of the normalized matrix row elements (R) with the preference weights (W) corresponding to the matrix column elements (W). With: = rank for each alternative = weighted value of each criterion = normalized performance rating value."
   ]
  },
  {
   "cell_type": "markdown",
   "metadata": {},
   "source": [
    "# Dataset Analysis"
   ]
  },
  {
   "cell_type": "code",
   "execution_count": 42,
   "metadata": {},
   "outputs": [
    {
     "data": {
      "text/html": [
       "<div>\n",
       "<style scoped>\n",
       "    .dataframe tbody tr th:only-of-type {\n",
       "        vertical-align: middle;\n",
       "    }\n",
       "\n",
       "    .dataframe tbody tr th {\n",
       "        vertical-align: top;\n",
       "    }\n",
       "\n",
       "    .dataframe thead th {\n",
       "        text-align: right;\n",
       "    }\n",
       "</style>\n",
       "<table border=\"1\" class=\"dataframe\">\n",
       "  <thead>\n",
       "    <tr style=\"text-align: right;\">\n",
       "      <th></th>\n",
       "      <th>dosen</th>\n",
       "      <th>ta</th>\n",
       "      <th>nim</th>\n",
       "      <th>kdmk</th>\n",
       "      <th>nmmk</th>\n",
       "      <th>q1</th>\n",
       "      <th>q2</th>\n",
       "      <th>q3</th>\n",
       "      <th>q4</th>\n",
       "      <th>q5</th>\n",
       "      <th>q6</th>\n",
       "      <th>q7</th>\n",
       "      <th>q8</th>\n",
       "      <th>q9</th>\n",
       "      <th>q10</th>\n",
       "      <th>saran</th>\n",
       "    </tr>\n",
       "  </thead>\n",
       "  <tbody>\n",
       "    <tr>\n",
       "      <th>0</th>\n",
       "      <td>Prof. Dr. Ir EDI NOERSASONGKO, M.Kom</td>\n",
       "      <td>20221</td>\n",
       "      <td>A11.2017.10120</td>\n",
       "      <td>AF201703</td>\n",
       "      <td>TECHNOPRENEURSHIP</td>\n",
       "      <td>2</td>\n",
       "      <td>2</td>\n",
       "      <td>2</td>\n",
       "      <td>2</td>\n",
       "      <td>2</td>\n",
       "      <td>2</td>\n",
       "      <td>2</td>\n",
       "      <td>2</td>\n",
       "      <td>2</td>\n",
       "      <td>2</td>\n",
       "      <td>NaN</td>\n",
       "    </tr>\n",
       "    <tr>\n",
       "      <th>1</th>\n",
       "      <td>Prof. Dr. Ir EDI NOERSASONGKO, M.Kom</td>\n",
       "      <td>20221</td>\n",
       "      <td>A11.2017.10350</td>\n",
       "      <td>AF201703</td>\n",
       "      <td>TECHNOPRENEURSHIP</td>\n",
       "      <td>4</td>\n",
       "      <td>4</td>\n",
       "      <td>4</td>\n",
       "      <td>4</td>\n",
       "      <td>4</td>\n",
       "      <td>4</td>\n",
       "      <td>4</td>\n",
       "      <td>4</td>\n",
       "      <td>4</td>\n",
       "      <td>4</td>\n",
       "      <td>NaN</td>\n",
       "    </tr>\n",
       "    <tr>\n",
       "      <th>2</th>\n",
       "      <td>Prof. Dr. Ir EDI NOERSASONGKO, M.Kom</td>\n",
       "      <td>20221</td>\n",
       "      <td>A11.2018.11309</td>\n",
       "      <td>AF201703</td>\n",
       "      <td>TECHNOPRENEURSHIP</td>\n",
       "      <td>4</td>\n",
       "      <td>4</td>\n",
       "      <td>4</td>\n",
       "      <td>4</td>\n",
       "      <td>4</td>\n",
       "      <td>4</td>\n",
       "      <td>4</td>\n",
       "      <td>4</td>\n",
       "      <td>4</td>\n",
       "      <td>4</td>\n",
       "      <td>NaN</td>\n",
       "    </tr>\n",
       "    <tr>\n",
       "      <th>3</th>\n",
       "      <td>Prof. Dr. Ir EDI NOERSASONGKO, M.Kom</td>\n",
       "      <td>20221</td>\n",
       "      <td>A11.2019.11618</td>\n",
       "      <td>AF201703</td>\n",
       "      <td>TECHNOPRENEURSHIP</td>\n",
       "      <td>4</td>\n",
       "      <td>4</td>\n",
       "      <td>4</td>\n",
       "      <td>4</td>\n",
       "      <td>4</td>\n",
       "      <td>4</td>\n",
       "      <td>4</td>\n",
       "      <td>4</td>\n",
       "      <td>4</td>\n",
       "      <td>4</td>\n",
       "      <td>ok</td>\n",
       "    </tr>\n",
       "    <tr>\n",
       "      <th>4</th>\n",
       "      <td>Prof. Dr. Ir EDI NOERSASONGKO, M.Kom</td>\n",
       "      <td>20221</td>\n",
       "      <td>A11.2019.11622</td>\n",
       "      <td>AF201703</td>\n",
       "      <td>TECHNOPRENEURSHIP</td>\n",
       "      <td>4</td>\n",
       "      <td>4</td>\n",
       "      <td>4</td>\n",
       "      <td>4</td>\n",
       "      <td>4</td>\n",
       "      <td>4</td>\n",
       "      <td>4</td>\n",
       "      <td>4</td>\n",
       "      <td>4</td>\n",
       "      <td>4</td>\n",
       "      <td>NaN</td>\n",
       "    </tr>\n",
       "    <tr>\n",
       "      <th>...</th>\n",
       "      <td>...</td>\n",
       "      <td>...</td>\n",
       "      <td>...</td>\n",
       "      <td>...</td>\n",
       "      <td>...</td>\n",
       "      <td>...</td>\n",
       "      <td>...</td>\n",
       "      <td>...</td>\n",
       "      <td>...</td>\n",
       "      <td>...</td>\n",
       "      <td>...</td>\n",
       "      <td>...</td>\n",
       "      <td>...</td>\n",
       "      <td>...</td>\n",
       "      <td>...</td>\n",
       "      <td>...</td>\n",
       "    </tr>\n",
       "    <tr>\n",
       "      <th>20092</th>\n",
       "      <td>DIBYO ADI WIBOWO, S.Si., M.Si</td>\n",
       "      <td>20221</td>\n",
       "      <td>A11.2020.80018</td>\n",
       "      <td>A11.54508</td>\n",
       "      <td>STRATEGI ALGORITMA</td>\n",
       "      <td>4</td>\n",
       "      <td>3</td>\n",
       "      <td>3</td>\n",
       "      <td>4</td>\n",
       "      <td>4</td>\n",
       "      <td>4</td>\n",
       "      <td>4</td>\n",
       "      <td>4</td>\n",
       "      <td>4</td>\n",
       "      <td>4</td>\n",
       "      <td>Tidak ada</td>\n",
       "    </tr>\n",
       "    <tr>\n",
       "      <th>20093</th>\n",
       "      <td>DIBYO ADI WIBOWO, S.Si., M.Si</td>\n",
       "      <td>20221</td>\n",
       "      <td>A11.2020.80018</td>\n",
       "      <td>A11.54812</td>\n",
       "      <td>METODE NUMERIK</td>\n",
       "      <td>4</td>\n",
       "      <td>4</td>\n",
       "      <td>4</td>\n",
       "      <td>4</td>\n",
       "      <td>4</td>\n",
       "      <td>4</td>\n",
       "      <td>4</td>\n",
       "      <td>4</td>\n",
       "      <td>4</td>\n",
       "      <td>4</td>\n",
       "      <td>Tidak ada</td>\n",
       "    </tr>\n",
       "    <tr>\n",
       "      <th>20094</th>\n",
       "      <td>DEWI PERGIWATI, S.Kom., M.Kom</td>\n",
       "      <td>20221</td>\n",
       "      <td>A11.2018.11461</td>\n",
       "      <td>AF201704</td>\n",
       "      <td>DASAR DASAR KOMPUTASI</td>\n",
       "      <td>4</td>\n",
       "      <td>4</td>\n",
       "      <td>4</td>\n",
       "      <td>4</td>\n",
       "      <td>4</td>\n",
       "      <td>4</td>\n",
       "      <td>4</td>\n",
       "      <td>4</td>\n",
       "      <td>4</td>\n",
       "      <td>4</td>\n",
       "      <td>NaN</td>\n",
       "    </tr>\n",
       "    <tr>\n",
       "      <th>20095</th>\n",
       "      <td>DEWI PERGIWATI, S.Kom., M.Kom</td>\n",
       "      <td>20221</td>\n",
       "      <td>A11.2021.13607</td>\n",
       "      <td>AF201704</td>\n",
       "      <td>DASAR DASAR KOMPUTASI</td>\n",
       "      <td>4</td>\n",
       "      <td>4</td>\n",
       "      <td>4</td>\n",
       "      <td>4</td>\n",
       "      <td>4</td>\n",
       "      <td>4</td>\n",
       "      <td>3</td>\n",
       "      <td>3</td>\n",
       "      <td>3</td>\n",
       "      <td>4</td>\n",
       "      <td>NaN</td>\n",
       "    </tr>\n",
       "    <tr>\n",
       "      <th>20096</th>\n",
       "      <td>AYU ASHARI, S.S.T, M.Kes</td>\n",
       "      <td>20221</td>\n",
       "      <td>A11.2020.13081</td>\n",
       "      <td>U201701</td>\n",
       "      <td>DASAR KEWIRAUSAHAAN</td>\n",
       "      <td>3</td>\n",
       "      <td>3</td>\n",
       "      <td>3</td>\n",
       "      <td>4</td>\n",
       "      <td>3</td>\n",
       "      <td>3</td>\n",
       "      <td>3</td>\n",
       "      <td>3</td>\n",
       "      <td>3</td>\n",
       "      <td>3</td>\n",
       "      <td>NaN</td>\n",
       "    </tr>\n",
       "  </tbody>\n",
       "</table>\n",
       "<p>20097 rows × 16 columns</p>\n",
       "</div>"
      ],
      "text/plain": [
       "                                      dosen     ta             nim       kdmk  \\\n",
       "0      Prof. Dr. Ir EDI NOERSASONGKO, M.Kom  20221  A11.2017.10120   AF201703   \n",
       "1      Prof. Dr. Ir EDI NOERSASONGKO, M.Kom  20221  A11.2017.10350   AF201703   \n",
       "2      Prof. Dr. Ir EDI NOERSASONGKO, M.Kom  20221  A11.2018.11309   AF201703   \n",
       "3      Prof. Dr. Ir EDI NOERSASONGKO, M.Kom  20221  A11.2019.11618   AF201703   \n",
       "4      Prof. Dr. Ir EDI NOERSASONGKO, M.Kom  20221  A11.2019.11622   AF201703   \n",
       "...                                     ...    ...             ...        ...   \n",
       "20092         DIBYO ADI WIBOWO, S.Si., M.Si  20221  A11.2020.80018  A11.54508   \n",
       "20093         DIBYO ADI WIBOWO, S.Si., M.Si  20221  A11.2020.80018  A11.54812   \n",
       "20094         DEWI PERGIWATI, S.Kom., M.Kom  20221  A11.2018.11461   AF201704   \n",
       "20095         DEWI PERGIWATI, S.Kom., M.Kom  20221  A11.2021.13607   AF201704   \n",
       "20096              AYU ASHARI, S.S.T, M.Kes  20221  A11.2020.13081    U201701   \n",
       "\n",
       "                        nmmk  q1  q2  q3  q4  q5  q6  q7  q8  q9  q10  \\\n",
       "0          TECHNOPRENEURSHIP   2   2   2   2   2   2   2   2   2    2   \n",
       "1          TECHNOPRENEURSHIP   4   4   4   4   4   4   4   4   4    4   \n",
       "2          TECHNOPRENEURSHIP   4   4   4   4   4   4   4   4   4    4   \n",
       "3          TECHNOPRENEURSHIP   4   4   4   4   4   4   4   4   4    4   \n",
       "4          TECHNOPRENEURSHIP   4   4   4   4   4   4   4   4   4    4   \n",
       "...                      ...  ..  ..  ..  ..  ..  ..  ..  ..  ..  ...   \n",
       "20092     STRATEGI ALGORITMA   4   3   3   4   4   4   4   4   4    4   \n",
       "20093         METODE NUMERIK   4   4   4   4   4   4   4   4   4    4   \n",
       "20094  DASAR DASAR KOMPUTASI   4   4   4   4   4   4   4   4   4    4   \n",
       "20095  DASAR DASAR KOMPUTASI   4   4   4   4   4   4   3   3   3    4   \n",
       "20096    DASAR KEWIRAUSAHAAN   3   3   3   4   3   3   3   3   3    3   \n",
       "\n",
       "           saran  \n",
       "0            NaN  \n",
       "1            NaN  \n",
       "2            NaN  \n",
       "3             ok  \n",
       "4            NaN  \n",
       "...          ...  \n",
       "20092  Tidak ada  \n",
       "20093  Tidak ada  \n",
       "20094        NaN  \n",
       "20095        NaN  \n",
       "20096        NaN  \n",
       "\n",
       "[20097 rows x 16 columns]"
      ]
     },
     "execution_count": 42,
     "metadata": {},
     "output_type": "execute_result"
    }
   ],
   "source": [
    "# import csv\n",
    "import pandas as pd\n",
    "import numpy as np\n",
    "import pingouin as pg\n",
    "\n",
    "# read xls file\n",
    "df = pd.read_excel('quiz_20221.xlsx')\n",
    "\n",
    "#blur out the name of dosen\n",
    "\n",
    "df"
   ]
  },
  {
   "cell_type": "code",
   "execution_count": 43,
   "metadata": {},
   "outputs": [
    {
     "data": {
      "text/html": [
       "<div>\n",
       "<style scoped>\n",
       "    .dataframe tbody tr th:only-of-type {\n",
       "        vertical-align: middle;\n",
       "    }\n",
       "\n",
       "    .dataframe tbody tr th {\n",
       "        vertical-align: top;\n",
       "    }\n",
       "\n",
       "    .dataframe thead th {\n",
       "        text-align: right;\n",
       "    }\n",
       "</style>\n",
       "<table border=\"1\" class=\"dataframe\">\n",
       "  <thead>\n",
       "    <tr style=\"text-align: right;\">\n",
       "      <th></th>\n",
       "      <th>dosen</th>\n",
       "      <th>ta</th>\n",
       "      <th>nim</th>\n",
       "      <th>kdmk</th>\n",
       "      <th>nmmk</th>\n",
       "      <th>q1</th>\n",
       "      <th>q2</th>\n",
       "      <th>q3</th>\n",
       "      <th>q4</th>\n",
       "      <th>q5</th>\n",
       "      <th>q6</th>\n",
       "      <th>q7</th>\n",
       "      <th>q8</th>\n",
       "      <th>q9</th>\n",
       "      <th>q10</th>\n",
       "      <th>saran</th>\n",
       "    </tr>\n",
       "  </thead>\n",
       "  <tbody>\n",
       "    <tr>\n",
       "      <th>0</th>\n",
       "      <td>Respondent1</td>\n",
       "      <td>20221</td>\n",
       "      <td>A11.2017.10120</td>\n",
       "      <td>AF201703</td>\n",
       "      <td>TECHNOPRENEURSHIP</td>\n",
       "      <td>2</td>\n",
       "      <td>2</td>\n",
       "      <td>2</td>\n",
       "      <td>2</td>\n",
       "      <td>2</td>\n",
       "      <td>2</td>\n",
       "      <td>2</td>\n",
       "      <td>2</td>\n",
       "      <td>2</td>\n",
       "      <td>2</td>\n",
       "      <td>NaN</td>\n",
       "    </tr>\n",
       "    <tr>\n",
       "      <th>1</th>\n",
       "      <td>Respondent1</td>\n",
       "      <td>20221</td>\n",
       "      <td>A11.2017.10350</td>\n",
       "      <td>AF201703</td>\n",
       "      <td>TECHNOPRENEURSHIP</td>\n",
       "      <td>4</td>\n",
       "      <td>4</td>\n",
       "      <td>4</td>\n",
       "      <td>4</td>\n",
       "      <td>4</td>\n",
       "      <td>4</td>\n",
       "      <td>4</td>\n",
       "      <td>4</td>\n",
       "      <td>4</td>\n",
       "      <td>4</td>\n",
       "      <td>NaN</td>\n",
       "    </tr>\n",
       "    <tr>\n",
       "      <th>2</th>\n",
       "      <td>Respondent1</td>\n",
       "      <td>20221</td>\n",
       "      <td>A11.2018.11309</td>\n",
       "      <td>AF201703</td>\n",
       "      <td>TECHNOPRENEURSHIP</td>\n",
       "      <td>4</td>\n",
       "      <td>4</td>\n",
       "      <td>4</td>\n",
       "      <td>4</td>\n",
       "      <td>4</td>\n",
       "      <td>4</td>\n",
       "      <td>4</td>\n",
       "      <td>4</td>\n",
       "      <td>4</td>\n",
       "      <td>4</td>\n",
       "      <td>NaN</td>\n",
       "    </tr>\n",
       "    <tr>\n",
       "      <th>3</th>\n",
       "      <td>Respondent1</td>\n",
       "      <td>20221</td>\n",
       "      <td>A11.2019.11618</td>\n",
       "      <td>AF201703</td>\n",
       "      <td>TECHNOPRENEURSHIP</td>\n",
       "      <td>4</td>\n",
       "      <td>4</td>\n",
       "      <td>4</td>\n",
       "      <td>4</td>\n",
       "      <td>4</td>\n",
       "      <td>4</td>\n",
       "      <td>4</td>\n",
       "      <td>4</td>\n",
       "      <td>4</td>\n",
       "      <td>4</td>\n",
       "      <td>ok</td>\n",
       "    </tr>\n",
       "    <tr>\n",
       "      <th>4</th>\n",
       "      <td>Respondent1</td>\n",
       "      <td>20221</td>\n",
       "      <td>A11.2019.11622</td>\n",
       "      <td>AF201703</td>\n",
       "      <td>TECHNOPRENEURSHIP</td>\n",
       "      <td>4</td>\n",
       "      <td>4</td>\n",
       "      <td>4</td>\n",
       "      <td>4</td>\n",
       "      <td>4</td>\n",
       "      <td>4</td>\n",
       "      <td>4</td>\n",
       "      <td>4</td>\n",
       "      <td>4</td>\n",
       "      <td>4</td>\n",
       "      <td>NaN</td>\n",
       "    </tr>\n",
       "    <tr>\n",
       "      <th>...</th>\n",
       "      <td>...</td>\n",
       "      <td>...</td>\n",
       "      <td>...</td>\n",
       "      <td>...</td>\n",
       "      <td>...</td>\n",
       "      <td>...</td>\n",
       "      <td>...</td>\n",
       "      <td>...</td>\n",
       "      <td>...</td>\n",
       "      <td>...</td>\n",
       "      <td>...</td>\n",
       "      <td>...</td>\n",
       "      <td>...</td>\n",
       "      <td>...</td>\n",
       "      <td>...</td>\n",
       "      <td>...</td>\n",
       "    </tr>\n",
       "    <tr>\n",
       "      <th>20092</th>\n",
       "      <td>Respondent132</td>\n",
       "      <td>20221</td>\n",
       "      <td>A11.2020.80018</td>\n",
       "      <td>A11.54508</td>\n",
       "      <td>STRATEGI ALGORITMA</td>\n",
       "      <td>4</td>\n",
       "      <td>3</td>\n",
       "      <td>3</td>\n",
       "      <td>4</td>\n",
       "      <td>4</td>\n",
       "      <td>4</td>\n",
       "      <td>4</td>\n",
       "      <td>4</td>\n",
       "      <td>4</td>\n",
       "      <td>4</td>\n",
       "      <td>Tidak ada</td>\n",
       "    </tr>\n",
       "    <tr>\n",
       "      <th>20093</th>\n",
       "      <td>Respondent132</td>\n",
       "      <td>20221</td>\n",
       "      <td>A11.2020.80018</td>\n",
       "      <td>A11.54812</td>\n",
       "      <td>METODE NUMERIK</td>\n",
       "      <td>4</td>\n",
       "      <td>4</td>\n",
       "      <td>4</td>\n",
       "      <td>4</td>\n",
       "      <td>4</td>\n",
       "      <td>4</td>\n",
       "      <td>4</td>\n",
       "      <td>4</td>\n",
       "      <td>4</td>\n",
       "      <td>4</td>\n",
       "      <td>Tidak ada</td>\n",
       "    </tr>\n",
       "    <tr>\n",
       "      <th>20094</th>\n",
       "      <td>Respondent133</td>\n",
       "      <td>20221</td>\n",
       "      <td>A11.2018.11461</td>\n",
       "      <td>AF201704</td>\n",
       "      <td>DASAR DASAR KOMPUTASI</td>\n",
       "      <td>4</td>\n",
       "      <td>4</td>\n",
       "      <td>4</td>\n",
       "      <td>4</td>\n",
       "      <td>4</td>\n",
       "      <td>4</td>\n",
       "      <td>4</td>\n",
       "      <td>4</td>\n",
       "      <td>4</td>\n",
       "      <td>4</td>\n",
       "      <td>NaN</td>\n",
       "    </tr>\n",
       "    <tr>\n",
       "      <th>20095</th>\n",
       "      <td>Respondent133</td>\n",
       "      <td>20221</td>\n",
       "      <td>A11.2021.13607</td>\n",
       "      <td>AF201704</td>\n",
       "      <td>DASAR DASAR KOMPUTASI</td>\n",
       "      <td>4</td>\n",
       "      <td>4</td>\n",
       "      <td>4</td>\n",
       "      <td>4</td>\n",
       "      <td>4</td>\n",
       "      <td>4</td>\n",
       "      <td>3</td>\n",
       "      <td>3</td>\n",
       "      <td>3</td>\n",
       "      <td>4</td>\n",
       "      <td>NaN</td>\n",
       "    </tr>\n",
       "    <tr>\n",
       "      <th>20096</th>\n",
       "      <td>Respondent134</td>\n",
       "      <td>20221</td>\n",
       "      <td>A11.2020.13081</td>\n",
       "      <td>U201701</td>\n",
       "      <td>DASAR KEWIRAUSAHAAN</td>\n",
       "      <td>3</td>\n",
       "      <td>3</td>\n",
       "      <td>3</td>\n",
       "      <td>4</td>\n",
       "      <td>3</td>\n",
       "      <td>3</td>\n",
       "      <td>3</td>\n",
       "      <td>3</td>\n",
       "      <td>3</td>\n",
       "      <td>3</td>\n",
       "      <td>NaN</td>\n",
       "    </tr>\n",
       "  </tbody>\n",
       "</table>\n",
       "<p>20097 rows × 16 columns</p>\n",
       "</div>"
      ],
      "text/plain": [
       "               dosen     ta             nim       kdmk                   nmmk  \\\n",
       "0        Respondent1  20221  A11.2017.10120   AF201703      TECHNOPRENEURSHIP   \n",
       "1        Respondent1  20221  A11.2017.10350   AF201703      TECHNOPRENEURSHIP   \n",
       "2        Respondent1  20221  A11.2018.11309   AF201703      TECHNOPRENEURSHIP   \n",
       "3        Respondent1  20221  A11.2019.11618   AF201703      TECHNOPRENEURSHIP   \n",
       "4        Respondent1  20221  A11.2019.11622   AF201703      TECHNOPRENEURSHIP   \n",
       "...              ...    ...             ...        ...                    ...   \n",
       "20092  Respondent132  20221  A11.2020.80018  A11.54508     STRATEGI ALGORITMA   \n",
       "20093  Respondent132  20221  A11.2020.80018  A11.54812         METODE NUMERIK   \n",
       "20094  Respondent133  20221  A11.2018.11461   AF201704  DASAR DASAR KOMPUTASI   \n",
       "20095  Respondent133  20221  A11.2021.13607   AF201704  DASAR DASAR KOMPUTASI   \n",
       "20096  Respondent134  20221  A11.2020.13081    U201701    DASAR KEWIRAUSAHAAN   \n",
       "\n",
       "       q1  q2  q3  q4  q5  q6  q7  q8  q9  q10      saran  \n",
       "0       2   2   2   2   2   2   2   2   2    2        NaN  \n",
       "1       4   4   4   4   4   4   4   4   4    4        NaN  \n",
       "2       4   4   4   4   4   4   4   4   4    4        NaN  \n",
       "3       4   4   4   4   4   4   4   4   4    4         ok  \n",
       "4       4   4   4   4   4   4   4   4   4    4        NaN  \n",
       "...    ..  ..  ..  ..  ..  ..  ..  ..  ..  ...        ...  \n",
       "20092   4   3   3   4   4   4   4   4   4    4  Tidak ada  \n",
       "20093   4   4   4   4   4   4   4   4   4    4  Tidak ada  \n",
       "20094   4   4   4   4   4   4   4   4   4    4        NaN  \n",
       "20095   4   4   4   4   4   4   3   3   3    4        NaN  \n",
       "20096   3   3   3   4   3   3   3   3   3    3        NaN  \n",
       "\n",
       "[20097 rows x 16 columns]"
      ]
     },
     "execution_count": 43,
     "metadata": {},
     "output_type": "execute_result"
    }
   ],
   "source": [
    "counter = 1\n",
    "for i in range(len(df)-1):\n",
    "    if df.iloc[i, 0] == df.iloc[i+1, 0]:\n",
    "        df.iloc[i, 0] = \"Respondent\" + str(counter)\n",
    "    elif df.iloc[i, 0] != df.iloc[i+1, 0]:\n",
    "        df.iloc[i, 0] = \"Respondent\" + str(counter)\n",
    "        counter += 1\n",
    "df.iloc[-1, 0] = \"Respondent\" + str(counter)\n",
    "\n",
    "df"
   ]
  },
  {
   "cell_type": "code",
   "execution_count": 44,
   "metadata": {},
   "outputs": [
    {
     "data": {
      "text/html": [
       "<div>\n",
       "<style scoped>\n",
       "    .dataframe tbody tr th:only-of-type {\n",
       "        vertical-align: middle;\n",
       "    }\n",
       "\n",
       "    .dataframe tbody tr th {\n",
       "        vertical-align: top;\n",
       "    }\n",
       "\n",
       "    .dataframe thead th {\n",
       "        text-align: right;\n",
       "    }\n",
       "</style>\n",
       "<table border=\"1\" class=\"dataframe\">\n",
       "  <thead>\n",
       "    <tr style=\"text-align: right;\">\n",
       "      <th></th>\n",
       "      <th>Code</th>\n",
       "      <th>Alternative</th>\n",
       "      <th>q1</th>\n",
       "      <th>q2</th>\n",
       "      <th>q3</th>\n",
       "      <th>q4</th>\n",
       "      <th>q5</th>\n",
       "      <th>q6</th>\n",
       "      <th>q7</th>\n",
       "      <th>q8</th>\n",
       "      <th>q9</th>\n",
       "      <th>q10</th>\n",
       "    </tr>\n",
       "  </thead>\n",
       "  <tbody>\n",
       "    <tr>\n",
       "      <th>0</th>\n",
       "      <td>A1</td>\n",
       "      <td>A11.2017.10120 - AF201703</td>\n",
       "      <td>2</td>\n",
       "      <td>2</td>\n",
       "      <td>2</td>\n",
       "      <td>2</td>\n",
       "      <td>2</td>\n",
       "      <td>2</td>\n",
       "      <td>2</td>\n",
       "      <td>2</td>\n",
       "      <td>2</td>\n",
       "      <td>2</td>\n",
       "    </tr>\n",
       "    <tr>\n",
       "      <th>1</th>\n",
       "      <td>A2</td>\n",
       "      <td>A11.2017.10350 - AF201703</td>\n",
       "      <td>4</td>\n",
       "      <td>4</td>\n",
       "      <td>4</td>\n",
       "      <td>4</td>\n",
       "      <td>4</td>\n",
       "      <td>4</td>\n",
       "      <td>4</td>\n",
       "      <td>4</td>\n",
       "      <td>4</td>\n",
       "      <td>4</td>\n",
       "    </tr>\n",
       "    <tr>\n",
       "      <th>2</th>\n",
       "      <td>A3</td>\n",
       "      <td>A11.2018.11309 - AF201703</td>\n",
       "      <td>4</td>\n",
       "      <td>4</td>\n",
       "      <td>4</td>\n",
       "      <td>4</td>\n",
       "      <td>4</td>\n",
       "      <td>4</td>\n",
       "      <td>4</td>\n",
       "      <td>4</td>\n",
       "      <td>4</td>\n",
       "      <td>4</td>\n",
       "    </tr>\n",
       "    <tr>\n",
       "      <th>3</th>\n",
       "      <td>A4</td>\n",
       "      <td>A11.2019.11618 - AF201703</td>\n",
       "      <td>4</td>\n",
       "      <td>4</td>\n",
       "      <td>4</td>\n",
       "      <td>4</td>\n",
       "      <td>4</td>\n",
       "      <td>4</td>\n",
       "      <td>4</td>\n",
       "      <td>4</td>\n",
       "      <td>4</td>\n",
       "      <td>4</td>\n",
       "    </tr>\n",
       "    <tr>\n",
       "      <th>4</th>\n",
       "      <td>A5</td>\n",
       "      <td>A11.2019.11622 - AF201703</td>\n",
       "      <td>4</td>\n",
       "      <td>4</td>\n",
       "      <td>4</td>\n",
       "      <td>4</td>\n",
       "      <td>4</td>\n",
       "      <td>4</td>\n",
       "      <td>4</td>\n",
       "      <td>4</td>\n",
       "      <td>4</td>\n",
       "      <td>4</td>\n",
       "    </tr>\n",
       "    <tr>\n",
       "      <th>...</th>\n",
       "      <td>...</td>\n",
       "      <td>...</td>\n",
       "      <td>...</td>\n",
       "      <td>...</td>\n",
       "      <td>...</td>\n",
       "      <td>...</td>\n",
       "      <td>...</td>\n",
       "      <td>...</td>\n",
       "      <td>...</td>\n",
       "      <td>...</td>\n",
       "      <td>...</td>\n",
       "      <td>...</td>\n",
       "    </tr>\n",
       "    <tr>\n",
       "      <th>20092</th>\n",
       "      <td>A20093</td>\n",
       "      <td>A11.2020.80018 - A11.54508</td>\n",
       "      <td>4</td>\n",
       "      <td>3</td>\n",
       "      <td>3</td>\n",
       "      <td>4</td>\n",
       "      <td>4</td>\n",
       "      <td>4</td>\n",
       "      <td>4</td>\n",
       "      <td>4</td>\n",
       "      <td>4</td>\n",
       "      <td>4</td>\n",
       "    </tr>\n",
       "    <tr>\n",
       "      <th>20093</th>\n",
       "      <td>A20094</td>\n",
       "      <td>A11.2020.80018 - A11.54812</td>\n",
       "      <td>4</td>\n",
       "      <td>4</td>\n",
       "      <td>4</td>\n",
       "      <td>4</td>\n",
       "      <td>4</td>\n",
       "      <td>4</td>\n",
       "      <td>4</td>\n",
       "      <td>4</td>\n",
       "      <td>4</td>\n",
       "      <td>4</td>\n",
       "    </tr>\n",
       "    <tr>\n",
       "      <th>20094</th>\n",
       "      <td>A20095</td>\n",
       "      <td>A11.2018.11461 - AF201704</td>\n",
       "      <td>4</td>\n",
       "      <td>4</td>\n",
       "      <td>4</td>\n",
       "      <td>4</td>\n",
       "      <td>4</td>\n",
       "      <td>4</td>\n",
       "      <td>4</td>\n",
       "      <td>4</td>\n",
       "      <td>4</td>\n",
       "      <td>4</td>\n",
       "    </tr>\n",
       "    <tr>\n",
       "      <th>20095</th>\n",
       "      <td>A20096</td>\n",
       "      <td>A11.2021.13607 - AF201704</td>\n",
       "      <td>4</td>\n",
       "      <td>4</td>\n",
       "      <td>4</td>\n",
       "      <td>4</td>\n",
       "      <td>4</td>\n",
       "      <td>4</td>\n",
       "      <td>3</td>\n",
       "      <td>3</td>\n",
       "      <td>3</td>\n",
       "      <td>4</td>\n",
       "    </tr>\n",
       "    <tr>\n",
       "      <th>20096</th>\n",
       "      <td>A20097</td>\n",
       "      <td>A11.2020.13081 - U201701</td>\n",
       "      <td>3</td>\n",
       "      <td>3</td>\n",
       "      <td>3</td>\n",
       "      <td>4</td>\n",
       "      <td>3</td>\n",
       "      <td>3</td>\n",
       "      <td>3</td>\n",
       "      <td>3</td>\n",
       "      <td>3</td>\n",
       "      <td>3</td>\n",
       "    </tr>\n",
       "  </tbody>\n",
       "</table>\n",
       "<p>20097 rows × 12 columns</p>\n",
       "</div>"
      ],
      "text/plain": [
       "         Code                 Alternative  q1  q2  q3  q4  q5  q6  q7  q8  q9  \\\n",
       "0          A1   A11.2017.10120 - AF201703   2   2   2   2   2   2   2   2   2   \n",
       "1          A2   A11.2017.10350 - AF201703   4   4   4   4   4   4   4   4   4   \n",
       "2          A3   A11.2018.11309 - AF201703   4   4   4   4   4   4   4   4   4   \n",
       "3          A4   A11.2019.11618 - AF201703   4   4   4   4   4   4   4   4   4   \n",
       "4          A5   A11.2019.11622 - AF201703   4   4   4   4   4   4   4   4   4   \n",
       "...       ...                         ...  ..  ..  ..  ..  ..  ..  ..  ..  ..   \n",
       "20092  A20093  A11.2020.80018 - A11.54508   4   3   3   4   4   4   4   4   4   \n",
       "20093  A20094  A11.2020.80018 - A11.54812   4   4   4   4   4   4   4   4   4   \n",
       "20094  A20095   A11.2018.11461 - AF201704   4   4   4   4   4   4   4   4   4   \n",
       "20095  A20096   A11.2021.13607 - AF201704   4   4   4   4   4   4   3   3   3   \n",
       "20096  A20097    A11.2020.13081 - U201701   3   3   3   4   3   3   3   3   3   \n",
       "\n",
       "       q10  \n",
       "0        2  \n",
       "1        4  \n",
       "2        4  \n",
       "3        4  \n",
       "4        4  \n",
       "...    ...  \n",
       "20092    4  \n",
       "20093    4  \n",
       "20094    4  \n",
       "20095    4  \n",
       "20096    3  \n",
       "\n",
       "[20097 rows x 12 columns]"
      ]
     },
     "execution_count": 44,
     "metadata": {},
     "output_type": "execute_result"
    }
   ],
   "source": [
    "df2 = df.copy()\n",
    "\n",
    "for i in range(len(df2)):\n",
    "    df2.loc[i, 'nim'] = df2.loc[i, 'nim'] + str(\" - \") + df2.loc[i, 'kdmk']\n",
    "\n",
    "# remove unnecessary columns\n",
    "df2 = df2.drop(['ta','dosen','saran','nmmk','kdmk'], axis=1)\n",
    "\n",
    "# change column name\n",
    "df2 = df2.rename(columns={'nim':'Alternative'})\n",
    "\n",
    "# insert code column in front of dataframe\n",
    "df2.insert(loc=0, column='Code', value=1)\n",
    "\n",
    "#loop through code column\n",
    "for i in range(len(df2)):\n",
    "    val = df2.loc[i, 'Code'] + i\n",
    "    df2.loc[i, 'Code'] = \"A\"+str(val)\n",
    "\n",
    "# remove index column\n",
    "df2 = df2.reset_index(drop=True)\n",
    "\n",
    "df2"
   ]
  },
  {
   "cell_type": "markdown",
   "metadata": {},
   "source": [
    "## Normalize Dataset\n",
    "\n",
    "Because all of the criterias are benefit, so we only use one formula to normalize all values\n",
    "\n",
    "$R_{ij} = \\dfrac{x_{ij}}{Max(x_{ij})}$\n",
    "\n",
    "if there are cost criteria, then we use formula below:  \n",
    "\n",
    "$R_{ij} = \\dfrac{x_{ij}}{Min(x_{ij})}$\n"
   ]
  },
  {
   "cell_type": "code",
   "execution_count": 45,
   "metadata": {},
   "outputs": [
    {
     "data": {
      "text/html": [
       "<div>\n",
       "<style scoped>\n",
       "    .dataframe tbody tr th:only-of-type {\n",
       "        vertical-align: middle;\n",
       "    }\n",
       "\n",
       "    .dataframe tbody tr th {\n",
       "        vertical-align: top;\n",
       "    }\n",
       "\n",
       "    .dataframe thead th {\n",
       "        text-align: right;\n",
       "    }\n",
       "</style>\n",
       "<table border=\"1\" class=\"dataframe\">\n",
       "  <thead>\n",
       "    <tr style=\"text-align: right;\">\n",
       "      <th></th>\n",
       "      <th>Code</th>\n",
       "      <th>q1</th>\n",
       "      <th>q2</th>\n",
       "      <th>q3</th>\n",
       "      <th>q4</th>\n",
       "      <th>q5</th>\n",
       "      <th>q6</th>\n",
       "      <th>q7</th>\n",
       "      <th>q8</th>\n",
       "      <th>q9</th>\n",
       "      <th>q10</th>\n",
       "    </tr>\n",
       "  </thead>\n",
       "  <tbody>\n",
       "    <tr>\n",
       "      <th>0</th>\n",
       "      <td>A1</td>\n",
       "      <td>2</td>\n",
       "      <td>2</td>\n",
       "      <td>2</td>\n",
       "      <td>2</td>\n",
       "      <td>2</td>\n",
       "      <td>2</td>\n",
       "      <td>2</td>\n",
       "      <td>2</td>\n",
       "      <td>2</td>\n",
       "      <td>2</td>\n",
       "    </tr>\n",
       "    <tr>\n",
       "      <th>1</th>\n",
       "      <td>A2</td>\n",
       "      <td>4</td>\n",
       "      <td>4</td>\n",
       "      <td>4</td>\n",
       "      <td>4</td>\n",
       "      <td>4</td>\n",
       "      <td>4</td>\n",
       "      <td>4</td>\n",
       "      <td>4</td>\n",
       "      <td>4</td>\n",
       "      <td>4</td>\n",
       "    </tr>\n",
       "    <tr>\n",
       "      <th>2</th>\n",
       "      <td>A3</td>\n",
       "      <td>4</td>\n",
       "      <td>4</td>\n",
       "      <td>4</td>\n",
       "      <td>4</td>\n",
       "      <td>4</td>\n",
       "      <td>4</td>\n",
       "      <td>4</td>\n",
       "      <td>4</td>\n",
       "      <td>4</td>\n",
       "      <td>4</td>\n",
       "    </tr>\n",
       "    <tr>\n",
       "      <th>3</th>\n",
       "      <td>A4</td>\n",
       "      <td>4</td>\n",
       "      <td>4</td>\n",
       "      <td>4</td>\n",
       "      <td>4</td>\n",
       "      <td>4</td>\n",
       "      <td>4</td>\n",
       "      <td>4</td>\n",
       "      <td>4</td>\n",
       "      <td>4</td>\n",
       "      <td>4</td>\n",
       "    </tr>\n",
       "    <tr>\n",
       "      <th>4</th>\n",
       "      <td>A5</td>\n",
       "      <td>4</td>\n",
       "      <td>4</td>\n",
       "      <td>4</td>\n",
       "      <td>4</td>\n",
       "      <td>4</td>\n",
       "      <td>4</td>\n",
       "      <td>4</td>\n",
       "      <td>4</td>\n",
       "      <td>4</td>\n",
       "      <td>4</td>\n",
       "    </tr>\n",
       "    <tr>\n",
       "      <th>...</th>\n",
       "      <td>...</td>\n",
       "      <td>...</td>\n",
       "      <td>...</td>\n",
       "      <td>...</td>\n",
       "      <td>...</td>\n",
       "      <td>...</td>\n",
       "      <td>...</td>\n",
       "      <td>...</td>\n",
       "      <td>...</td>\n",
       "      <td>...</td>\n",
       "      <td>...</td>\n",
       "    </tr>\n",
       "    <tr>\n",
       "      <th>20092</th>\n",
       "      <td>A20093</td>\n",
       "      <td>4</td>\n",
       "      <td>3</td>\n",
       "      <td>3</td>\n",
       "      <td>4</td>\n",
       "      <td>4</td>\n",
       "      <td>4</td>\n",
       "      <td>4</td>\n",
       "      <td>4</td>\n",
       "      <td>4</td>\n",
       "      <td>4</td>\n",
       "    </tr>\n",
       "    <tr>\n",
       "      <th>20093</th>\n",
       "      <td>A20094</td>\n",
       "      <td>4</td>\n",
       "      <td>4</td>\n",
       "      <td>4</td>\n",
       "      <td>4</td>\n",
       "      <td>4</td>\n",
       "      <td>4</td>\n",
       "      <td>4</td>\n",
       "      <td>4</td>\n",
       "      <td>4</td>\n",
       "      <td>4</td>\n",
       "    </tr>\n",
       "    <tr>\n",
       "      <th>20094</th>\n",
       "      <td>A20095</td>\n",
       "      <td>4</td>\n",
       "      <td>4</td>\n",
       "      <td>4</td>\n",
       "      <td>4</td>\n",
       "      <td>4</td>\n",
       "      <td>4</td>\n",
       "      <td>4</td>\n",
       "      <td>4</td>\n",
       "      <td>4</td>\n",
       "      <td>4</td>\n",
       "    </tr>\n",
       "    <tr>\n",
       "      <th>20095</th>\n",
       "      <td>A20096</td>\n",
       "      <td>4</td>\n",
       "      <td>4</td>\n",
       "      <td>4</td>\n",
       "      <td>4</td>\n",
       "      <td>4</td>\n",
       "      <td>4</td>\n",
       "      <td>3</td>\n",
       "      <td>3</td>\n",
       "      <td>3</td>\n",
       "      <td>4</td>\n",
       "    </tr>\n",
       "    <tr>\n",
       "      <th>20096</th>\n",
       "      <td>A20097</td>\n",
       "      <td>3</td>\n",
       "      <td>3</td>\n",
       "      <td>3</td>\n",
       "      <td>4</td>\n",
       "      <td>3</td>\n",
       "      <td>3</td>\n",
       "      <td>3</td>\n",
       "      <td>3</td>\n",
       "      <td>3</td>\n",
       "      <td>3</td>\n",
       "    </tr>\n",
       "  </tbody>\n",
       "</table>\n",
       "<p>20097 rows × 11 columns</p>\n",
       "</div>"
      ],
      "text/plain": [
       "         Code  q1  q2  q3  q4  q5  q6  q7  q8  q9  q10\n",
       "0          A1   2   2   2   2   2   2   2   2   2    2\n",
       "1          A2   4   4   4   4   4   4   4   4   4    4\n",
       "2          A3   4   4   4   4   4   4   4   4   4    4\n",
       "3          A4   4   4   4   4   4   4   4   4   4    4\n",
       "4          A5   4   4   4   4   4   4   4   4   4    4\n",
       "...       ...  ..  ..  ..  ..  ..  ..  ..  ..  ..  ...\n",
       "20092  A20093   4   3   3   4   4   4   4   4   4    4\n",
       "20093  A20094   4   4   4   4   4   4   4   4   4    4\n",
       "20094  A20095   4   4   4   4   4   4   4   4   4    4\n",
       "20095  A20096   4   4   4   4   4   4   3   3   3    4\n",
       "20096  A20097   3   3   3   4   3   3   3   3   3    3\n",
       "\n",
       "[20097 rows x 11 columns]"
      ]
     },
     "execution_count": 45,
     "metadata": {},
     "output_type": "execute_result"
    }
   ],
   "source": [
    "df3 = df2.copy()\n",
    "\n",
    "df3 = df3.drop(['Alternative'], axis=1)\n",
    "\n",
    "df3"
   ]
  },
  {
   "cell_type": "markdown",
   "metadata": {},
   "source": [
    "Calculation example for A0:\n",
    "\n",
    "$R_{ij} = \\dfrac{x_{ij}}{Max(x_{ij})}$  \n",
    "\n",
    "R = Normalized Value  \n",
    "i = Index alternative  \n",
    "j = Index criteria  \n",
    "x = Alternative value  \n",
    "Max(x) = Maximum alternative value   \n",
    "\n",
    "$R_{11} = \\dfrac{2}{4} = 0.5$  "
   ]
  },
  {
   "cell_type": "code",
   "execution_count": 46,
   "metadata": {},
   "outputs": [
    {
     "data": {
      "text/html": [
       "<div>\n",
       "<style scoped>\n",
       "    .dataframe tbody tr th:only-of-type {\n",
       "        vertical-align: middle;\n",
       "    }\n",
       "\n",
       "    .dataframe tbody tr th {\n",
       "        vertical-align: top;\n",
       "    }\n",
       "\n",
       "    .dataframe thead th {\n",
       "        text-align: right;\n",
       "    }\n",
       "</style>\n",
       "<table border=\"1\" class=\"dataframe\">\n",
       "  <thead>\n",
       "    <tr style=\"text-align: right;\">\n",
       "      <th></th>\n",
       "      <th>Code</th>\n",
       "      <th>q1</th>\n",
       "      <th>q2</th>\n",
       "      <th>q3</th>\n",
       "      <th>q4</th>\n",
       "      <th>q5</th>\n",
       "      <th>q6</th>\n",
       "      <th>q7</th>\n",
       "      <th>q8</th>\n",
       "      <th>q9</th>\n",
       "      <th>q10</th>\n",
       "    </tr>\n",
       "  </thead>\n",
       "  <tbody>\n",
       "    <tr>\n",
       "      <th>0</th>\n",
       "      <td>A1</td>\n",
       "      <td>0.50</td>\n",
       "      <td>0.50</td>\n",
       "      <td>0.50</td>\n",
       "      <td>0.5</td>\n",
       "      <td>0.50</td>\n",
       "      <td>0.50</td>\n",
       "      <td>0.50</td>\n",
       "      <td>0.50</td>\n",
       "      <td>0.50</td>\n",
       "      <td>0.50</td>\n",
       "    </tr>\n",
       "    <tr>\n",
       "      <th>1</th>\n",
       "      <td>A2</td>\n",
       "      <td>1.00</td>\n",
       "      <td>1.00</td>\n",
       "      <td>1.00</td>\n",
       "      <td>1.0</td>\n",
       "      <td>1.00</td>\n",
       "      <td>1.00</td>\n",
       "      <td>1.00</td>\n",
       "      <td>1.00</td>\n",
       "      <td>1.00</td>\n",
       "      <td>1.00</td>\n",
       "    </tr>\n",
       "    <tr>\n",
       "      <th>2</th>\n",
       "      <td>A3</td>\n",
       "      <td>1.00</td>\n",
       "      <td>1.00</td>\n",
       "      <td>1.00</td>\n",
       "      <td>1.0</td>\n",
       "      <td>1.00</td>\n",
       "      <td>1.00</td>\n",
       "      <td>1.00</td>\n",
       "      <td>1.00</td>\n",
       "      <td>1.00</td>\n",
       "      <td>1.00</td>\n",
       "    </tr>\n",
       "    <tr>\n",
       "      <th>3</th>\n",
       "      <td>A4</td>\n",
       "      <td>1.00</td>\n",
       "      <td>1.00</td>\n",
       "      <td>1.00</td>\n",
       "      <td>1.0</td>\n",
       "      <td>1.00</td>\n",
       "      <td>1.00</td>\n",
       "      <td>1.00</td>\n",
       "      <td>1.00</td>\n",
       "      <td>1.00</td>\n",
       "      <td>1.00</td>\n",
       "    </tr>\n",
       "    <tr>\n",
       "      <th>4</th>\n",
       "      <td>A5</td>\n",
       "      <td>1.00</td>\n",
       "      <td>1.00</td>\n",
       "      <td>1.00</td>\n",
       "      <td>1.0</td>\n",
       "      <td>1.00</td>\n",
       "      <td>1.00</td>\n",
       "      <td>1.00</td>\n",
       "      <td>1.00</td>\n",
       "      <td>1.00</td>\n",
       "      <td>1.00</td>\n",
       "    </tr>\n",
       "    <tr>\n",
       "      <th>...</th>\n",
       "      <td>...</td>\n",
       "      <td>...</td>\n",
       "      <td>...</td>\n",
       "      <td>...</td>\n",
       "      <td>...</td>\n",
       "      <td>...</td>\n",
       "      <td>...</td>\n",
       "      <td>...</td>\n",
       "      <td>...</td>\n",
       "      <td>...</td>\n",
       "      <td>...</td>\n",
       "    </tr>\n",
       "    <tr>\n",
       "      <th>20092</th>\n",
       "      <td>A20093</td>\n",
       "      <td>1.00</td>\n",
       "      <td>0.75</td>\n",
       "      <td>0.75</td>\n",
       "      <td>1.0</td>\n",
       "      <td>1.00</td>\n",
       "      <td>1.00</td>\n",
       "      <td>1.00</td>\n",
       "      <td>1.00</td>\n",
       "      <td>1.00</td>\n",
       "      <td>1.00</td>\n",
       "    </tr>\n",
       "    <tr>\n",
       "      <th>20093</th>\n",
       "      <td>A20094</td>\n",
       "      <td>1.00</td>\n",
       "      <td>1.00</td>\n",
       "      <td>1.00</td>\n",
       "      <td>1.0</td>\n",
       "      <td>1.00</td>\n",
       "      <td>1.00</td>\n",
       "      <td>1.00</td>\n",
       "      <td>1.00</td>\n",
       "      <td>1.00</td>\n",
       "      <td>1.00</td>\n",
       "    </tr>\n",
       "    <tr>\n",
       "      <th>20094</th>\n",
       "      <td>A20095</td>\n",
       "      <td>1.00</td>\n",
       "      <td>1.00</td>\n",
       "      <td>1.00</td>\n",
       "      <td>1.0</td>\n",
       "      <td>1.00</td>\n",
       "      <td>1.00</td>\n",
       "      <td>1.00</td>\n",
       "      <td>1.00</td>\n",
       "      <td>1.00</td>\n",
       "      <td>1.00</td>\n",
       "    </tr>\n",
       "    <tr>\n",
       "      <th>20095</th>\n",
       "      <td>A20096</td>\n",
       "      <td>1.00</td>\n",
       "      <td>1.00</td>\n",
       "      <td>1.00</td>\n",
       "      <td>1.0</td>\n",
       "      <td>1.00</td>\n",
       "      <td>1.00</td>\n",
       "      <td>0.75</td>\n",
       "      <td>0.75</td>\n",
       "      <td>0.75</td>\n",
       "      <td>1.00</td>\n",
       "    </tr>\n",
       "    <tr>\n",
       "      <th>20096</th>\n",
       "      <td>A20097</td>\n",
       "      <td>0.75</td>\n",
       "      <td>0.75</td>\n",
       "      <td>0.75</td>\n",
       "      <td>1.0</td>\n",
       "      <td>0.75</td>\n",
       "      <td>0.75</td>\n",
       "      <td>0.75</td>\n",
       "      <td>0.75</td>\n",
       "      <td>0.75</td>\n",
       "      <td>0.75</td>\n",
       "    </tr>\n",
       "  </tbody>\n",
       "</table>\n",
       "<p>20097 rows × 11 columns</p>\n",
       "</div>"
      ],
      "text/plain": [
       "         Code    q1    q2    q3   q4    q5    q6    q7    q8    q9   q10\n",
       "0          A1  0.50  0.50  0.50  0.5  0.50  0.50  0.50  0.50  0.50  0.50\n",
       "1          A2  1.00  1.00  1.00  1.0  1.00  1.00  1.00  1.00  1.00  1.00\n",
       "2          A3  1.00  1.00  1.00  1.0  1.00  1.00  1.00  1.00  1.00  1.00\n",
       "3          A4  1.00  1.00  1.00  1.0  1.00  1.00  1.00  1.00  1.00  1.00\n",
       "4          A5  1.00  1.00  1.00  1.0  1.00  1.00  1.00  1.00  1.00  1.00\n",
       "...       ...   ...   ...   ...  ...   ...   ...   ...   ...   ...   ...\n",
       "20092  A20093  1.00  0.75  0.75  1.0  1.00  1.00  1.00  1.00  1.00  1.00\n",
       "20093  A20094  1.00  1.00  1.00  1.0  1.00  1.00  1.00  1.00  1.00  1.00\n",
       "20094  A20095  1.00  1.00  1.00  1.0  1.00  1.00  1.00  1.00  1.00  1.00\n",
       "20095  A20096  1.00  1.00  1.00  1.0  1.00  1.00  0.75  0.75  0.75  1.00\n",
       "20096  A20097  0.75  0.75  0.75  1.0  0.75  0.75  0.75  0.75  0.75  0.75\n",
       "\n",
       "[20097 rows x 11 columns]"
      ]
     },
     "execution_count": 46,
     "metadata": {},
     "output_type": "execute_result"
    }
   ],
   "source": [
    "# Select only the numeric columns in df3\n",
    "numeric_cols = df3.select_dtypes(include='number').columns\n",
    "\n",
    "# Divide all numeric columns in df3 by 4\n",
    "df3[numeric_cols] = df3[numeric_cols] / 4\n",
    "\n",
    "df3"
   ]
  },
  {
   "cell_type": "markdown",
   "metadata": {},
   "source": [
    "## Calculate Final Alternative value by adding weight\n",
    "\n",
    "$V_{i}=\\sum_{j=1}^{n} W_{j} R_{ij}$\n",
    "\n",
    "V = Final value  \n",
    "W = Weight value  \n",
    "R = Normalized alternative value  \n",
    "n = Number of data  \n",
    "i = Index alternative  \n",
    "j = Index criteria  "
   ]
  },
  {
   "cell_type": "markdown",
   "metadata": {},
   "source": [
    "$V_1 = (0.5 x 1) + (0.5 x 3) + (0.5 x 2) + (0.5 x 3) + (0.5 x 4) + (0.5 x 4) + (0.5 x 1) + (0.5 x 2) + (0.5 x 5) + (0.5 x 5)$\n",
    "\n",
    "$V_1 = 0.5 + 1.5 + 1 + 1.5 + 2 + 2 + 0.5 + 1 + 2.5 + 2.5$\n",
    "\n",
    "$V_1 = 15$"
   ]
  },
  {
   "cell_type": "code",
   "execution_count": 47,
   "metadata": {},
   "outputs": [
    {
     "name": "stderr",
     "output_type": "stream",
     "text": [
      "C:\\Users\\Administrator\\AppData\\Local\\Temp\\ipykernel_28780\\1810081016.py:8: FutureWarning:\n",
      "\n",
      "Dropping of nuisance columns in DataFrame reductions (with 'numeric_only=None') is deprecated; in a future version this will raise TypeError.  Select only valid columns before calling the reduction.\n",
      "\n"
     ]
    },
    {
     "data": {
      "text/html": [
       "<div>\n",
       "<style scoped>\n",
       "    .dataframe tbody tr th:only-of-type {\n",
       "        vertical-align: middle;\n",
       "    }\n",
       "\n",
       "    .dataframe tbody tr th {\n",
       "        vertical-align: top;\n",
       "    }\n",
       "\n",
       "    .dataframe thead th {\n",
       "        text-align: right;\n",
       "    }\n",
       "</style>\n",
       "<table border=\"1\" class=\"dataframe\">\n",
       "  <thead>\n",
       "    <tr style=\"text-align: right;\">\n",
       "      <th></th>\n",
       "      <th>Code</th>\n",
       "      <th>Total</th>\n",
       "    </tr>\n",
       "  </thead>\n",
       "  <tbody>\n",
       "    <tr>\n",
       "      <th>0</th>\n",
       "      <td>A1</td>\n",
       "      <td>15.00</td>\n",
       "    </tr>\n",
       "    <tr>\n",
       "      <th>1</th>\n",
       "      <td>A2</td>\n",
       "      <td>30.00</td>\n",
       "    </tr>\n",
       "    <tr>\n",
       "      <th>2</th>\n",
       "      <td>A3</td>\n",
       "      <td>30.00</td>\n",
       "    </tr>\n",
       "    <tr>\n",
       "      <th>3</th>\n",
       "      <td>A4</td>\n",
       "      <td>30.00</td>\n",
       "    </tr>\n",
       "    <tr>\n",
       "      <th>4</th>\n",
       "      <td>A5</td>\n",
       "      <td>30.00</td>\n",
       "    </tr>\n",
       "    <tr>\n",
       "      <th>...</th>\n",
       "      <td>...</td>\n",
       "      <td>...</td>\n",
       "    </tr>\n",
       "    <tr>\n",
       "      <th>20092</th>\n",
       "      <td>A20093</td>\n",
       "      <td>28.75</td>\n",
       "    </tr>\n",
       "    <tr>\n",
       "      <th>20093</th>\n",
       "      <td>A20094</td>\n",
       "      <td>30.00</td>\n",
       "    </tr>\n",
       "    <tr>\n",
       "      <th>20094</th>\n",
       "      <td>A20095</td>\n",
       "      <td>30.00</td>\n",
       "    </tr>\n",
       "    <tr>\n",
       "      <th>20095</th>\n",
       "      <td>A20096</td>\n",
       "      <td>28.00</td>\n",
       "    </tr>\n",
       "    <tr>\n",
       "      <th>20096</th>\n",
       "      <td>A20097</td>\n",
       "      <td>23.25</td>\n",
       "    </tr>\n",
       "  </tbody>\n",
       "</table>\n",
       "<p>20097 rows × 2 columns</p>\n",
       "</div>"
      ],
      "text/plain": [
       "         Code  Total\n",
       "0          A1  15.00\n",
       "1          A2  30.00\n",
       "2          A3  30.00\n",
       "3          A4  30.00\n",
       "4          A5  30.00\n",
       "...       ...    ...\n",
       "20092  A20093  28.75\n",
       "20093  A20094  30.00\n",
       "20094  A20095  30.00\n",
       "20095  A20096  28.00\n",
       "20096  A20097  23.25\n",
       "\n",
       "[20097 rows x 2 columns]"
      ]
     },
     "execution_count": 47,
     "metadata": {},
     "output_type": "execute_result"
    }
   ],
   "source": [
    "weights = [1,3,2,3,4,4,1,2,5,5]\n",
    "\n",
    "df4 = df3.copy()\n",
    "\n",
    "for i in range (0,10):\n",
    "    df4[f'q{i+1}'] = df4[f'q{i+1}'] * weights[i]\n",
    "\n",
    "df4['Total'] = df4.sum(axis=1)\n",
    "\n",
    "df4 = df4.drop(['q1','q2','q3','q4','q5','q6','q7','q8','q9','q10'], axis=1)\n",
    "\n",
    "df4"
   ]
  },
  {
   "cell_type": "markdown",
   "metadata": {},
   "source": [
    "## Put total back to main df and group results based on lecturers and class"
   ]
  },
  {
   "cell_type": "code",
   "execution_count": 48,
   "metadata": {},
   "outputs": [
    {
     "data": {
      "text/html": [
       "<div>\n",
       "<style scoped>\n",
       "    .dataframe tbody tr th:only-of-type {\n",
       "        vertical-align: middle;\n",
       "    }\n",
       "\n",
       "    .dataframe tbody tr th {\n",
       "        vertical-align: top;\n",
       "    }\n",
       "\n",
       "    .dataframe thead th {\n",
       "        text-align: right;\n",
       "    }\n",
       "</style>\n",
       "<table border=\"1\" class=\"dataframe\">\n",
       "  <thead>\n",
       "    <tr style=\"text-align: right;\">\n",
       "      <th></th>\n",
       "      <th>dosen</th>\n",
       "      <th>Total</th>\n",
       "    </tr>\n",
       "  </thead>\n",
       "  <tbody>\n",
       "    <tr>\n",
       "      <th>0</th>\n",
       "      <td>Respondent1</td>\n",
       "      <td>15.00</td>\n",
       "    </tr>\n",
       "    <tr>\n",
       "      <th>1</th>\n",
       "      <td>Respondent1</td>\n",
       "      <td>30.00</td>\n",
       "    </tr>\n",
       "    <tr>\n",
       "      <th>2</th>\n",
       "      <td>Respondent1</td>\n",
       "      <td>30.00</td>\n",
       "    </tr>\n",
       "    <tr>\n",
       "      <th>3</th>\n",
       "      <td>Respondent1</td>\n",
       "      <td>30.00</td>\n",
       "    </tr>\n",
       "    <tr>\n",
       "      <th>4</th>\n",
       "      <td>Respondent1</td>\n",
       "      <td>30.00</td>\n",
       "    </tr>\n",
       "    <tr>\n",
       "      <th>...</th>\n",
       "      <td>...</td>\n",
       "      <td>...</td>\n",
       "    </tr>\n",
       "    <tr>\n",
       "      <th>20092</th>\n",
       "      <td>Respondent132</td>\n",
       "      <td>28.75</td>\n",
       "    </tr>\n",
       "    <tr>\n",
       "      <th>20093</th>\n",
       "      <td>Respondent132</td>\n",
       "      <td>30.00</td>\n",
       "    </tr>\n",
       "    <tr>\n",
       "      <th>20094</th>\n",
       "      <td>Respondent133</td>\n",
       "      <td>30.00</td>\n",
       "    </tr>\n",
       "    <tr>\n",
       "      <th>20095</th>\n",
       "      <td>Respondent133</td>\n",
       "      <td>28.00</td>\n",
       "    </tr>\n",
       "    <tr>\n",
       "      <th>20096</th>\n",
       "      <td>Respondent134</td>\n",
       "      <td>23.25</td>\n",
       "    </tr>\n",
       "  </tbody>\n",
       "</table>\n",
       "<p>20097 rows × 2 columns</p>\n",
       "</div>"
      ],
      "text/plain": [
       "               dosen  Total\n",
       "0        Respondent1  15.00\n",
       "1        Respondent1  30.00\n",
       "2        Respondent1  30.00\n",
       "3        Respondent1  30.00\n",
       "4        Respondent1  30.00\n",
       "...              ...    ...\n",
       "20092  Respondent132  28.75\n",
       "20093  Respondent132  30.00\n",
       "20094  Respondent133  30.00\n",
       "20095  Respondent133  28.00\n",
       "20096  Respondent134  23.25\n",
       "\n",
       "[20097 rows x 2 columns]"
      ]
     },
     "execution_count": 48,
     "metadata": {},
     "output_type": "execute_result"
    }
   ],
   "source": [
    "df5 = df.copy()\n",
    "df5['Total'] = df4['Total']\n",
    "df5 = df5.drop(['ta', 'nim', 'kdmk', 'nmmk', 'q1','q2','q3','q4','q5','q6','q7','q8','q9','q10','saran'], axis=1)\n",
    "df5"
   ]
  },
  {
   "cell_type": "code",
   "execution_count": 49,
   "metadata": {},
   "outputs": [],
   "source": [
    "# lecturer name\n",
    "df6 = df5.groupby(['dosen']).sum().iloc[:, 1:].reset_index()\n",
    "\n",
    "# total score\n",
    "df7 = df5.groupby(['dosen']).sum().reset_index()\n",
    "\n",
    "# student count\n",
    "df8 = df5.groupby(['dosen']).count().reset_index()"
   ]
  },
  {
   "cell_type": "code",
   "execution_count": 50,
   "metadata": {},
   "outputs": [
    {
     "data": {
      "text/html": [
       "<div>\n",
       "<style scoped>\n",
       "    .dataframe tbody tr th:only-of-type {\n",
       "        vertical-align: middle;\n",
       "    }\n",
       "\n",
       "    .dataframe tbody tr th {\n",
       "        vertical-align: top;\n",
       "    }\n",
       "\n",
       "    .dataframe thead th {\n",
       "        text-align: right;\n",
       "    }\n",
       "</style>\n",
       "<table border=\"1\" class=\"dataframe\">\n",
       "  <thead>\n",
       "    <tr style=\"text-align: right;\">\n",
       "      <th></th>\n",
       "      <th>Lecturer</th>\n",
       "      <th>TotalScore</th>\n",
       "      <th>StudentCount</th>\n",
       "    </tr>\n",
       "  </thead>\n",
       "  <tbody>\n",
       "    <tr>\n",
       "      <th>0</th>\n",
       "      <td>Respondent1</td>\n",
       "      <td>2302.75</td>\n",
       "      <td>81</td>\n",
       "    </tr>\n",
       "    <tr>\n",
       "      <th>1</th>\n",
       "      <td>Respondent10</td>\n",
       "      <td>4593.25</td>\n",
       "      <td>173</td>\n",
       "    </tr>\n",
       "    <tr>\n",
       "      <th>2</th>\n",
       "      <td>Respondent100</td>\n",
       "      <td>12141.75</td>\n",
       "      <td>438</td>\n",
       "    </tr>\n",
       "    <tr>\n",
       "      <th>3</th>\n",
       "      <td>Respondent101</td>\n",
       "      <td>8720.50</td>\n",
       "      <td>318</td>\n",
       "    </tr>\n",
       "    <tr>\n",
       "      <th>4</th>\n",
       "      <td>Respondent102</td>\n",
       "      <td>268.25</td>\n",
       "      <td>10</td>\n",
       "    </tr>\n",
       "    <tr>\n",
       "      <th>...</th>\n",
       "      <td>...</td>\n",
       "      <td>...</td>\n",
       "      <td>...</td>\n",
       "    </tr>\n",
       "    <tr>\n",
       "      <th>129</th>\n",
       "      <td>Respondent95</td>\n",
       "      <td>7058.75</td>\n",
       "      <td>270</td>\n",
       "    </tr>\n",
       "    <tr>\n",
       "      <th>130</th>\n",
       "      <td>Respondent96</td>\n",
       "      <td>183.50</td>\n",
       "      <td>7</td>\n",
       "    </tr>\n",
       "    <tr>\n",
       "      <th>131</th>\n",
       "      <td>Respondent97</td>\n",
       "      <td>6175.50</td>\n",
       "      <td>233</td>\n",
       "    </tr>\n",
       "    <tr>\n",
       "      <th>132</th>\n",
       "      <td>Respondent98</td>\n",
       "      <td>5445.75</td>\n",
       "      <td>197</td>\n",
       "    </tr>\n",
       "    <tr>\n",
       "      <th>133</th>\n",
       "      <td>Respondent99</td>\n",
       "      <td>60.00</td>\n",
       "      <td>2</td>\n",
       "    </tr>\n",
       "  </tbody>\n",
       "</table>\n",
       "<p>134 rows × 3 columns</p>\n",
       "</div>"
      ],
      "text/plain": [
       "          Lecturer  TotalScore  StudentCount\n",
       "0      Respondent1     2302.75            81\n",
       "1     Respondent10     4593.25           173\n",
       "2    Respondent100    12141.75           438\n",
       "3    Respondent101     8720.50           318\n",
       "4    Respondent102      268.25            10\n",
       "..             ...         ...           ...\n",
       "129   Respondent95     7058.75           270\n",
       "130   Respondent96      183.50             7\n",
       "131   Respondent97     6175.50           233\n",
       "132   Respondent98     5445.75           197\n",
       "133   Respondent99       60.00             2\n",
       "\n",
       "[134 rows x 3 columns]"
      ]
     },
     "execution_count": 50,
     "metadata": {},
     "output_type": "execute_result"
    }
   ],
   "source": [
    "# combine df6 and df7\n",
    "df9 = pd.DataFrame()\n",
    "\n",
    "df9['Lecturer'] = df6['dosen']\n",
    "df9['TotalScore'] = df7['Total']\n",
    "df9['StudentCount'] = df8['Total']\n",
    "\n",
    "df9"
   ]
  },
  {
   "cell_type": "code",
   "execution_count": 51,
   "metadata": {},
   "outputs": [
    {
     "data": {
      "text/html": [
       "<div>\n",
       "<style scoped>\n",
       "    .dataframe tbody tr th:only-of-type {\n",
       "        vertical-align: middle;\n",
       "    }\n",
       "\n",
       "    .dataframe tbody tr th {\n",
       "        vertical-align: top;\n",
       "    }\n",
       "\n",
       "    .dataframe thead th {\n",
       "        text-align: right;\n",
       "    }\n",
       "</style>\n",
       "<table border=\"1\" class=\"dataframe\">\n",
       "  <thead>\n",
       "    <tr style=\"text-align: right;\">\n",
       "      <th></th>\n",
       "      <th>Lecturer</th>\n",
       "      <th>TotalScore</th>\n",
       "      <th>StudentCount</th>\n",
       "      <th>NormalizedValue</th>\n",
       "    </tr>\n",
       "  </thead>\n",
       "  <tbody>\n",
       "    <tr>\n",
       "      <th>0</th>\n",
       "      <td>Respondent1</td>\n",
       "      <td>2302.75</td>\n",
       "      <td>81</td>\n",
       "      <td>28.43</td>\n",
       "    </tr>\n",
       "    <tr>\n",
       "      <th>1</th>\n",
       "      <td>Respondent10</td>\n",
       "      <td>4593.25</td>\n",
       "      <td>173</td>\n",
       "      <td>26.55</td>\n",
       "    </tr>\n",
       "    <tr>\n",
       "      <th>2</th>\n",
       "      <td>Respondent100</td>\n",
       "      <td>12141.75</td>\n",
       "      <td>438</td>\n",
       "      <td>27.72</td>\n",
       "    </tr>\n",
       "    <tr>\n",
       "      <th>3</th>\n",
       "      <td>Respondent101</td>\n",
       "      <td>8720.50</td>\n",
       "      <td>318</td>\n",
       "      <td>27.42</td>\n",
       "    </tr>\n",
       "    <tr>\n",
       "      <th>4</th>\n",
       "      <td>Respondent102</td>\n",
       "      <td>268.25</td>\n",
       "      <td>10</td>\n",
       "      <td>26.82</td>\n",
       "    </tr>\n",
       "    <tr>\n",
       "      <th>...</th>\n",
       "      <td>...</td>\n",
       "      <td>...</td>\n",
       "      <td>...</td>\n",
       "      <td>...</td>\n",
       "    </tr>\n",
       "    <tr>\n",
       "      <th>129</th>\n",
       "      <td>Respondent95</td>\n",
       "      <td>7058.75</td>\n",
       "      <td>270</td>\n",
       "      <td>26.14</td>\n",
       "    </tr>\n",
       "    <tr>\n",
       "      <th>130</th>\n",
       "      <td>Respondent96</td>\n",
       "      <td>183.50</td>\n",
       "      <td>7</td>\n",
       "      <td>26.21</td>\n",
       "    </tr>\n",
       "    <tr>\n",
       "      <th>131</th>\n",
       "      <td>Respondent97</td>\n",
       "      <td>6175.50</td>\n",
       "      <td>233</td>\n",
       "      <td>26.50</td>\n",
       "    </tr>\n",
       "    <tr>\n",
       "      <th>132</th>\n",
       "      <td>Respondent98</td>\n",
       "      <td>5445.75</td>\n",
       "      <td>197</td>\n",
       "      <td>27.64</td>\n",
       "    </tr>\n",
       "    <tr>\n",
       "      <th>133</th>\n",
       "      <td>Respondent99</td>\n",
       "      <td>60.00</td>\n",
       "      <td>2</td>\n",
       "      <td>30.00</td>\n",
       "    </tr>\n",
       "  </tbody>\n",
       "</table>\n",
       "<p>134 rows × 4 columns</p>\n",
       "</div>"
      ],
      "text/plain": [
       "          Lecturer  TotalScore  StudentCount  NormalizedValue\n",
       "0      Respondent1     2302.75            81            28.43\n",
       "1     Respondent10     4593.25           173            26.55\n",
       "2    Respondent100    12141.75           438            27.72\n",
       "3    Respondent101     8720.50           318            27.42\n",
       "4    Respondent102      268.25            10            26.82\n",
       "..             ...         ...           ...              ...\n",
       "129   Respondent95     7058.75           270            26.14\n",
       "130   Respondent96      183.50             7            26.21\n",
       "131   Respondent97     6175.50           233            26.50\n",
       "132   Respondent98     5445.75           197            27.64\n",
       "133   Respondent99       60.00             2            30.00\n",
       "\n",
       "[134 rows x 4 columns]"
      ]
     },
     "execution_count": 51,
     "metadata": {},
     "output_type": "execute_result"
    }
   ],
   "source": [
    "df10 = df9.copy()\n",
    "df10['NormalizedValue'] = round(df10['TotalScore'] / df10['StudentCount'],2)\n",
    "df10"
   ]
  },
  {
   "cell_type": "code",
   "execution_count": 52,
   "metadata": {},
   "outputs": [
    {
     "data": {
      "text/plain": [
       "Lecturer            object\n",
       "TotalScore         float64\n",
       "StudentCount         int64\n",
       "NormalizedValue    float64\n",
       "dtype: object"
      ]
     },
     "execution_count": 52,
     "metadata": {},
     "output_type": "execute_result"
    }
   ],
   "source": [
    "# check data type of normalized value\n",
    "df10.dtypes"
   ]
  },
  {
   "cell_type": "code",
   "execution_count": 53,
   "metadata": {},
   "outputs": [
    {
     "data": {
      "application/vnd.plotly.v1+json": {
       "config": {
        "plotlyServerURL": "https://plot.ly"
       },
       "data": [
        {
         "alignmentgroup": "True",
         "boxpoints": "all",
         "hovertemplate": "NormalizedValue=%{x}<extra></extra>",
         "legendgroup": "",
         "marker": {
          "color": "#636efa"
         },
         "name": "",
         "notched": false,
         "offsetgroup": "",
         "orientation": "h",
         "showlegend": false,
         "type": "box",
         "x": [
          28.43,
          26.55,
          27.72,
          27.42,
          26.82,
          26.75,
          25.47,
          27.2,
          25.81,
          27.73,
          27.75,
          27.33,
          26.34,
          27.08,
          26.52,
          27.66,
          25.88,
          26.62,
          27.1,
          24.62,
          26.91,
          25.19,
          26.56,
          26.17,
          27.83,
          27.18,
          28.98,
          26.37,
          27.5,
          27.37,
          27.81,
          27.92,
          28.94,
          28.31,
          27.25,
          28.96,
          24.5,
          28.69,
          29,
          23.25,
          27.07,
          26.11,
          26.01,
          26,
          26.7,
          26.69,
          26.16,
          26.09,
          26.6,
          26.88,
          27.06,
          27.53,
          26.83,
          29.39,
          27.27,
          27.65,
          27.6,
          25.77,
          26.82,
          26.93,
          27.41,
          26.24,
          27.74,
          26.28,
          26.96,
          26.6,
          27.36,
          26.7,
          27.03,
          27.17,
          26.33,
          26.51,
          30,
          26.48,
          26.85,
          26.68,
          26.24,
          27.18,
          30,
          25.69,
          24.47,
          27.94,
          26.5,
          27.24,
          25.8,
          24.47,
          25.3,
          27.15,
          27.54,
          26.78,
          26.69,
          26.27,
          27.1,
          30,
          30,
          27.54,
          27.46,
          26.38,
          26.64,
          26.36,
          25.44,
          26.42,
          25.32,
          29.44,
          28.26,
          27.04,
          26.66,
          27.16,
          22.5,
          27.22,
          25.84,
          26.85,
          26.01,
          26.91,
          30,
          25.96,
          26.51,
          27.39,
          26.17,
          24.85,
          26.38,
          27.04,
          27.5,
          25.7,
          27.52,
          27.05,
          27.39,
          27.67,
          27.22,
          26.14,
          26.21,
          26.5,
          27.64,
          30
         ],
         "x0": " ",
         "xaxis": "x",
         "y0": " ",
         "yaxis": "y"
        }
       ],
       "layout": {
        "boxmode": "group",
        "legend": {
         "tracegroupgap": 0
        },
        "margin": {
         "t": 60
        },
        "template": {
         "data": {
          "bar": [
           {
            "error_x": {
             "color": "#2a3f5f"
            },
            "error_y": {
             "color": "#2a3f5f"
            },
            "marker": {
             "line": {
              "color": "#E5ECF6",
              "width": 0.5
             },
             "pattern": {
              "fillmode": "overlay",
              "size": 10,
              "solidity": 0.2
             }
            },
            "type": "bar"
           }
          ],
          "barpolar": [
           {
            "marker": {
             "line": {
              "color": "#E5ECF6",
              "width": 0.5
             },
             "pattern": {
              "fillmode": "overlay",
              "size": 10,
              "solidity": 0.2
             }
            },
            "type": "barpolar"
           }
          ],
          "carpet": [
           {
            "aaxis": {
             "endlinecolor": "#2a3f5f",
             "gridcolor": "white",
             "linecolor": "white",
             "minorgridcolor": "white",
             "startlinecolor": "#2a3f5f"
            },
            "baxis": {
             "endlinecolor": "#2a3f5f",
             "gridcolor": "white",
             "linecolor": "white",
             "minorgridcolor": "white",
             "startlinecolor": "#2a3f5f"
            },
            "type": "carpet"
           }
          ],
          "choropleth": [
           {
            "colorbar": {
             "outlinewidth": 0,
             "ticks": ""
            },
            "type": "choropleth"
           }
          ],
          "contour": [
           {
            "colorbar": {
             "outlinewidth": 0,
             "ticks": ""
            },
            "colorscale": [
             [
              0,
              "#0d0887"
             ],
             [
              0.1111111111111111,
              "#46039f"
             ],
             [
              0.2222222222222222,
              "#7201a8"
             ],
             [
              0.3333333333333333,
              "#9c179e"
             ],
             [
              0.4444444444444444,
              "#bd3786"
             ],
             [
              0.5555555555555556,
              "#d8576b"
             ],
             [
              0.6666666666666666,
              "#ed7953"
             ],
             [
              0.7777777777777778,
              "#fb9f3a"
             ],
             [
              0.8888888888888888,
              "#fdca26"
             ],
             [
              1,
              "#f0f921"
             ]
            ],
            "type": "contour"
           }
          ],
          "contourcarpet": [
           {
            "colorbar": {
             "outlinewidth": 0,
             "ticks": ""
            },
            "type": "contourcarpet"
           }
          ],
          "heatmap": [
           {
            "colorbar": {
             "outlinewidth": 0,
             "ticks": ""
            },
            "colorscale": [
             [
              0,
              "#0d0887"
             ],
             [
              0.1111111111111111,
              "#46039f"
             ],
             [
              0.2222222222222222,
              "#7201a8"
             ],
             [
              0.3333333333333333,
              "#9c179e"
             ],
             [
              0.4444444444444444,
              "#bd3786"
             ],
             [
              0.5555555555555556,
              "#d8576b"
             ],
             [
              0.6666666666666666,
              "#ed7953"
             ],
             [
              0.7777777777777778,
              "#fb9f3a"
             ],
             [
              0.8888888888888888,
              "#fdca26"
             ],
             [
              1,
              "#f0f921"
             ]
            ],
            "type": "heatmap"
           }
          ],
          "heatmapgl": [
           {
            "colorbar": {
             "outlinewidth": 0,
             "ticks": ""
            },
            "colorscale": [
             [
              0,
              "#0d0887"
             ],
             [
              0.1111111111111111,
              "#46039f"
             ],
             [
              0.2222222222222222,
              "#7201a8"
             ],
             [
              0.3333333333333333,
              "#9c179e"
             ],
             [
              0.4444444444444444,
              "#bd3786"
             ],
             [
              0.5555555555555556,
              "#d8576b"
             ],
             [
              0.6666666666666666,
              "#ed7953"
             ],
             [
              0.7777777777777778,
              "#fb9f3a"
             ],
             [
              0.8888888888888888,
              "#fdca26"
             ],
             [
              1,
              "#f0f921"
             ]
            ],
            "type": "heatmapgl"
           }
          ],
          "histogram": [
           {
            "marker": {
             "pattern": {
              "fillmode": "overlay",
              "size": 10,
              "solidity": 0.2
             }
            },
            "type": "histogram"
           }
          ],
          "histogram2d": [
           {
            "colorbar": {
             "outlinewidth": 0,
             "ticks": ""
            },
            "colorscale": [
             [
              0,
              "#0d0887"
             ],
             [
              0.1111111111111111,
              "#46039f"
             ],
             [
              0.2222222222222222,
              "#7201a8"
             ],
             [
              0.3333333333333333,
              "#9c179e"
             ],
             [
              0.4444444444444444,
              "#bd3786"
             ],
             [
              0.5555555555555556,
              "#d8576b"
             ],
             [
              0.6666666666666666,
              "#ed7953"
             ],
             [
              0.7777777777777778,
              "#fb9f3a"
             ],
             [
              0.8888888888888888,
              "#fdca26"
             ],
             [
              1,
              "#f0f921"
             ]
            ],
            "type": "histogram2d"
           }
          ],
          "histogram2dcontour": [
           {
            "colorbar": {
             "outlinewidth": 0,
             "ticks": ""
            },
            "colorscale": [
             [
              0,
              "#0d0887"
             ],
             [
              0.1111111111111111,
              "#46039f"
             ],
             [
              0.2222222222222222,
              "#7201a8"
             ],
             [
              0.3333333333333333,
              "#9c179e"
             ],
             [
              0.4444444444444444,
              "#bd3786"
             ],
             [
              0.5555555555555556,
              "#d8576b"
             ],
             [
              0.6666666666666666,
              "#ed7953"
             ],
             [
              0.7777777777777778,
              "#fb9f3a"
             ],
             [
              0.8888888888888888,
              "#fdca26"
             ],
             [
              1,
              "#f0f921"
             ]
            ],
            "type": "histogram2dcontour"
           }
          ],
          "mesh3d": [
           {
            "colorbar": {
             "outlinewidth": 0,
             "ticks": ""
            },
            "type": "mesh3d"
           }
          ],
          "parcoords": [
           {
            "line": {
             "colorbar": {
              "outlinewidth": 0,
              "ticks": ""
             }
            },
            "type": "parcoords"
           }
          ],
          "pie": [
           {
            "automargin": true,
            "type": "pie"
           }
          ],
          "scatter": [
           {
            "fillpattern": {
             "fillmode": "overlay",
             "size": 10,
             "solidity": 0.2
            },
            "type": "scatter"
           }
          ],
          "scatter3d": [
           {
            "line": {
             "colorbar": {
              "outlinewidth": 0,
              "ticks": ""
             }
            },
            "marker": {
             "colorbar": {
              "outlinewidth": 0,
              "ticks": ""
             }
            },
            "type": "scatter3d"
           }
          ],
          "scattercarpet": [
           {
            "marker": {
             "colorbar": {
              "outlinewidth": 0,
              "ticks": ""
             }
            },
            "type": "scattercarpet"
           }
          ],
          "scattergeo": [
           {
            "marker": {
             "colorbar": {
              "outlinewidth": 0,
              "ticks": ""
             }
            },
            "type": "scattergeo"
           }
          ],
          "scattergl": [
           {
            "marker": {
             "colorbar": {
              "outlinewidth": 0,
              "ticks": ""
             }
            },
            "type": "scattergl"
           }
          ],
          "scattermapbox": [
           {
            "marker": {
             "colorbar": {
              "outlinewidth": 0,
              "ticks": ""
             }
            },
            "type": "scattermapbox"
           }
          ],
          "scatterpolar": [
           {
            "marker": {
             "colorbar": {
              "outlinewidth": 0,
              "ticks": ""
             }
            },
            "type": "scatterpolar"
           }
          ],
          "scatterpolargl": [
           {
            "marker": {
             "colorbar": {
              "outlinewidth": 0,
              "ticks": ""
             }
            },
            "type": "scatterpolargl"
           }
          ],
          "scatterternary": [
           {
            "marker": {
             "colorbar": {
              "outlinewidth": 0,
              "ticks": ""
             }
            },
            "type": "scatterternary"
           }
          ],
          "surface": [
           {
            "colorbar": {
             "outlinewidth": 0,
             "ticks": ""
            },
            "colorscale": [
             [
              0,
              "#0d0887"
             ],
             [
              0.1111111111111111,
              "#46039f"
             ],
             [
              0.2222222222222222,
              "#7201a8"
             ],
             [
              0.3333333333333333,
              "#9c179e"
             ],
             [
              0.4444444444444444,
              "#bd3786"
             ],
             [
              0.5555555555555556,
              "#d8576b"
             ],
             [
              0.6666666666666666,
              "#ed7953"
             ],
             [
              0.7777777777777778,
              "#fb9f3a"
             ],
             [
              0.8888888888888888,
              "#fdca26"
             ],
             [
              1,
              "#f0f921"
             ]
            ],
            "type": "surface"
           }
          ],
          "table": [
           {
            "cells": {
             "fill": {
              "color": "#EBF0F8"
             },
             "line": {
              "color": "white"
             }
            },
            "header": {
             "fill": {
              "color": "#C8D4E3"
             },
             "line": {
              "color": "white"
             }
            },
            "type": "table"
           }
          ]
         },
         "layout": {
          "annotationdefaults": {
           "arrowcolor": "#2a3f5f",
           "arrowhead": 0,
           "arrowwidth": 1
          },
          "autotypenumbers": "strict",
          "coloraxis": {
           "colorbar": {
            "outlinewidth": 0,
            "ticks": ""
           }
          },
          "colorscale": {
           "diverging": [
            [
             0,
             "#8e0152"
            ],
            [
             0.1,
             "#c51b7d"
            ],
            [
             0.2,
             "#de77ae"
            ],
            [
             0.3,
             "#f1b6da"
            ],
            [
             0.4,
             "#fde0ef"
            ],
            [
             0.5,
             "#f7f7f7"
            ],
            [
             0.6,
             "#e6f5d0"
            ],
            [
             0.7,
             "#b8e186"
            ],
            [
             0.8,
             "#7fbc41"
            ],
            [
             0.9,
             "#4d9221"
            ],
            [
             1,
             "#276419"
            ]
           ],
           "sequential": [
            [
             0,
             "#0d0887"
            ],
            [
             0.1111111111111111,
             "#46039f"
            ],
            [
             0.2222222222222222,
             "#7201a8"
            ],
            [
             0.3333333333333333,
             "#9c179e"
            ],
            [
             0.4444444444444444,
             "#bd3786"
            ],
            [
             0.5555555555555556,
             "#d8576b"
            ],
            [
             0.6666666666666666,
             "#ed7953"
            ],
            [
             0.7777777777777778,
             "#fb9f3a"
            ],
            [
             0.8888888888888888,
             "#fdca26"
            ],
            [
             1,
             "#f0f921"
            ]
           ],
           "sequentialminus": [
            [
             0,
             "#0d0887"
            ],
            [
             0.1111111111111111,
             "#46039f"
            ],
            [
             0.2222222222222222,
             "#7201a8"
            ],
            [
             0.3333333333333333,
             "#9c179e"
            ],
            [
             0.4444444444444444,
             "#bd3786"
            ],
            [
             0.5555555555555556,
             "#d8576b"
            ],
            [
             0.6666666666666666,
             "#ed7953"
            ],
            [
             0.7777777777777778,
             "#fb9f3a"
            ],
            [
             0.8888888888888888,
             "#fdca26"
            ],
            [
             1,
             "#f0f921"
            ]
           ]
          },
          "colorway": [
           "#636efa",
           "#EF553B",
           "#00cc96",
           "#ab63fa",
           "#FFA15A",
           "#19d3f3",
           "#FF6692",
           "#B6E880",
           "#FF97FF",
           "#FECB52"
          ],
          "font": {
           "color": "#2a3f5f"
          },
          "geo": {
           "bgcolor": "white",
           "lakecolor": "white",
           "landcolor": "#E5ECF6",
           "showlakes": true,
           "showland": true,
           "subunitcolor": "white"
          },
          "hoverlabel": {
           "align": "left"
          },
          "hovermode": "closest",
          "mapbox": {
           "style": "light"
          },
          "paper_bgcolor": "white",
          "plot_bgcolor": "#E5ECF6",
          "polar": {
           "angularaxis": {
            "gridcolor": "white",
            "linecolor": "white",
            "ticks": ""
           },
           "bgcolor": "#E5ECF6",
           "radialaxis": {
            "gridcolor": "white",
            "linecolor": "white",
            "ticks": ""
           }
          },
          "scene": {
           "xaxis": {
            "backgroundcolor": "#E5ECF6",
            "gridcolor": "white",
            "gridwidth": 2,
            "linecolor": "white",
            "showbackground": true,
            "ticks": "",
            "zerolinecolor": "white"
           },
           "yaxis": {
            "backgroundcolor": "#E5ECF6",
            "gridcolor": "white",
            "gridwidth": 2,
            "linecolor": "white",
            "showbackground": true,
            "ticks": "",
            "zerolinecolor": "white"
           },
           "zaxis": {
            "backgroundcolor": "#E5ECF6",
            "gridcolor": "white",
            "gridwidth": 2,
            "linecolor": "white",
            "showbackground": true,
            "ticks": "",
            "zerolinecolor": "white"
           }
          },
          "shapedefaults": {
           "line": {
            "color": "#2a3f5f"
           }
          },
          "ternary": {
           "aaxis": {
            "gridcolor": "white",
            "linecolor": "white",
            "ticks": ""
           },
           "baxis": {
            "gridcolor": "white",
            "linecolor": "white",
            "ticks": ""
           },
           "bgcolor": "#E5ECF6",
           "caxis": {
            "gridcolor": "white",
            "linecolor": "white",
            "ticks": ""
           }
          },
          "title": {
           "x": 0.05
          },
          "xaxis": {
           "automargin": true,
           "gridcolor": "white",
           "linecolor": "white",
           "ticks": "",
           "title": {
            "standoff": 15
           },
           "zerolinecolor": "white",
           "zerolinewidth": 2
          },
          "yaxis": {
           "automargin": true,
           "gridcolor": "white",
           "linecolor": "white",
           "ticks": "",
           "title": {
            "standoff": 15
           },
           "zerolinecolor": "white",
           "zerolinewidth": 2
          }
         }
        },
        "xaxis": {
         "anchor": "y",
         "domain": [
          0,
          1
         ],
         "title": {
          "text": "NormalizedValue"
         }
        },
        "yaxis": {
         "anchor": "x",
         "domain": [
          0,
          1
         ]
        }
       }
      }
     },
     "metadata": {},
     "output_type": "display_data"
    }
   ],
   "source": [
    "import plotly.express as px\n",
    "\n",
    "# graph box plot for normalized value\n",
    "fig = px.box(df10, x=\"NormalizedValue\", points=\"all\")\n",
    "fig.show()"
   ]
  },
  {
   "cell_type": "code",
   "execution_count": 54,
   "metadata": {},
   "outputs": [
    {
     "data": {
      "application/vnd.plotly.v1+json": {
       "config": {
        "plotlyServerURL": "https://plot.ly"
       },
       "data": [
        {
         "hovertemplate": "Lecturer=Respondent1<br>NormalizedValue=%{x}<br>StudentCount=%{y}<extra></extra>",
         "legendgroup": "Respondent1",
         "marker": {
          "color": "#636efa",
          "symbol": "circle"
         },
         "mode": "markers",
         "name": "Respondent1",
         "orientation": "v",
         "showlegend": true,
         "type": "scatter",
         "x": [
          28.43
         ],
         "xaxis": "x",
         "y": [
          81
         ],
         "yaxis": "y"
        },
        {
         "hovertemplate": "Lecturer=Respondent10<br>NormalizedValue=%{x}<br>StudentCount=%{y}<extra></extra>",
         "legendgroup": "Respondent10",
         "marker": {
          "color": "#EF553B",
          "symbol": "circle"
         },
         "mode": "markers",
         "name": "Respondent10",
         "orientation": "v",
         "showlegend": true,
         "type": "scatter",
         "x": [
          26.55
         ],
         "xaxis": "x",
         "y": [
          173
         ],
         "yaxis": "y"
        },
        {
         "hovertemplate": "Lecturer=Respondent100<br>NormalizedValue=%{x}<br>StudentCount=%{y}<extra></extra>",
         "legendgroup": "Respondent100",
         "marker": {
          "color": "#00cc96",
          "symbol": "circle"
         },
         "mode": "markers",
         "name": "Respondent100",
         "orientation": "v",
         "showlegend": true,
         "type": "scatter",
         "x": [
          27.72
         ],
         "xaxis": "x",
         "y": [
          438
         ],
         "yaxis": "y"
        },
        {
         "hovertemplate": "Lecturer=Respondent101<br>NormalizedValue=%{x}<br>StudentCount=%{y}<extra></extra>",
         "legendgroup": "Respondent101",
         "marker": {
          "color": "#ab63fa",
          "symbol": "circle"
         },
         "mode": "markers",
         "name": "Respondent101",
         "orientation": "v",
         "showlegend": true,
         "type": "scatter",
         "x": [
          27.42
         ],
         "xaxis": "x",
         "y": [
          318
         ],
         "yaxis": "y"
        },
        {
         "hovertemplate": "Lecturer=Respondent102<br>NormalizedValue=%{x}<br>StudentCount=%{y}<extra></extra>",
         "legendgroup": "Respondent102",
         "marker": {
          "color": "#FFA15A",
          "symbol": "circle"
         },
         "mode": "markers",
         "name": "Respondent102",
         "orientation": "v",
         "showlegend": true,
         "type": "scatter",
         "x": [
          26.82
         ],
         "xaxis": "x",
         "y": [
          10
         ],
         "yaxis": "y"
        },
        {
         "hovertemplate": "Lecturer=Respondent103<br>NormalizedValue=%{x}<br>StudentCount=%{y}<extra></extra>",
         "legendgroup": "Respondent103",
         "marker": {
          "color": "#19d3f3",
          "symbol": "circle"
         },
         "mode": "markers",
         "name": "Respondent103",
         "orientation": "v",
         "showlegend": true,
         "type": "scatter",
         "x": [
          26.75
         ],
         "xaxis": "x",
         "y": [
          75
         ],
         "yaxis": "y"
        },
        {
         "hovertemplate": "Lecturer=Respondent104<br>NormalizedValue=%{x}<br>StudentCount=%{y}<extra></extra>",
         "legendgroup": "Respondent104",
         "marker": {
          "color": "#FF6692",
          "symbol": "circle"
         },
         "mode": "markers",
         "name": "Respondent104",
         "orientation": "v",
         "showlegend": true,
         "type": "scatter",
         "x": [
          25.47
         ],
         "xaxis": "x",
         "y": [
          69
         ],
         "yaxis": "y"
        },
        {
         "hovertemplate": "Lecturer=Respondent105<br>NormalizedValue=%{x}<br>StudentCount=%{y}<extra></extra>",
         "legendgroup": "Respondent105",
         "marker": {
          "color": "#B6E880",
          "symbol": "circle"
         },
         "mode": "markers",
         "name": "Respondent105",
         "orientation": "v",
         "showlegend": true,
         "type": "scatter",
         "x": [
          27.2
         ],
         "xaxis": "x",
         "y": [
          273
         ],
         "yaxis": "y"
        },
        {
         "hovertemplate": "Lecturer=Respondent106<br>NormalizedValue=%{x}<br>StudentCount=%{y}<extra></extra>",
         "legendgroup": "Respondent106",
         "marker": {
          "color": "#FF97FF",
          "symbol": "circle"
         },
         "mode": "markers",
         "name": "Respondent106",
         "orientation": "v",
         "showlegend": true,
         "type": "scatter",
         "x": [
          25.81
         ],
         "xaxis": "x",
         "y": [
          260
         ],
         "yaxis": "y"
        },
        {
         "hovertemplate": "Lecturer=Respondent107<br>NormalizedValue=%{x}<br>StudentCount=%{y}<extra></extra>",
         "legendgroup": "Respondent107",
         "marker": {
          "color": "#FECB52",
          "symbol": "circle"
         },
         "mode": "markers",
         "name": "Respondent107",
         "orientation": "v",
         "showlegend": true,
         "type": "scatter",
         "x": [
          27.73
         ],
         "xaxis": "x",
         "y": [
          180
         ],
         "yaxis": "y"
        },
        {
         "hovertemplate": "Lecturer=Respondent108<br>NormalizedValue=%{x}<br>StudentCount=%{y}<extra></extra>",
         "legendgroup": "Respondent108",
         "marker": {
          "color": "#636efa",
          "symbol": "circle"
         },
         "mode": "markers",
         "name": "Respondent108",
         "orientation": "v",
         "showlegend": true,
         "type": "scatter",
         "x": [
          27.75
         ],
         "xaxis": "x",
         "y": [
          10
         ],
         "yaxis": "y"
        },
        {
         "hovertemplate": "Lecturer=Respondent109<br>NormalizedValue=%{x}<br>StudentCount=%{y}<extra></extra>",
         "legendgroup": "Respondent109",
         "marker": {
          "color": "#EF553B",
          "symbol": "circle"
         },
         "mode": "markers",
         "name": "Respondent109",
         "orientation": "v",
         "showlegend": true,
         "type": "scatter",
         "x": [
          27.33
         ],
         "xaxis": "x",
         "y": [
          6
         ],
         "yaxis": "y"
        },
        {
         "hovertemplate": "Lecturer=Respondent11<br>NormalizedValue=%{x}<br>StudentCount=%{y}<extra></extra>",
         "legendgroup": "Respondent11",
         "marker": {
          "color": "#00cc96",
          "symbol": "circle"
         },
         "mode": "markers",
         "name": "Respondent11",
         "orientation": "v",
         "showlegend": true,
         "type": "scatter",
         "x": [
          26.34
         ],
         "xaxis": "x",
         "y": [
          298
         ],
         "yaxis": "y"
        },
        {
         "hovertemplate": "Lecturer=Respondent110<br>NormalizedValue=%{x}<br>StudentCount=%{y}<extra></extra>",
         "legendgroup": "Respondent110",
         "marker": {
          "color": "#ab63fa",
          "symbol": "circle"
         },
         "mode": "markers",
         "name": "Respondent110",
         "orientation": "v",
         "showlegend": true,
         "type": "scatter",
         "x": [
          27.08
         ],
         "xaxis": "x",
         "y": [
          188
         ],
         "yaxis": "y"
        },
        {
         "hovertemplate": "Lecturer=Respondent111<br>NormalizedValue=%{x}<br>StudentCount=%{y}<extra></extra>",
         "legendgroup": "Respondent111",
         "marker": {
          "color": "#FFA15A",
          "symbol": "circle"
         },
         "mode": "markers",
         "name": "Respondent111",
         "orientation": "v",
         "showlegend": true,
         "type": "scatter",
         "x": [
          26.52
         ],
         "xaxis": "x",
         "y": [
          218
         ],
         "yaxis": "y"
        },
        {
         "hovertemplate": "Lecturer=Respondent112<br>NormalizedValue=%{x}<br>StudentCount=%{y}<extra></extra>",
         "legendgroup": "Respondent112",
         "marker": {
          "color": "#19d3f3",
          "symbol": "circle"
         },
         "mode": "markers",
         "name": "Respondent112",
         "orientation": "v",
         "showlegend": true,
         "type": "scatter",
         "x": [
          27.66
         ],
         "xaxis": "x",
         "y": [
          222
         ],
         "yaxis": "y"
        },
        {
         "hovertemplate": "Lecturer=Respondent113<br>NormalizedValue=%{x}<br>StudentCount=%{y}<extra></extra>",
         "legendgroup": "Respondent113",
         "marker": {
          "color": "#FF6692",
          "symbol": "circle"
         },
         "mode": "markers",
         "name": "Respondent113",
         "orientation": "v",
         "showlegend": true,
         "type": "scatter",
         "x": [
          25.88
         ],
         "xaxis": "x",
         "y": [
          6
         ],
         "yaxis": "y"
        },
        {
         "hovertemplate": "Lecturer=Respondent114<br>NormalizedValue=%{x}<br>StudentCount=%{y}<extra></extra>",
         "legendgroup": "Respondent114",
         "marker": {
          "color": "#B6E880",
          "symbol": "circle"
         },
         "mode": "markers",
         "name": "Respondent114",
         "orientation": "v",
         "showlegend": true,
         "type": "scatter",
         "x": [
          26.62
         ],
         "xaxis": "x",
         "y": [
          6
         ],
         "yaxis": "y"
        },
        {
         "hovertemplate": "Lecturer=Respondent115<br>NormalizedValue=%{x}<br>StudentCount=%{y}<extra></extra>",
         "legendgroup": "Respondent115",
         "marker": {
          "color": "#FF97FF",
          "symbol": "circle"
         },
         "mode": "markers",
         "name": "Respondent115",
         "orientation": "v",
         "showlegend": true,
         "type": "scatter",
         "x": [
          27.1
         ],
         "xaxis": "x",
         "y": [
          59
         ],
         "yaxis": "y"
        },
        {
         "hovertemplate": "Lecturer=Respondent116<br>NormalizedValue=%{x}<br>StudentCount=%{y}<extra></extra>",
         "legendgroup": "Respondent116",
         "marker": {
          "color": "#FECB52",
          "symbol": "circle"
         },
         "mode": "markers",
         "name": "Respondent116",
         "orientation": "v",
         "showlegend": true,
         "type": "scatter",
         "x": [
          24.62
         ],
         "xaxis": "x",
         "y": [
          12
         ],
         "yaxis": "y"
        },
        {
         "hovertemplate": "Lecturer=Respondent117<br>NormalizedValue=%{x}<br>StudentCount=%{y}<extra></extra>",
         "legendgroup": "Respondent117",
         "marker": {
          "color": "#636efa",
          "symbol": "circle"
         },
         "mode": "markers",
         "name": "Respondent117",
         "orientation": "v",
         "showlegend": true,
         "type": "scatter",
         "x": [
          26.91
         ],
         "xaxis": "x",
         "y": [
          11
         ],
         "yaxis": "y"
        },
        {
         "hovertemplate": "Lecturer=Respondent118<br>NormalizedValue=%{x}<br>StudentCount=%{y}<extra></extra>",
         "legendgroup": "Respondent118",
         "marker": {
          "color": "#EF553B",
          "symbol": "circle"
         },
         "mode": "markers",
         "name": "Respondent118",
         "orientation": "v",
         "showlegend": true,
         "type": "scatter",
         "x": [
          25.19
         ],
         "xaxis": "x",
         "y": [
          80
         ],
         "yaxis": "y"
        },
        {
         "hovertemplate": "Lecturer=Respondent119<br>NormalizedValue=%{x}<br>StudentCount=%{y}<extra></extra>",
         "legendgroup": "Respondent119",
         "marker": {
          "color": "#00cc96",
          "symbol": "circle"
         },
         "mode": "markers",
         "name": "Respondent119",
         "orientation": "v",
         "showlegend": true,
         "type": "scatter",
         "x": [
          26.56
         ],
         "xaxis": "x",
         "y": [
          210
         ],
         "yaxis": "y"
        },
        {
         "hovertemplate": "Lecturer=Respondent12<br>NormalizedValue=%{x}<br>StudentCount=%{y}<extra></extra>",
         "legendgroup": "Respondent12",
         "marker": {
          "color": "#ab63fa",
          "symbol": "circle"
         },
         "mode": "markers",
         "name": "Respondent12",
         "orientation": "v",
         "showlegend": true,
         "type": "scatter",
         "x": [
          26.17
         ],
         "xaxis": "x",
         "y": [
          73
         ],
         "yaxis": "y"
        },
        {
         "hovertemplate": "Lecturer=Respondent120<br>NormalizedValue=%{x}<br>StudentCount=%{y}<extra></extra>",
         "legendgroup": "Respondent120",
         "marker": {
          "color": "#FFA15A",
          "symbol": "circle"
         },
         "mode": "markers",
         "name": "Respondent120",
         "orientation": "v",
         "showlegend": true,
         "type": "scatter",
         "x": [
          27.83
         ],
         "xaxis": "x",
         "y": [
          215
         ],
         "yaxis": "y"
        },
        {
         "hovertemplate": "Lecturer=Respondent121<br>NormalizedValue=%{x}<br>StudentCount=%{y}<extra></extra>",
         "legendgroup": "Respondent121",
         "marker": {
          "color": "#19d3f3",
          "symbol": "circle"
         },
         "mode": "markers",
         "name": "Respondent121",
         "orientation": "v",
         "showlegend": true,
         "type": "scatter",
         "x": [
          27.18
         ],
         "xaxis": "x",
         "y": [
          281
         ],
         "yaxis": "y"
        },
        {
         "hovertemplate": "Lecturer=Respondent122<br>NormalizedValue=%{x}<br>StudentCount=%{y}<extra></extra>",
         "legendgroup": "Respondent122",
         "marker": {
          "color": "#FF6692",
          "symbol": "circle"
         },
         "mode": "markers",
         "name": "Respondent122",
         "orientation": "v",
         "showlegend": true,
         "type": "scatter",
         "x": [
          28.98
         ],
         "xaxis": "x",
         "y": [
          10
         ],
         "yaxis": "y"
        },
        {
         "hovertemplate": "Lecturer=Respondent123<br>NormalizedValue=%{x}<br>StudentCount=%{y}<extra></extra>",
         "legendgroup": "Respondent123",
         "marker": {
          "color": "#B6E880",
          "symbol": "circle"
         },
         "mode": "markers",
         "name": "Respondent123",
         "orientation": "v",
         "showlegend": true,
         "type": "scatter",
         "x": [
          26.37
         ],
         "xaxis": "x",
         "y": [
          46
         ],
         "yaxis": "y"
        },
        {
         "hovertemplate": "Lecturer=Respondent124<br>NormalizedValue=%{x}<br>StudentCount=%{y}<extra></extra>",
         "legendgroup": "Respondent124",
         "marker": {
          "color": "#FF97FF",
          "symbol": "circle"
         },
         "mode": "markers",
         "name": "Respondent124",
         "orientation": "v",
         "showlegend": true,
         "type": "scatter",
         "x": [
          27.5
         ],
         "xaxis": "x",
         "y": [
          11
         ],
         "yaxis": "y"
        },
        {
         "hovertemplate": "Lecturer=Respondent125<br>NormalizedValue=%{x}<br>StudentCount=%{y}<extra></extra>",
         "legendgroup": "Respondent125",
         "marker": {
          "color": "#FECB52",
          "symbol": "circle"
         },
         "mode": "markers",
         "name": "Respondent125",
         "orientation": "v",
         "showlegend": true,
         "type": "scatter",
         "x": [
          27.37
         ],
         "xaxis": "x",
         "y": [
          241
         ],
         "yaxis": "y"
        },
        {
         "hovertemplate": "Lecturer=Respondent126<br>NormalizedValue=%{x}<br>StudentCount=%{y}<extra></extra>",
         "legendgroup": "Respondent126",
         "marker": {
          "color": "#636efa",
          "symbol": "circle"
         },
         "mode": "markers",
         "name": "Respondent126",
         "orientation": "v",
         "showlegend": true,
         "type": "scatter",
         "x": [
          27.81
         ],
         "xaxis": "x",
         "y": [
          180
         ],
         "yaxis": "y"
        },
        {
         "hovertemplate": "Lecturer=Respondent127<br>NormalizedValue=%{x}<br>StudentCount=%{y}<extra></extra>",
         "legendgroup": "Respondent127",
         "marker": {
          "color": "#EF553B",
          "symbol": "circle"
         },
         "mode": "markers",
         "name": "Respondent127",
         "orientation": "v",
         "showlegend": true,
         "type": "scatter",
         "x": [
          27.92
         ],
         "xaxis": "x",
         "y": [
          6
         ],
         "yaxis": "y"
        },
        {
         "hovertemplate": "Lecturer=Respondent128<br>NormalizedValue=%{x}<br>StudentCount=%{y}<extra></extra>",
         "legendgroup": "Respondent128",
         "marker": {
          "color": "#00cc96",
          "symbol": "circle"
         },
         "mode": "markers",
         "name": "Respondent128",
         "orientation": "v",
         "showlegend": true,
         "type": "scatter",
         "x": [
          28.94
         ],
         "xaxis": "x",
         "y": [
          26
         ],
         "yaxis": "y"
        },
        {
         "hovertemplate": "Lecturer=Respondent129<br>NormalizedValue=%{x}<br>StudentCount=%{y}<extra></extra>",
         "legendgroup": "Respondent129",
         "marker": {
          "color": "#ab63fa",
          "symbol": "circle"
         },
         "mode": "markers",
         "name": "Respondent129",
         "orientation": "v",
         "showlegend": true,
         "type": "scatter",
         "x": [
          28.31
         ],
         "xaxis": "x",
         "y": [
          12
         ],
         "yaxis": "y"
        },
        {
         "hovertemplate": "Lecturer=Respondent13<br>NormalizedValue=%{x}<br>StudentCount=%{y}<extra></extra>",
         "legendgroup": "Respondent13",
         "marker": {
          "color": "#FFA15A",
          "symbol": "circle"
         },
         "mode": "markers",
         "name": "Respondent13",
         "orientation": "v",
         "showlegend": true,
         "type": "scatter",
         "x": [
          27.25
         ],
         "xaxis": "x",
         "y": [
          145
         ],
         "yaxis": "y"
        },
        {
         "hovertemplate": "Lecturer=Respondent130<br>NormalizedValue=%{x}<br>StudentCount=%{y}<extra></extra>",
         "legendgroup": "Respondent130",
         "marker": {
          "color": "#19d3f3",
          "symbol": "circle"
         },
         "mode": "markers",
         "name": "Respondent130",
         "orientation": "v",
         "showlegend": true,
         "type": "scatter",
         "x": [
          28.96
         ],
         "xaxis": "x",
         "y": [
          12
         ],
         "yaxis": "y"
        },
        {
         "hovertemplate": "Lecturer=Respondent131<br>NormalizedValue=%{x}<br>StudentCount=%{y}<extra></extra>",
         "legendgroup": "Respondent131",
         "marker": {
          "color": "#FF6692",
          "symbol": "circle"
         },
         "mode": "markers",
         "name": "Respondent131",
         "orientation": "v",
         "showlegend": true,
         "type": "scatter",
         "x": [
          24.5
         ],
         "xaxis": "x",
         "y": [
          1
         ],
         "yaxis": "y"
        },
        {
         "hovertemplate": "Lecturer=Respondent132<br>NormalizedValue=%{x}<br>StudentCount=%{y}<extra></extra>",
         "legendgroup": "Respondent132",
         "marker": {
          "color": "#B6E880",
          "symbol": "circle"
         },
         "mode": "markers",
         "name": "Respondent132",
         "orientation": "v",
         "showlegend": true,
         "type": "scatter",
         "x": [
          28.69
         ],
         "xaxis": "x",
         "y": [
          24
         ],
         "yaxis": "y"
        },
        {
         "hovertemplate": "Lecturer=Respondent133<br>NormalizedValue=%{x}<br>StudentCount=%{y}<extra></extra>",
         "legendgroup": "Respondent133",
         "marker": {
          "color": "#FF97FF",
          "symbol": "circle"
         },
         "mode": "markers",
         "name": "Respondent133",
         "orientation": "v",
         "showlegend": true,
         "type": "scatter",
         "x": [
          29
         ],
         "xaxis": "x",
         "y": [
          2
         ],
         "yaxis": "y"
        },
        {
         "hovertemplate": "Lecturer=Respondent134<br>NormalizedValue=%{x}<br>StudentCount=%{y}<extra></extra>",
         "legendgroup": "Respondent134",
         "marker": {
          "color": "#FECB52",
          "symbol": "circle"
         },
         "mode": "markers",
         "name": "Respondent134",
         "orientation": "v",
         "showlegend": true,
         "type": "scatter",
         "x": [
          23.25
         ],
         "xaxis": "x",
         "y": [
          1
         ],
         "yaxis": "y"
        },
        {
         "hovertemplate": "Lecturer=Respondent14<br>NormalizedValue=%{x}<br>StudentCount=%{y}<extra></extra>",
         "legendgroup": "Respondent14",
         "marker": {
          "color": "#636efa",
          "symbol": "circle"
         },
         "mode": "markers",
         "name": "Respondent14",
         "orientation": "v",
         "showlegend": true,
         "type": "scatter",
         "x": [
          27.07
         ],
         "xaxis": "x",
         "y": [
          107
         ],
         "yaxis": "y"
        },
        {
         "hovertemplate": "Lecturer=Respondent15<br>NormalizedValue=%{x}<br>StudentCount=%{y}<extra></extra>",
         "legendgroup": "Respondent15",
         "marker": {
          "color": "#EF553B",
          "symbol": "circle"
         },
         "mode": "markers",
         "name": "Respondent15",
         "orientation": "v",
         "showlegend": true,
         "type": "scatter",
         "x": [
          26.11
         ],
         "xaxis": "x",
         "y": [
          75
         ],
         "yaxis": "y"
        },
        {
         "hovertemplate": "Lecturer=Respondent16<br>NormalizedValue=%{x}<br>StudentCount=%{y}<extra></extra>",
         "legendgroup": "Respondent16",
         "marker": {
          "color": "#00cc96",
          "symbol": "circle"
         },
         "mode": "markers",
         "name": "Respondent16",
         "orientation": "v",
         "showlegend": true,
         "type": "scatter",
         "x": [
          26.01
         ],
         "xaxis": "x",
         "y": [
          101
         ],
         "yaxis": "y"
        },
        {
         "hovertemplate": "Lecturer=Respondent17<br>NormalizedValue=%{x}<br>StudentCount=%{y}<extra></extra>",
         "legendgroup": "Respondent17",
         "marker": {
          "color": "#ab63fa",
          "symbol": "circle"
         },
         "mode": "markers",
         "name": "Respondent17",
         "orientation": "v",
         "showlegend": true,
         "type": "scatter",
         "x": [
          26
         ],
         "xaxis": "x",
         "y": [
          4
         ],
         "yaxis": "y"
        },
        {
         "hovertemplate": "Lecturer=Respondent18<br>NormalizedValue=%{x}<br>StudentCount=%{y}<extra></extra>",
         "legendgroup": "Respondent18",
         "marker": {
          "color": "#FFA15A",
          "symbol": "circle"
         },
         "mode": "markers",
         "name": "Respondent18",
         "orientation": "v",
         "showlegend": true,
         "type": "scatter",
         "x": [
          26.7
         ],
         "xaxis": "x",
         "y": [
          109
         ],
         "yaxis": "y"
        },
        {
         "hovertemplate": "Lecturer=Respondent19<br>NormalizedValue=%{x}<br>StudentCount=%{y}<extra></extra>",
         "legendgroup": "Respondent19",
         "marker": {
          "color": "#19d3f3",
          "symbol": "circle"
         },
         "mode": "markers",
         "name": "Respondent19",
         "orientation": "v",
         "showlegend": true,
         "type": "scatter",
         "x": [
          26.69
         ],
         "xaxis": "x",
         "y": [
          197
         ],
         "yaxis": "y"
        },
        {
         "hovertemplate": "Lecturer=Respondent2<br>NormalizedValue=%{x}<br>StudentCount=%{y}<extra></extra>",
         "legendgroup": "Respondent2",
         "marker": {
          "color": "#FF6692",
          "symbol": "circle"
         },
         "mode": "markers",
         "name": "Respondent2",
         "orientation": "v",
         "showlegend": true,
         "type": "scatter",
         "x": [
          26.16
         ],
         "xaxis": "x",
         "y": [
          58
         ],
         "yaxis": "y"
        },
        {
         "hovertemplate": "Lecturer=Respondent20<br>NormalizedValue=%{x}<br>StudentCount=%{y}<extra></extra>",
         "legendgroup": "Respondent20",
         "marker": {
          "color": "#B6E880",
          "symbol": "circle"
         },
         "mode": "markers",
         "name": "Respondent20",
         "orientation": "v",
         "showlegend": true,
         "type": "scatter",
         "x": [
          26.09
         ],
         "xaxis": "x",
         "y": [
          322
         ],
         "yaxis": "y"
        },
        {
         "hovertemplate": "Lecturer=Respondent21<br>NormalizedValue=%{x}<br>StudentCount=%{y}<extra></extra>",
         "legendgroup": "Respondent21",
         "marker": {
          "color": "#FF97FF",
          "symbol": "circle"
         },
         "mode": "markers",
         "name": "Respondent21",
         "orientation": "v",
         "showlegend": true,
         "type": "scatter",
         "x": [
          26.6
         ],
         "xaxis": "x",
         "y": [
          133
         ],
         "yaxis": "y"
        },
        {
         "hovertemplate": "Lecturer=Respondent22<br>NormalizedValue=%{x}<br>StudentCount=%{y}<extra></extra>",
         "legendgroup": "Respondent22",
         "marker": {
          "color": "#FECB52",
          "symbol": "circle"
         },
         "mode": "markers",
         "name": "Respondent22",
         "orientation": "v",
         "showlegend": true,
         "type": "scatter",
         "x": [
          26.88
         ],
         "xaxis": "x",
         "y": [
          59
         ],
         "yaxis": "y"
        },
        {
         "hovertemplate": "Lecturer=Respondent23<br>NormalizedValue=%{x}<br>StudentCount=%{y}<extra></extra>",
         "legendgroup": "Respondent23",
         "marker": {
          "color": "#636efa",
          "symbol": "circle"
         },
         "mode": "markers",
         "name": "Respondent23",
         "orientation": "v",
         "showlegend": true,
         "type": "scatter",
         "x": [
          27.06
         ],
         "xaxis": "x",
         "y": [
          175
         ],
         "yaxis": "y"
        },
        {
         "hovertemplate": "Lecturer=Respondent24<br>NormalizedValue=%{x}<br>StudentCount=%{y}<extra></extra>",
         "legendgroup": "Respondent24",
         "marker": {
          "color": "#EF553B",
          "symbol": "circle"
         },
         "mode": "markers",
         "name": "Respondent24",
         "orientation": "v",
         "showlegend": true,
         "type": "scatter",
         "x": [
          27.53
         ],
         "xaxis": "x",
         "y": [
          159
         ],
         "yaxis": "y"
        },
        {
         "hovertemplate": "Lecturer=Respondent25<br>NormalizedValue=%{x}<br>StudentCount=%{y}<extra></extra>",
         "legendgroup": "Respondent25",
         "marker": {
          "color": "#00cc96",
          "symbol": "circle"
         },
         "mode": "markers",
         "name": "Respondent25",
         "orientation": "v",
         "showlegend": true,
         "type": "scatter",
         "x": [
          26.83
         ],
         "xaxis": "x",
         "y": [
          94
         ],
         "yaxis": "y"
        },
        {
         "hovertemplate": "Lecturer=Respondent26<br>NormalizedValue=%{x}<br>StudentCount=%{y}<extra></extra>",
         "legendgroup": "Respondent26",
         "marker": {
          "color": "#ab63fa",
          "symbol": "circle"
         },
         "mode": "markers",
         "name": "Respondent26",
         "orientation": "v",
         "showlegend": true,
         "type": "scatter",
         "x": [
          29.39
         ],
         "xaxis": "x",
         "y": [
          11
         ],
         "yaxis": "y"
        },
        {
         "hovertemplate": "Lecturer=Respondent27<br>NormalizedValue=%{x}<br>StudentCount=%{y}<extra></extra>",
         "legendgroup": "Respondent27",
         "marker": {
          "color": "#FFA15A",
          "symbol": "circle"
         },
         "mode": "markers",
         "name": "Respondent27",
         "orientation": "v",
         "showlegend": true,
         "type": "scatter",
         "x": [
          27.27
         ],
         "xaxis": "x",
         "y": [
          394
         ],
         "yaxis": "y"
        },
        {
         "hovertemplate": "Lecturer=Respondent28<br>NormalizedValue=%{x}<br>StudentCount=%{y}<extra></extra>",
         "legendgroup": "Respondent28",
         "marker": {
          "color": "#19d3f3",
          "symbol": "circle"
         },
         "mode": "markers",
         "name": "Respondent28",
         "orientation": "v",
         "showlegend": true,
         "type": "scatter",
         "x": [
          27.65
         ],
         "xaxis": "x",
         "y": [
          86
         ],
         "yaxis": "y"
        },
        {
         "hovertemplate": "Lecturer=Respondent29<br>NormalizedValue=%{x}<br>StudentCount=%{y}<extra></extra>",
         "legendgroup": "Respondent29",
         "marker": {
          "color": "#FF6692",
          "symbol": "circle"
         },
         "mode": "markers",
         "name": "Respondent29",
         "orientation": "v",
         "showlegend": true,
         "type": "scatter",
         "x": [
          27.6
         ],
         "xaxis": "x",
         "y": [
          230
         ],
         "yaxis": "y"
        },
        {
         "hovertemplate": "Lecturer=Respondent3<br>NormalizedValue=%{x}<br>StudentCount=%{y}<extra></extra>",
         "legendgroup": "Respondent3",
         "marker": {
          "color": "#B6E880",
          "symbol": "circle"
         },
         "mode": "markers",
         "name": "Respondent3",
         "orientation": "v",
         "showlegend": true,
         "type": "scatter",
         "x": [
          25.77
         ],
         "xaxis": "x",
         "y": [
          81
         ],
         "yaxis": "y"
        },
        {
         "hovertemplate": "Lecturer=Respondent30<br>NormalizedValue=%{x}<br>StudentCount=%{y}<extra></extra>",
         "legendgroup": "Respondent30",
         "marker": {
          "color": "#FF97FF",
          "symbol": "circle"
         },
         "mode": "markers",
         "name": "Respondent30",
         "orientation": "v",
         "showlegend": true,
         "type": "scatter",
         "x": [
          26.82
         ],
         "xaxis": "x",
         "y": [
          60
         ],
         "yaxis": "y"
        },
        {
         "hovertemplate": "Lecturer=Respondent31<br>NormalizedValue=%{x}<br>StudentCount=%{y}<extra></extra>",
         "legendgroup": "Respondent31",
         "marker": {
          "color": "#FECB52",
          "symbol": "circle"
         },
         "mode": "markers",
         "name": "Respondent31",
         "orientation": "v",
         "showlegend": true,
         "type": "scatter",
         "x": [
          26.93
         ],
         "xaxis": "x",
         "y": [
          79
         ],
         "yaxis": "y"
        },
        {
         "hovertemplate": "Lecturer=Respondent32<br>NormalizedValue=%{x}<br>StudentCount=%{y}<extra></extra>",
         "legendgroup": "Respondent32",
         "marker": {
          "color": "#636efa",
          "symbol": "circle"
         },
         "mode": "markers",
         "name": "Respondent32",
         "orientation": "v",
         "showlegend": true,
         "type": "scatter",
         "x": [
          27.41
         ],
         "xaxis": "x",
         "y": [
          324
         ],
         "yaxis": "y"
        },
        {
         "hovertemplate": "Lecturer=Respondent33<br>NormalizedValue=%{x}<br>StudentCount=%{y}<extra></extra>",
         "legendgroup": "Respondent33",
         "marker": {
          "color": "#EF553B",
          "symbol": "circle"
         },
         "mode": "markers",
         "name": "Respondent33",
         "orientation": "v",
         "showlegend": true,
         "type": "scatter",
         "x": [
          26.24
         ],
         "xaxis": "x",
         "y": [
          77
         ],
         "yaxis": "y"
        },
        {
         "hovertemplate": "Lecturer=Respondent34<br>NormalizedValue=%{x}<br>StudentCount=%{y}<extra></extra>",
         "legendgroup": "Respondent34",
         "marker": {
          "color": "#00cc96",
          "symbol": "circle"
         },
         "mode": "markers",
         "name": "Respondent34",
         "orientation": "v",
         "showlegend": true,
         "type": "scatter",
         "x": [
          27.74
         ],
         "xaxis": "x",
         "y": [
          210
         ],
         "yaxis": "y"
        },
        {
         "hovertemplate": "Lecturer=Respondent35<br>NormalizedValue=%{x}<br>StudentCount=%{y}<extra></extra>",
         "legendgroup": "Respondent35",
         "marker": {
          "color": "#ab63fa",
          "symbol": "circle"
         },
         "mode": "markers",
         "name": "Respondent35",
         "orientation": "v",
         "showlegend": true,
         "type": "scatter",
         "x": [
          26.28
         ],
         "xaxis": "x",
         "y": [
          282
         ],
         "yaxis": "y"
        },
        {
         "hovertemplate": "Lecturer=Respondent36<br>NormalizedValue=%{x}<br>StudentCount=%{y}<extra></extra>",
         "legendgroup": "Respondent36",
         "marker": {
          "color": "#FFA15A",
          "symbol": "circle"
         },
         "mode": "markers",
         "name": "Respondent36",
         "orientation": "v",
         "showlegend": true,
         "type": "scatter",
         "x": [
          26.96
         ],
         "xaxis": "x",
         "y": [
          20
         ],
         "yaxis": "y"
        },
        {
         "hovertemplate": "Lecturer=Respondent37<br>NormalizedValue=%{x}<br>StudentCount=%{y}<extra></extra>",
         "legendgroup": "Respondent37",
         "marker": {
          "color": "#19d3f3",
          "symbol": "circle"
         },
         "mode": "markers",
         "name": "Respondent37",
         "orientation": "v",
         "showlegend": true,
         "type": "scatter",
         "x": [
          26.6
         ],
         "xaxis": "x",
         "y": [
          37
         ],
         "yaxis": "y"
        },
        {
         "hovertemplate": "Lecturer=Respondent38<br>NormalizedValue=%{x}<br>StudentCount=%{y}<extra></extra>",
         "legendgroup": "Respondent38",
         "marker": {
          "color": "#FF6692",
          "symbol": "circle"
         },
         "mode": "markers",
         "name": "Respondent38",
         "orientation": "v",
         "showlegend": true,
         "type": "scatter",
         "x": [
          27.36
         ],
         "xaxis": "x",
         "y": [
          20
         ],
         "yaxis": "y"
        },
        {
         "hovertemplate": "Lecturer=Respondent39<br>NormalizedValue=%{x}<br>StudentCount=%{y}<extra></extra>",
         "legendgroup": "Respondent39",
         "marker": {
          "color": "#B6E880",
          "symbol": "circle"
         },
         "mode": "markers",
         "name": "Respondent39",
         "orientation": "v",
         "showlegend": true,
         "type": "scatter",
         "x": [
          26.7
         ],
         "xaxis": "x",
         "y": [
          241
         ],
         "yaxis": "y"
        },
        {
         "hovertemplate": "Lecturer=Respondent4<br>NormalizedValue=%{x}<br>StudentCount=%{y}<extra></extra>",
         "legendgroup": "Respondent4",
         "marker": {
          "color": "#FF97FF",
          "symbol": "circle"
         },
         "mode": "markers",
         "name": "Respondent4",
         "orientation": "v",
         "showlegend": true,
         "type": "scatter",
         "x": [
          27.03
         ],
         "xaxis": "x",
         "y": [
          160
         ],
         "yaxis": "y"
        },
        {
         "hovertemplate": "Lecturer=Respondent40<br>NormalizedValue=%{x}<br>StudentCount=%{y}<extra></extra>",
         "legendgroup": "Respondent40",
         "marker": {
          "color": "#FECB52",
          "symbol": "circle"
         },
         "mode": "markers",
         "name": "Respondent40",
         "orientation": "v",
         "showlegend": true,
         "type": "scatter",
         "x": [
          27.17
         ],
         "xaxis": "x",
         "y": [
          103
         ],
         "yaxis": "y"
        },
        {
         "hovertemplate": "Lecturer=Respondent41<br>NormalizedValue=%{x}<br>StudentCount=%{y}<extra></extra>",
         "legendgroup": "Respondent41",
         "marker": {
          "color": "#636efa",
          "symbol": "circle"
         },
         "mode": "markers",
         "name": "Respondent41",
         "orientation": "v",
         "showlegend": true,
         "type": "scatter",
         "x": [
          26.33
         ],
         "xaxis": "x",
         "y": [
          174
         ],
         "yaxis": "y"
        },
        {
         "hovertemplate": "Lecturer=Respondent42<br>NormalizedValue=%{x}<br>StudentCount=%{y}<extra></extra>",
         "legendgroup": "Respondent42",
         "marker": {
          "color": "#EF553B",
          "symbol": "circle"
         },
         "mode": "markers",
         "name": "Respondent42",
         "orientation": "v",
         "showlegend": true,
         "type": "scatter",
         "x": [
          26.51
         ],
         "xaxis": "x",
         "y": [
          21
         ],
         "yaxis": "y"
        },
        {
         "hovertemplate": "Lecturer=Respondent43<br>NormalizedValue=%{x}<br>StudentCount=%{y}<extra></extra>",
         "legendgroup": "Respondent43",
         "marker": {
          "color": "#00cc96",
          "symbol": "circle"
         },
         "mode": "markers",
         "name": "Respondent43",
         "orientation": "v",
         "showlegend": true,
         "type": "scatter",
         "x": [
          30
         ],
         "xaxis": "x",
         "y": [
          2
         ],
         "yaxis": "y"
        },
        {
         "hovertemplate": "Lecturer=Respondent44<br>NormalizedValue=%{x}<br>StudentCount=%{y}<extra></extra>",
         "legendgroup": "Respondent44",
         "marker": {
          "color": "#ab63fa",
          "symbol": "circle"
         },
         "mode": "markers",
         "name": "Respondent44",
         "orientation": "v",
         "showlegend": true,
         "type": "scatter",
         "x": [
          26.48
         ],
         "xaxis": "x",
         "y": [
          75
         ],
         "yaxis": "y"
        },
        {
         "hovertemplate": "Lecturer=Respondent45<br>NormalizedValue=%{x}<br>StudentCount=%{y}<extra></extra>",
         "legendgroup": "Respondent45",
         "marker": {
          "color": "#FFA15A",
          "symbol": "circle"
         },
         "mode": "markers",
         "name": "Respondent45",
         "orientation": "v",
         "showlegend": true,
         "type": "scatter",
         "x": [
          26.85
         ],
         "xaxis": "x",
         "y": [
          253
         ],
         "yaxis": "y"
        },
        {
         "hovertemplate": "Lecturer=Respondent46<br>NormalizedValue=%{x}<br>StudentCount=%{y}<extra></extra>",
         "legendgroup": "Respondent46",
         "marker": {
          "color": "#19d3f3",
          "symbol": "circle"
         },
         "mode": "markers",
         "name": "Respondent46",
         "orientation": "v",
         "showlegend": true,
         "type": "scatter",
         "x": [
          26.68
         ],
         "xaxis": "x",
         "y": [
          201
         ],
         "yaxis": "y"
        },
        {
         "hovertemplate": "Lecturer=Respondent47<br>NormalizedValue=%{x}<br>StudentCount=%{y}<extra></extra>",
         "legendgroup": "Respondent47",
         "marker": {
          "color": "#FF6692",
          "symbol": "circle"
         },
         "mode": "markers",
         "name": "Respondent47",
         "orientation": "v",
         "showlegend": true,
         "type": "scatter",
         "x": [
          26.24
         ],
         "xaxis": "x",
         "y": [
          80
         ],
         "yaxis": "y"
        },
        {
         "hovertemplate": "Lecturer=Respondent48<br>NormalizedValue=%{x}<br>StudentCount=%{y}<extra></extra>",
         "legendgroup": "Respondent48",
         "marker": {
          "color": "#B6E880",
          "symbol": "circle"
         },
         "mode": "markers",
         "name": "Respondent48",
         "orientation": "v",
         "showlegend": true,
         "type": "scatter",
         "x": [
          27.18
         ],
         "xaxis": "x",
         "y": [
          161
         ],
         "yaxis": "y"
        },
        {
         "hovertemplate": "Lecturer=Respondent49<br>NormalizedValue=%{x}<br>StudentCount=%{y}<extra></extra>",
         "legendgroup": "Respondent49",
         "marker": {
          "color": "#FF97FF",
          "symbol": "circle"
         },
         "mode": "markers",
         "name": "Respondent49",
         "orientation": "v",
         "showlegend": true,
         "type": "scatter",
         "x": [
          30
         ],
         "xaxis": "x",
         "y": [
          1
         ],
         "yaxis": "y"
        },
        {
         "hovertemplate": "Lecturer=Respondent5<br>NormalizedValue=%{x}<br>StudentCount=%{y}<extra></extra>",
         "legendgroup": "Respondent5",
         "marker": {
          "color": "#FECB52",
          "symbol": "circle"
         },
         "mode": "markers",
         "name": "Respondent5",
         "orientation": "v",
         "showlegend": true,
         "type": "scatter",
         "x": [
          25.69
         ],
         "xaxis": "x",
         "y": [
          27
         ],
         "yaxis": "y"
        },
        {
         "hovertemplate": "Lecturer=Respondent50<br>NormalizedValue=%{x}<br>StudentCount=%{y}<extra></extra>",
         "legendgroup": "Respondent50",
         "marker": {
          "color": "#636efa",
          "symbol": "circle"
         },
         "mode": "markers",
         "name": "Respondent50",
         "orientation": "v",
         "showlegend": true,
         "type": "scatter",
         "x": [
          24.47
         ],
         "xaxis": "x",
         "y": [
          186
         ],
         "yaxis": "y"
        },
        {
         "hovertemplate": "Lecturer=Respondent51<br>NormalizedValue=%{x}<br>StudentCount=%{y}<extra></extra>",
         "legendgroup": "Respondent51",
         "marker": {
          "color": "#EF553B",
          "symbol": "circle"
         },
         "mode": "markers",
         "name": "Respondent51",
         "orientation": "v",
         "showlegend": true,
         "type": "scatter",
         "x": [
          27.94
         ],
         "xaxis": "x",
         "y": [
          245
         ],
         "yaxis": "y"
        },
        {
         "hovertemplate": "Lecturer=Respondent52<br>NormalizedValue=%{x}<br>StudentCount=%{y}<extra></extra>",
         "legendgroup": "Respondent52",
         "marker": {
          "color": "#00cc96",
          "symbol": "circle"
         },
         "mode": "markers",
         "name": "Respondent52",
         "orientation": "v",
         "showlegend": true,
         "type": "scatter",
         "x": [
          26.5
         ],
         "xaxis": "x",
         "y": [
          263
         ],
         "yaxis": "y"
        },
        {
         "hovertemplate": "Lecturer=Respondent53<br>NormalizedValue=%{x}<br>StudentCount=%{y}<extra></extra>",
         "legendgroup": "Respondent53",
         "marker": {
          "color": "#ab63fa",
          "symbol": "circle"
         },
         "mode": "markers",
         "name": "Respondent53",
         "orientation": "v",
         "showlegend": true,
         "type": "scatter",
         "x": [
          27.24
         ],
         "xaxis": "x",
         "y": [
          247
         ],
         "yaxis": "y"
        },
        {
         "hovertemplate": "Lecturer=Respondent54<br>NormalizedValue=%{x}<br>StudentCount=%{y}<extra></extra>",
         "legendgroup": "Respondent54",
         "marker": {
          "color": "#FFA15A",
          "symbol": "circle"
         },
         "mode": "markers",
         "name": "Respondent54",
         "orientation": "v",
         "showlegend": true,
         "type": "scatter",
         "x": [
          25.8
         ],
         "xaxis": "x",
         "y": [
          518
         ],
         "yaxis": "y"
        },
        {
         "hovertemplate": "Lecturer=Respondent55<br>NormalizedValue=%{x}<br>StudentCount=%{y}<extra></extra>",
         "legendgroup": "Respondent55",
         "marker": {
          "color": "#19d3f3",
          "symbol": "circle"
         },
         "mode": "markers",
         "name": "Respondent55",
         "orientation": "v",
         "showlegend": true,
         "type": "scatter",
         "x": [
          24.47
         ],
         "xaxis": "x",
         "y": [
          568
         ],
         "yaxis": "y"
        },
        {
         "hovertemplate": "Lecturer=Respondent56<br>NormalizedValue=%{x}<br>StudentCount=%{y}<extra></extra>",
         "legendgroup": "Respondent56",
         "marker": {
          "color": "#FF6692",
          "symbol": "circle"
         },
         "mode": "markers",
         "name": "Respondent56",
         "orientation": "v",
         "showlegend": true,
         "type": "scatter",
         "x": [
          25.3
         ],
         "xaxis": "x",
         "y": [
          32
         ],
         "yaxis": "y"
        },
        {
         "hovertemplate": "Lecturer=Respondent57<br>NormalizedValue=%{x}<br>StudentCount=%{y}<extra></extra>",
         "legendgroup": "Respondent57",
         "marker": {
          "color": "#B6E880",
          "symbol": "circle"
         },
         "mode": "markers",
         "name": "Respondent57",
         "orientation": "v",
         "showlegend": true,
         "type": "scatter",
         "x": [
          27.15
         ],
         "xaxis": "x",
         "y": [
          106
         ],
         "yaxis": "y"
        },
        {
         "hovertemplate": "Lecturer=Respondent58<br>NormalizedValue=%{x}<br>StudentCount=%{y}<extra></extra>",
         "legendgroup": "Respondent58",
         "marker": {
          "color": "#FF97FF",
          "symbol": "circle"
         },
         "mode": "markers",
         "name": "Respondent58",
         "orientation": "v",
         "showlegend": true,
         "type": "scatter",
         "x": [
          27.54
         ],
         "xaxis": "x",
         "y": [
          214
         ],
         "yaxis": "y"
        },
        {
         "hovertemplate": "Lecturer=Respondent59<br>NormalizedValue=%{x}<br>StudentCount=%{y}<extra></extra>",
         "legendgroup": "Respondent59",
         "marker": {
          "color": "#FECB52",
          "symbol": "circle"
         },
         "mode": "markers",
         "name": "Respondent59",
         "orientation": "v",
         "showlegend": true,
         "type": "scatter",
         "x": [
          26.78
         ],
         "xaxis": "x",
         "y": [
          274
         ],
         "yaxis": "y"
        },
        {
         "hovertemplate": "Lecturer=Respondent6<br>NormalizedValue=%{x}<br>StudentCount=%{y}<extra></extra>",
         "legendgroup": "Respondent6",
         "marker": {
          "color": "#636efa",
          "symbol": "circle"
         },
         "mode": "markers",
         "name": "Respondent6",
         "orientation": "v",
         "showlegend": true,
         "type": "scatter",
         "x": [
          26.69
         ],
         "xaxis": "x",
         "y": [
          32
         ],
         "yaxis": "y"
        },
        {
         "hovertemplate": "Lecturer=Respondent60<br>NormalizedValue=%{x}<br>StudentCount=%{y}<extra></extra>",
         "legendgroup": "Respondent60",
         "marker": {
          "color": "#EF553B",
          "symbol": "circle"
         },
         "mode": "markers",
         "name": "Respondent60",
         "orientation": "v",
         "showlegend": true,
         "type": "scatter",
         "x": [
          26.27
         ],
         "xaxis": "x",
         "y": [
          322
         ],
         "yaxis": "y"
        },
        {
         "hovertemplate": "Lecturer=Respondent61<br>NormalizedValue=%{x}<br>StudentCount=%{y}<extra></extra>",
         "legendgroup": "Respondent61",
         "marker": {
          "color": "#00cc96",
          "symbol": "circle"
         },
         "mode": "markers",
         "name": "Respondent61",
         "orientation": "v",
         "showlegend": true,
         "type": "scatter",
         "x": [
          27.1
         ],
         "xaxis": "x",
         "y": [
          121
         ],
         "yaxis": "y"
        },
        {
         "hovertemplate": "Lecturer=Respondent62<br>NormalizedValue=%{x}<br>StudentCount=%{y}<extra></extra>",
         "legendgroup": "Respondent62",
         "marker": {
          "color": "#ab63fa",
          "symbol": "circle"
         },
         "mode": "markers",
         "name": "Respondent62",
         "orientation": "v",
         "showlegend": true,
         "type": "scatter",
         "x": [
          30
         ],
         "xaxis": "x",
         "y": [
          1
         ],
         "yaxis": "y"
        },
        {
         "hovertemplate": "Lecturer=Respondent63<br>NormalizedValue=%{x}<br>StudentCount=%{y}<extra></extra>",
         "legendgroup": "Respondent63",
         "marker": {
          "color": "#FFA15A",
          "symbol": "circle"
         },
         "mode": "markers",
         "name": "Respondent63",
         "orientation": "v",
         "showlegend": true,
         "type": "scatter",
         "x": [
          30
         ],
         "xaxis": "x",
         "y": [
          2
         ],
         "yaxis": "y"
        },
        {
         "hovertemplate": "Lecturer=Respondent64<br>NormalizedValue=%{x}<br>StudentCount=%{y}<extra></extra>",
         "legendgroup": "Respondent64",
         "marker": {
          "color": "#19d3f3",
          "symbol": "circle"
         },
         "mode": "markers",
         "name": "Respondent64",
         "orientation": "v",
         "showlegend": true,
         "type": "scatter",
         "x": [
          27.54
         ],
         "xaxis": "x",
         "y": [
          77
         ],
         "yaxis": "y"
        },
        {
         "hovertemplate": "Lecturer=Respondent65<br>NormalizedValue=%{x}<br>StudentCount=%{y}<extra></extra>",
         "legendgroup": "Respondent65",
         "marker": {
          "color": "#FF6692",
          "symbol": "circle"
         },
         "mode": "markers",
         "name": "Respondent65",
         "orientation": "v",
         "showlegend": true,
         "type": "scatter",
         "x": [
          27.46
         ],
         "xaxis": "x",
         "y": [
          222
         ],
         "yaxis": "y"
        },
        {
         "hovertemplate": "Lecturer=Respondent66<br>NormalizedValue=%{x}<br>StudentCount=%{y}<extra></extra>",
         "legendgroup": "Respondent66",
         "marker": {
          "color": "#B6E880",
          "symbol": "circle"
         },
         "mode": "markers",
         "name": "Respondent66",
         "orientation": "v",
         "showlegend": true,
         "type": "scatter",
         "x": [
          26.38
         ],
         "xaxis": "x",
         "y": [
          2
         ],
         "yaxis": "y"
        },
        {
         "hovertemplate": "Lecturer=Respondent67<br>NormalizedValue=%{x}<br>StudentCount=%{y}<extra></extra>",
         "legendgroup": "Respondent67",
         "marker": {
          "color": "#FF97FF",
          "symbol": "circle"
         },
         "mode": "markers",
         "name": "Respondent67",
         "orientation": "v",
         "showlegend": true,
         "type": "scatter",
         "x": [
          26.64
         ],
         "xaxis": "x",
         "y": [
          74
         ],
         "yaxis": "y"
        },
        {
         "hovertemplate": "Lecturer=Respondent68<br>NormalizedValue=%{x}<br>StudentCount=%{y}<extra></extra>",
         "legendgroup": "Respondent68",
         "marker": {
          "color": "#FECB52",
          "symbol": "circle"
         },
         "mode": "markers",
         "name": "Respondent68",
         "orientation": "v",
         "showlegend": true,
         "type": "scatter",
         "x": [
          26.36
         ],
         "xaxis": "x",
         "y": [
          16
         ],
         "yaxis": "y"
        },
        {
         "hovertemplate": "Lecturer=Respondent69<br>NormalizedValue=%{x}<br>StudentCount=%{y}<extra></extra>",
         "legendgroup": "Respondent69",
         "marker": {
          "color": "#636efa",
          "symbol": "circle"
         },
         "mode": "markers",
         "name": "Respondent69",
         "orientation": "v",
         "showlegend": true,
         "type": "scatter",
         "x": [
          25.44
         ],
         "xaxis": "x",
         "y": [
          199
         ],
         "yaxis": "y"
        },
        {
         "hovertemplate": "Lecturer=Respondent7<br>NormalizedValue=%{x}<br>StudentCount=%{y}<extra></extra>",
         "legendgroup": "Respondent7",
         "marker": {
          "color": "#EF553B",
          "symbol": "circle"
         },
         "mode": "markers",
         "name": "Respondent7",
         "orientation": "v",
         "showlegend": true,
         "type": "scatter",
         "x": [
          26.42
         ],
         "xaxis": "x",
         "y": [
          348
         ],
         "yaxis": "y"
        },
        {
         "hovertemplate": "Lecturer=Respondent70<br>NormalizedValue=%{x}<br>StudentCount=%{y}<extra></extra>",
         "legendgroup": "Respondent70",
         "marker": {
          "color": "#00cc96",
          "symbol": "circle"
         },
         "mode": "markers",
         "name": "Respondent70",
         "orientation": "v",
         "showlegend": true,
         "type": "scatter",
         "x": [
          25.32
         ],
         "xaxis": "x",
         "y": [
          14
         ],
         "yaxis": "y"
        },
        {
         "hovertemplate": "Lecturer=Respondent71<br>NormalizedValue=%{x}<br>StudentCount=%{y}<extra></extra>",
         "legendgroup": "Respondent71",
         "marker": {
          "color": "#ab63fa",
          "symbol": "circle"
         },
         "mode": "markers",
         "name": "Respondent71",
         "orientation": "v",
         "showlegend": true,
         "type": "scatter",
         "x": [
          29.44
         ],
         "xaxis": "x",
         "y": [
          4
         ],
         "yaxis": "y"
        },
        {
         "hovertemplate": "Lecturer=Respondent72<br>NormalizedValue=%{x}<br>StudentCount=%{y}<extra></extra>",
         "legendgroup": "Respondent72",
         "marker": {
          "color": "#FFA15A",
          "symbol": "circle"
         },
         "mode": "markers",
         "name": "Respondent72",
         "orientation": "v",
         "showlegend": true,
         "type": "scatter",
         "x": [
          28.26
         ],
         "xaxis": "x",
         "y": [
          37
         ],
         "yaxis": "y"
        },
        {
         "hovertemplate": "Lecturer=Respondent73<br>NormalizedValue=%{x}<br>StudentCount=%{y}<extra></extra>",
         "legendgroup": "Respondent73",
         "marker": {
          "color": "#19d3f3",
          "symbol": "circle"
         },
         "mode": "markers",
         "name": "Respondent73",
         "orientation": "v",
         "showlegend": true,
         "type": "scatter",
         "x": [
          27.04
         ],
         "xaxis": "x",
         "y": [
          440
         ],
         "yaxis": "y"
        },
        {
         "hovertemplate": "Lecturer=Respondent74<br>NormalizedValue=%{x}<br>StudentCount=%{y}<extra></extra>",
         "legendgroup": "Respondent74",
         "marker": {
          "color": "#FF6692",
          "symbol": "circle"
         },
         "mode": "markers",
         "name": "Respondent74",
         "orientation": "v",
         "showlegend": true,
         "type": "scatter",
         "x": [
          26.66
         ],
         "xaxis": "x",
         "y": [
          502
         ],
         "yaxis": "y"
        },
        {
         "hovertemplate": "Lecturer=Respondent75<br>NormalizedValue=%{x}<br>StudentCount=%{y}<extra></extra>",
         "legendgroup": "Respondent75",
         "marker": {
          "color": "#B6E880",
          "symbol": "circle"
         },
         "mode": "markers",
         "name": "Respondent75",
         "orientation": "v",
         "showlegend": true,
         "type": "scatter",
         "x": [
          27.16
         ],
         "xaxis": "x",
         "y": [
          1260
         ],
         "yaxis": "y"
        },
        {
         "hovertemplate": "Lecturer=Respondent76<br>NormalizedValue=%{x}<br>StudentCount=%{y}<extra></extra>",
         "legendgroup": "Respondent76",
         "marker": {
          "color": "#FF97FF",
          "symbol": "circle"
         },
         "mode": "markers",
         "name": "Respondent76",
         "orientation": "v",
         "showlegend": true,
         "type": "scatter",
         "x": [
          22.5
         ],
         "xaxis": "x",
         "y": [
          1
         ],
         "yaxis": "y"
        },
        {
         "hovertemplate": "Lecturer=Respondent77<br>NormalizedValue=%{x}<br>StudentCount=%{y}<extra></extra>",
         "legendgroup": "Respondent77",
         "marker": {
          "color": "#FECB52",
          "symbol": "circle"
         },
         "mode": "markers",
         "name": "Respondent77",
         "orientation": "v",
         "showlegend": true,
         "type": "scatter",
         "x": [
          27.22
         ],
         "xaxis": "x",
         "y": [
          208
         ],
         "yaxis": "y"
        },
        {
         "hovertemplate": "Lecturer=Respondent78<br>NormalizedValue=%{x}<br>StudentCount=%{y}<extra></extra>",
         "legendgroup": "Respondent78",
         "marker": {
          "color": "#636efa",
          "symbol": "circle"
         },
         "mode": "markers",
         "name": "Respondent78",
         "orientation": "v",
         "showlegend": true,
         "type": "scatter",
         "x": [
          25.84
         ],
         "xaxis": "x",
         "y": [
          56
         ],
         "yaxis": "y"
        },
        {
         "hovertemplate": "Lecturer=Respondent79<br>NormalizedValue=%{x}<br>StudentCount=%{y}<extra></extra>",
         "legendgroup": "Respondent79",
         "marker": {
          "color": "#EF553B",
          "symbol": "circle"
         },
         "mode": "markers",
         "name": "Respondent79",
         "orientation": "v",
         "showlegend": true,
         "type": "scatter",
         "x": [
          26.85
         ],
         "xaxis": "x",
         "y": [
          245
         ],
         "yaxis": "y"
        },
        {
         "hovertemplate": "Lecturer=Respondent8<br>NormalizedValue=%{x}<br>StudentCount=%{y}<extra></extra>",
         "legendgroup": "Respondent8",
         "marker": {
          "color": "#00cc96",
          "symbol": "circle"
         },
         "mode": "markers",
         "name": "Respondent8",
         "orientation": "v",
         "showlegend": true,
         "type": "scatter",
         "x": [
          26.01
         ],
         "xaxis": "x",
         "y": [
          142
         ],
         "yaxis": "y"
        },
        {
         "hovertemplate": "Lecturer=Respondent80<br>NormalizedValue=%{x}<br>StudentCount=%{y}<extra></extra>",
         "legendgroup": "Respondent80",
         "marker": {
          "color": "#ab63fa",
          "symbol": "circle"
         },
         "mode": "markers",
         "name": "Respondent80",
         "orientation": "v",
         "showlegend": true,
         "type": "scatter",
         "x": [
          26.91
         ],
         "xaxis": "x",
         "y": [
          259
         ],
         "yaxis": "y"
        },
        {
         "hovertemplate": "Lecturer=Respondent81<br>NormalizedValue=%{x}<br>StudentCount=%{y}<extra></extra>",
         "legendgroup": "Respondent81",
         "marker": {
          "color": "#FFA15A",
          "symbol": "circle"
         },
         "mode": "markers",
         "name": "Respondent81",
         "orientation": "v",
         "showlegend": true,
         "type": "scatter",
         "x": [
          30
         ],
         "xaxis": "x",
         "y": [
          3
         ],
         "yaxis": "y"
        },
        {
         "hovertemplate": "Lecturer=Respondent82<br>NormalizedValue=%{x}<br>StudentCount=%{y}<extra></extra>",
         "legendgroup": "Respondent82",
         "marker": {
          "color": "#19d3f3",
          "symbol": "circle"
         },
         "mode": "markers",
         "name": "Respondent82",
         "orientation": "v",
         "showlegend": true,
         "type": "scatter",
         "x": [
          25.96
         ],
         "xaxis": "x",
         "y": [
          123
         ],
         "yaxis": "y"
        },
        {
         "hovertemplate": "Lecturer=Respondent83<br>NormalizedValue=%{x}<br>StudentCount=%{y}<extra></extra>",
         "legendgroup": "Respondent83",
         "marker": {
          "color": "#FF6692",
          "symbol": "circle"
         },
         "mode": "markers",
         "name": "Respondent83",
         "orientation": "v",
         "showlegend": true,
         "type": "scatter",
         "x": [
          26.51
         ],
         "xaxis": "x",
         "y": [
          96
         ],
         "yaxis": "y"
        },
        {
         "hovertemplate": "Lecturer=Respondent84<br>NormalizedValue=%{x}<br>StudentCount=%{y}<extra></extra>",
         "legendgroup": "Respondent84",
         "marker": {
          "color": "#B6E880",
          "symbol": "circle"
         },
         "mode": "markers",
         "name": "Respondent84",
         "orientation": "v",
         "showlegend": true,
         "type": "scatter",
         "x": [
          27.39
         ],
         "xaxis": "x",
         "y": [
          597
         ],
         "yaxis": "y"
        },
        {
         "hovertemplate": "Lecturer=Respondent85<br>NormalizedValue=%{x}<br>StudentCount=%{y}<extra></extra>",
         "legendgroup": "Respondent85",
         "marker": {
          "color": "#FF97FF",
          "symbol": "circle"
         },
         "mode": "markers",
         "name": "Respondent85",
         "orientation": "v",
         "showlegend": true,
         "type": "scatter",
         "x": [
          26.17
         ],
         "xaxis": "x",
         "y": [
          12
         ],
         "yaxis": "y"
        },
        {
         "hovertemplate": "Lecturer=Respondent86<br>NormalizedValue=%{x}<br>StudentCount=%{y}<extra></extra>",
         "legendgroup": "Respondent86",
         "marker": {
          "color": "#FECB52",
          "symbol": "circle"
         },
         "mode": "markers",
         "name": "Respondent86",
         "orientation": "v",
         "showlegend": true,
         "type": "scatter",
         "x": [
          24.85
         ],
         "xaxis": "x",
         "y": [
          39
         ],
         "yaxis": "y"
        },
        {
         "hovertemplate": "Lecturer=Respondent87<br>NormalizedValue=%{x}<br>StudentCount=%{y}<extra></extra>",
         "legendgroup": "Respondent87",
         "marker": {
          "color": "#636efa",
          "symbol": "circle"
         },
         "mode": "markers",
         "name": "Respondent87",
         "orientation": "v",
         "showlegend": true,
         "type": "scatter",
         "x": [
          26.38
         ],
         "xaxis": "x",
         "y": [
          18
         ],
         "yaxis": "y"
        },
        {
         "hovertemplate": "Lecturer=Respondent88<br>NormalizedValue=%{x}<br>StudentCount=%{y}<extra></extra>",
         "legendgroup": "Respondent88",
         "marker": {
          "color": "#EF553B",
          "symbol": "circle"
         },
         "mode": "markers",
         "name": "Respondent88",
         "orientation": "v",
         "showlegend": true,
         "type": "scatter",
         "x": [
          27.04
         ],
         "xaxis": "x",
         "y": [
          175
         ],
         "yaxis": "y"
        },
        {
         "hovertemplate": "Lecturer=Respondent89<br>NormalizedValue=%{x}<br>StudentCount=%{y}<extra></extra>",
         "legendgroup": "Respondent89",
         "marker": {
          "color": "#00cc96",
          "symbol": "circle"
         },
         "mode": "markers",
         "name": "Respondent89",
         "orientation": "v",
         "showlegend": true,
         "type": "scatter",
         "x": [
          27.5
         ],
         "xaxis": "x",
         "y": [
          164
         ],
         "yaxis": "y"
        },
        {
         "hovertemplate": "Lecturer=Respondent9<br>NormalizedValue=%{x}<br>StudentCount=%{y}<extra></extra>",
         "legendgroup": "Respondent9",
         "marker": {
          "color": "#ab63fa",
          "symbol": "circle"
         },
         "mode": "markers",
         "name": "Respondent9",
         "orientation": "v",
         "showlegend": true,
         "type": "scatter",
         "x": [
          25.7
         ],
         "xaxis": "x",
         "y": [
          71
         ],
         "yaxis": "y"
        },
        {
         "hovertemplate": "Lecturer=Respondent90<br>NormalizedValue=%{x}<br>StudentCount=%{y}<extra></extra>",
         "legendgroup": "Respondent90",
         "marker": {
          "color": "#FFA15A",
          "symbol": "circle"
         },
         "mode": "markers",
         "name": "Respondent90",
         "orientation": "v",
         "showlegend": true,
         "type": "scatter",
         "x": [
          27.52
         ],
         "xaxis": "x",
         "y": [
          364
         ],
         "yaxis": "y"
        },
        {
         "hovertemplate": "Lecturer=Respondent91<br>NormalizedValue=%{x}<br>StudentCount=%{y}<extra></extra>",
         "legendgroup": "Respondent91",
         "marker": {
          "color": "#19d3f3",
          "symbol": "circle"
         },
         "mode": "markers",
         "name": "Respondent91",
         "orientation": "v",
         "showlegend": true,
         "type": "scatter",
         "x": [
          27.05
         ],
         "xaxis": "x",
         "y": [
          184
         ],
         "yaxis": "y"
        },
        {
         "hovertemplate": "Lecturer=Respondent92<br>NormalizedValue=%{x}<br>StudentCount=%{y}<extra></extra>",
         "legendgroup": "Respondent92",
         "marker": {
          "color": "#FF6692",
          "symbol": "circle"
         },
         "mode": "markers",
         "name": "Respondent92",
         "orientation": "v",
         "showlegend": true,
         "type": "scatter",
         "x": [
          27.39
         ],
         "xaxis": "x",
         "y": [
          227
         ],
         "yaxis": "y"
        },
        {
         "hovertemplate": "Lecturer=Respondent93<br>NormalizedValue=%{x}<br>StudentCount=%{y}<extra></extra>",
         "legendgroup": "Respondent93",
         "marker": {
          "color": "#B6E880",
          "symbol": "circle"
         },
         "mode": "markers",
         "name": "Respondent93",
         "orientation": "v",
         "showlegend": true,
         "type": "scatter",
         "x": [
          27.67
         ],
         "xaxis": "x",
         "y": [
          433
         ],
         "yaxis": "y"
        },
        {
         "hovertemplate": "Lecturer=Respondent94<br>NormalizedValue=%{x}<br>StudentCount=%{y}<extra></extra>",
         "legendgroup": "Respondent94",
         "marker": {
          "color": "#FF97FF",
          "symbol": "circle"
         },
         "mode": "markers",
         "name": "Respondent94",
         "orientation": "v",
         "showlegend": true,
         "type": "scatter",
         "x": [
          27.22
         ],
         "xaxis": "x",
         "y": [
          153
         ],
         "yaxis": "y"
        },
        {
         "hovertemplate": "Lecturer=Respondent95<br>NormalizedValue=%{x}<br>StudentCount=%{y}<extra></extra>",
         "legendgroup": "Respondent95",
         "marker": {
          "color": "#FECB52",
          "symbol": "circle"
         },
         "mode": "markers",
         "name": "Respondent95",
         "orientation": "v",
         "showlegend": true,
         "type": "scatter",
         "x": [
          26.14
         ],
         "xaxis": "x",
         "y": [
          270
         ],
         "yaxis": "y"
        },
        {
         "hovertemplate": "Lecturer=Respondent96<br>NormalizedValue=%{x}<br>StudentCount=%{y}<extra></extra>",
         "legendgroup": "Respondent96",
         "marker": {
          "color": "#636efa",
          "symbol": "circle"
         },
         "mode": "markers",
         "name": "Respondent96",
         "orientation": "v",
         "showlegend": true,
         "type": "scatter",
         "x": [
          26.21
         ],
         "xaxis": "x",
         "y": [
          7
         ],
         "yaxis": "y"
        },
        {
         "hovertemplate": "Lecturer=Respondent97<br>NormalizedValue=%{x}<br>StudentCount=%{y}<extra></extra>",
         "legendgroup": "Respondent97",
         "marker": {
          "color": "#EF553B",
          "symbol": "circle"
         },
         "mode": "markers",
         "name": "Respondent97",
         "orientation": "v",
         "showlegend": true,
         "type": "scatter",
         "x": [
          26.5
         ],
         "xaxis": "x",
         "y": [
          233
         ],
         "yaxis": "y"
        },
        {
         "hovertemplate": "Lecturer=Respondent98<br>NormalizedValue=%{x}<br>StudentCount=%{y}<extra></extra>",
         "legendgroup": "Respondent98",
         "marker": {
          "color": "#00cc96",
          "symbol": "circle"
         },
         "mode": "markers",
         "name": "Respondent98",
         "orientation": "v",
         "showlegend": true,
         "type": "scatter",
         "x": [
          27.64
         ],
         "xaxis": "x",
         "y": [
          197
         ],
         "yaxis": "y"
        },
        {
         "hovertemplate": "Lecturer=Respondent99<br>NormalizedValue=%{x}<br>StudentCount=%{y}<extra></extra>",
         "legendgroup": "Respondent99",
         "marker": {
          "color": "#ab63fa",
          "symbol": "circle"
         },
         "mode": "markers",
         "name": "Respondent99",
         "orientation": "v",
         "showlegend": true,
         "type": "scatter",
         "x": [
          30
         ],
         "xaxis": "x",
         "y": [
          2
         ],
         "yaxis": "y"
        }
       ],
       "layout": {
        "legend": {
         "title": {
          "text": "Lecturer"
         },
         "tracegroupgap": 0
        },
        "margin": {
         "t": 60
        },
        "template": {
         "data": {
          "bar": [
           {
            "error_x": {
             "color": "#2a3f5f"
            },
            "error_y": {
             "color": "#2a3f5f"
            },
            "marker": {
             "line": {
              "color": "#E5ECF6",
              "width": 0.5
             },
             "pattern": {
              "fillmode": "overlay",
              "size": 10,
              "solidity": 0.2
             }
            },
            "type": "bar"
           }
          ],
          "barpolar": [
           {
            "marker": {
             "line": {
              "color": "#E5ECF6",
              "width": 0.5
             },
             "pattern": {
              "fillmode": "overlay",
              "size": 10,
              "solidity": 0.2
             }
            },
            "type": "barpolar"
           }
          ],
          "carpet": [
           {
            "aaxis": {
             "endlinecolor": "#2a3f5f",
             "gridcolor": "white",
             "linecolor": "white",
             "minorgridcolor": "white",
             "startlinecolor": "#2a3f5f"
            },
            "baxis": {
             "endlinecolor": "#2a3f5f",
             "gridcolor": "white",
             "linecolor": "white",
             "minorgridcolor": "white",
             "startlinecolor": "#2a3f5f"
            },
            "type": "carpet"
           }
          ],
          "choropleth": [
           {
            "colorbar": {
             "outlinewidth": 0,
             "ticks": ""
            },
            "type": "choropleth"
           }
          ],
          "contour": [
           {
            "colorbar": {
             "outlinewidth": 0,
             "ticks": ""
            },
            "colorscale": [
             [
              0,
              "#0d0887"
             ],
             [
              0.1111111111111111,
              "#46039f"
             ],
             [
              0.2222222222222222,
              "#7201a8"
             ],
             [
              0.3333333333333333,
              "#9c179e"
             ],
             [
              0.4444444444444444,
              "#bd3786"
             ],
             [
              0.5555555555555556,
              "#d8576b"
             ],
             [
              0.6666666666666666,
              "#ed7953"
             ],
             [
              0.7777777777777778,
              "#fb9f3a"
             ],
             [
              0.8888888888888888,
              "#fdca26"
             ],
             [
              1,
              "#f0f921"
             ]
            ],
            "type": "contour"
           }
          ],
          "contourcarpet": [
           {
            "colorbar": {
             "outlinewidth": 0,
             "ticks": ""
            },
            "type": "contourcarpet"
           }
          ],
          "heatmap": [
           {
            "colorbar": {
             "outlinewidth": 0,
             "ticks": ""
            },
            "colorscale": [
             [
              0,
              "#0d0887"
             ],
             [
              0.1111111111111111,
              "#46039f"
             ],
             [
              0.2222222222222222,
              "#7201a8"
             ],
             [
              0.3333333333333333,
              "#9c179e"
             ],
             [
              0.4444444444444444,
              "#bd3786"
             ],
             [
              0.5555555555555556,
              "#d8576b"
             ],
             [
              0.6666666666666666,
              "#ed7953"
             ],
             [
              0.7777777777777778,
              "#fb9f3a"
             ],
             [
              0.8888888888888888,
              "#fdca26"
             ],
             [
              1,
              "#f0f921"
             ]
            ],
            "type": "heatmap"
           }
          ],
          "heatmapgl": [
           {
            "colorbar": {
             "outlinewidth": 0,
             "ticks": ""
            },
            "colorscale": [
             [
              0,
              "#0d0887"
             ],
             [
              0.1111111111111111,
              "#46039f"
             ],
             [
              0.2222222222222222,
              "#7201a8"
             ],
             [
              0.3333333333333333,
              "#9c179e"
             ],
             [
              0.4444444444444444,
              "#bd3786"
             ],
             [
              0.5555555555555556,
              "#d8576b"
             ],
             [
              0.6666666666666666,
              "#ed7953"
             ],
             [
              0.7777777777777778,
              "#fb9f3a"
             ],
             [
              0.8888888888888888,
              "#fdca26"
             ],
             [
              1,
              "#f0f921"
             ]
            ],
            "type": "heatmapgl"
           }
          ],
          "histogram": [
           {
            "marker": {
             "pattern": {
              "fillmode": "overlay",
              "size": 10,
              "solidity": 0.2
             }
            },
            "type": "histogram"
           }
          ],
          "histogram2d": [
           {
            "colorbar": {
             "outlinewidth": 0,
             "ticks": ""
            },
            "colorscale": [
             [
              0,
              "#0d0887"
             ],
             [
              0.1111111111111111,
              "#46039f"
             ],
             [
              0.2222222222222222,
              "#7201a8"
             ],
             [
              0.3333333333333333,
              "#9c179e"
             ],
             [
              0.4444444444444444,
              "#bd3786"
             ],
             [
              0.5555555555555556,
              "#d8576b"
             ],
             [
              0.6666666666666666,
              "#ed7953"
             ],
             [
              0.7777777777777778,
              "#fb9f3a"
             ],
             [
              0.8888888888888888,
              "#fdca26"
             ],
             [
              1,
              "#f0f921"
             ]
            ],
            "type": "histogram2d"
           }
          ],
          "histogram2dcontour": [
           {
            "colorbar": {
             "outlinewidth": 0,
             "ticks": ""
            },
            "colorscale": [
             [
              0,
              "#0d0887"
             ],
             [
              0.1111111111111111,
              "#46039f"
             ],
             [
              0.2222222222222222,
              "#7201a8"
             ],
             [
              0.3333333333333333,
              "#9c179e"
             ],
             [
              0.4444444444444444,
              "#bd3786"
             ],
             [
              0.5555555555555556,
              "#d8576b"
             ],
             [
              0.6666666666666666,
              "#ed7953"
             ],
             [
              0.7777777777777778,
              "#fb9f3a"
             ],
             [
              0.8888888888888888,
              "#fdca26"
             ],
             [
              1,
              "#f0f921"
             ]
            ],
            "type": "histogram2dcontour"
           }
          ],
          "mesh3d": [
           {
            "colorbar": {
             "outlinewidth": 0,
             "ticks": ""
            },
            "type": "mesh3d"
           }
          ],
          "parcoords": [
           {
            "line": {
             "colorbar": {
              "outlinewidth": 0,
              "ticks": ""
             }
            },
            "type": "parcoords"
           }
          ],
          "pie": [
           {
            "automargin": true,
            "type": "pie"
           }
          ],
          "scatter": [
           {
            "fillpattern": {
             "fillmode": "overlay",
             "size": 10,
             "solidity": 0.2
            },
            "type": "scatter"
           }
          ],
          "scatter3d": [
           {
            "line": {
             "colorbar": {
              "outlinewidth": 0,
              "ticks": ""
             }
            },
            "marker": {
             "colorbar": {
              "outlinewidth": 0,
              "ticks": ""
             }
            },
            "type": "scatter3d"
           }
          ],
          "scattercarpet": [
           {
            "marker": {
             "colorbar": {
              "outlinewidth": 0,
              "ticks": ""
             }
            },
            "type": "scattercarpet"
           }
          ],
          "scattergeo": [
           {
            "marker": {
             "colorbar": {
              "outlinewidth": 0,
              "ticks": ""
             }
            },
            "type": "scattergeo"
           }
          ],
          "scattergl": [
           {
            "marker": {
             "colorbar": {
              "outlinewidth": 0,
              "ticks": ""
             }
            },
            "type": "scattergl"
           }
          ],
          "scattermapbox": [
           {
            "marker": {
             "colorbar": {
              "outlinewidth": 0,
              "ticks": ""
             }
            },
            "type": "scattermapbox"
           }
          ],
          "scatterpolar": [
           {
            "marker": {
             "colorbar": {
              "outlinewidth": 0,
              "ticks": ""
             }
            },
            "type": "scatterpolar"
           }
          ],
          "scatterpolargl": [
           {
            "marker": {
             "colorbar": {
              "outlinewidth": 0,
              "ticks": ""
             }
            },
            "type": "scatterpolargl"
           }
          ],
          "scatterternary": [
           {
            "marker": {
             "colorbar": {
              "outlinewidth": 0,
              "ticks": ""
             }
            },
            "type": "scatterternary"
           }
          ],
          "surface": [
           {
            "colorbar": {
             "outlinewidth": 0,
             "ticks": ""
            },
            "colorscale": [
             [
              0,
              "#0d0887"
             ],
             [
              0.1111111111111111,
              "#46039f"
             ],
             [
              0.2222222222222222,
              "#7201a8"
             ],
             [
              0.3333333333333333,
              "#9c179e"
             ],
             [
              0.4444444444444444,
              "#bd3786"
             ],
             [
              0.5555555555555556,
              "#d8576b"
             ],
             [
              0.6666666666666666,
              "#ed7953"
             ],
             [
              0.7777777777777778,
              "#fb9f3a"
             ],
             [
              0.8888888888888888,
              "#fdca26"
             ],
             [
              1,
              "#f0f921"
             ]
            ],
            "type": "surface"
           }
          ],
          "table": [
           {
            "cells": {
             "fill": {
              "color": "#EBF0F8"
             },
             "line": {
              "color": "white"
             }
            },
            "header": {
             "fill": {
              "color": "#C8D4E3"
             },
             "line": {
              "color": "white"
             }
            },
            "type": "table"
           }
          ]
         },
         "layout": {
          "annotationdefaults": {
           "arrowcolor": "#2a3f5f",
           "arrowhead": 0,
           "arrowwidth": 1
          },
          "autotypenumbers": "strict",
          "coloraxis": {
           "colorbar": {
            "outlinewidth": 0,
            "ticks": ""
           }
          },
          "colorscale": {
           "diverging": [
            [
             0,
             "#8e0152"
            ],
            [
             0.1,
             "#c51b7d"
            ],
            [
             0.2,
             "#de77ae"
            ],
            [
             0.3,
             "#f1b6da"
            ],
            [
             0.4,
             "#fde0ef"
            ],
            [
             0.5,
             "#f7f7f7"
            ],
            [
             0.6,
             "#e6f5d0"
            ],
            [
             0.7,
             "#b8e186"
            ],
            [
             0.8,
             "#7fbc41"
            ],
            [
             0.9,
             "#4d9221"
            ],
            [
             1,
             "#276419"
            ]
           ],
           "sequential": [
            [
             0,
             "#0d0887"
            ],
            [
             0.1111111111111111,
             "#46039f"
            ],
            [
             0.2222222222222222,
             "#7201a8"
            ],
            [
             0.3333333333333333,
             "#9c179e"
            ],
            [
             0.4444444444444444,
             "#bd3786"
            ],
            [
             0.5555555555555556,
             "#d8576b"
            ],
            [
             0.6666666666666666,
             "#ed7953"
            ],
            [
             0.7777777777777778,
             "#fb9f3a"
            ],
            [
             0.8888888888888888,
             "#fdca26"
            ],
            [
             1,
             "#f0f921"
            ]
           ],
           "sequentialminus": [
            [
             0,
             "#0d0887"
            ],
            [
             0.1111111111111111,
             "#46039f"
            ],
            [
             0.2222222222222222,
             "#7201a8"
            ],
            [
             0.3333333333333333,
             "#9c179e"
            ],
            [
             0.4444444444444444,
             "#bd3786"
            ],
            [
             0.5555555555555556,
             "#d8576b"
            ],
            [
             0.6666666666666666,
             "#ed7953"
            ],
            [
             0.7777777777777778,
             "#fb9f3a"
            ],
            [
             0.8888888888888888,
             "#fdca26"
            ],
            [
             1,
             "#f0f921"
            ]
           ]
          },
          "colorway": [
           "#636efa",
           "#EF553B",
           "#00cc96",
           "#ab63fa",
           "#FFA15A",
           "#19d3f3",
           "#FF6692",
           "#B6E880",
           "#FF97FF",
           "#FECB52"
          ],
          "font": {
           "color": "#2a3f5f"
          },
          "geo": {
           "bgcolor": "white",
           "lakecolor": "white",
           "landcolor": "#E5ECF6",
           "showlakes": true,
           "showland": true,
           "subunitcolor": "white"
          },
          "hoverlabel": {
           "align": "left"
          },
          "hovermode": "closest",
          "mapbox": {
           "style": "light"
          },
          "paper_bgcolor": "white",
          "plot_bgcolor": "#E5ECF6",
          "polar": {
           "angularaxis": {
            "gridcolor": "white",
            "linecolor": "white",
            "ticks": ""
           },
           "bgcolor": "#E5ECF6",
           "radialaxis": {
            "gridcolor": "white",
            "linecolor": "white",
            "ticks": ""
           }
          },
          "scene": {
           "xaxis": {
            "backgroundcolor": "#E5ECF6",
            "gridcolor": "white",
            "gridwidth": 2,
            "linecolor": "white",
            "showbackground": true,
            "ticks": "",
            "zerolinecolor": "white"
           },
           "yaxis": {
            "backgroundcolor": "#E5ECF6",
            "gridcolor": "white",
            "gridwidth": 2,
            "linecolor": "white",
            "showbackground": true,
            "ticks": "",
            "zerolinecolor": "white"
           },
           "zaxis": {
            "backgroundcolor": "#E5ECF6",
            "gridcolor": "white",
            "gridwidth": 2,
            "linecolor": "white",
            "showbackground": true,
            "ticks": "",
            "zerolinecolor": "white"
           }
          },
          "shapedefaults": {
           "line": {
            "color": "#2a3f5f"
           }
          },
          "ternary": {
           "aaxis": {
            "gridcolor": "white",
            "linecolor": "white",
            "ticks": ""
           },
           "baxis": {
            "gridcolor": "white",
            "linecolor": "white",
            "ticks": ""
           },
           "bgcolor": "#E5ECF6",
           "caxis": {
            "gridcolor": "white",
            "linecolor": "white",
            "ticks": ""
           }
          },
          "title": {
           "x": 0.05
          },
          "xaxis": {
           "automargin": true,
           "gridcolor": "white",
           "linecolor": "white",
           "ticks": "",
           "title": {
            "standoff": 15
           },
           "zerolinecolor": "white",
           "zerolinewidth": 2
          },
          "yaxis": {
           "automargin": true,
           "gridcolor": "white",
           "linecolor": "white",
           "ticks": "",
           "title": {
            "standoff": 15
           },
           "zerolinecolor": "white",
           "zerolinewidth": 2
          }
         }
        },
        "xaxis": {
         "anchor": "y",
         "domain": [
          0,
          1
         ],
         "title": {
          "text": "NormalizedValue"
         }
        },
        "yaxis": {
         "anchor": "x",
         "domain": [
          0,
          1
         ],
         "title": {
          "text": "StudentCount"
         }
        }
       }
      }
     },
     "metadata": {},
     "output_type": "display_data"
    }
   ],
   "source": [
    "#scatter plot\n",
    "fig = px.scatter(df10, y=\"StudentCount\", x=\"NormalizedValue\", color=\"Lecturer\")\n",
    "fig.show()"
   ]
  }
 ],
 "metadata": {
  "kernelspec": {
   "display_name": "Python 3",
   "language": "python",
   "name": "python3"
  },
  "language_info": {
   "codemirror_mode": {
    "name": "ipython",
    "version": 3
   },
   "file_extension": ".py",
   "mimetype": "text/x-python",
   "name": "python",
   "nbconvert_exporter": "python",
   "pygments_lexer": "ipython3",
   "version": "3.10.10"
  },
  "orig_nbformat": 4
 },
 "nbformat": 4,
 "nbformat_minor": 2
}
